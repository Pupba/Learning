{
  "nbformat": 4,
  "nbformat_minor": 0,
  "metadata": {
    "colab": {
      "provenance": [],
      "collapsed_sections": [],
      "authorship_tag": "ABX9TyOh+EZqYs7GuQJJ9NQqdKYS",
      "include_colab_link": true
    },
    "kernelspec": {
      "name": "python3",
      "display_name": "Python 3"
    },
    "language_info": {
      "name": "python"
    }
  },
  "cells": [
    {
      "cell_type": "markdown",
      "metadata": {
        "id": "view-in-github",
        "colab_type": "text"
      },
      "source": [
        "<a href=\"https://colab.research.google.com/github/pupba/Learning/blob/main/%5B%EA%B3%BC%EC%A0%9C1%5D_2%EC%9E%A5_%EC%83%88%EB%A1%9C%EC%9A%B4_%EC%83%98%ED%94%8C_%EB%91%90_%EA%B0%9C_%EC%98%88%EC%B8%A1%EA%B3%BC_%EB%8D%B0%EC%9D%B4%ED%84%B0_%EB%B3%80%ED%99%98.ipynb\" target=\"_parent\"><img src=\"https://colab.research.google.com/assets/colab-badge.svg\" alt=\"Open In Colab\"/></a>"
      ]
    },
    {
      "cell_type": "code",
      "source": [
        "# 데이터 준비\n",
        "fish_length = [25.4, 26.3, 26.5, 29.0, 29.0, 29.7, 29.7, 30.0, 30.0, 30.7, 31.0, 31.0, \n",
        "                31.5, 32.0, 32.0, 32.0, 33.0, 33.0, 33.5, 33.5, 34.0, 34.0, 34.5, 35.0, \n",
        "                35.0, 35.0, 35.0, 36.0, 36.0, 37.0, 38.5, 38.5, 39.5, 41.0, 41.0, 9.8, \n",
        "                10.5, 10.6, 11.0, 11.2, 11.3, 11.8, 11.8, 12.0, 12.2, 12.4, 13.0, 14.3, 15.0]\n",
        "fish_weight = [242.0, 290.0, 340.0, 363.0, 430.0, 450.0, 500.0, 390.0, 450.0, 500.0, 475.0, 500.0, \n",
        "                500.0, 340.0, 600.0, 600.0, 700.0, 700.0, 610.0, 650.0, 575.0, 685.0, 620.0, 680.0, \n",
        "                700.0, 725.0, 720.0, 714.0, 850.0, 1000.0, 920.0, 955.0, 925.0, 975.0, 950.0, 6.7, \n",
        "                7.5, 7.0, 9.7, 9.8, 8.7, 10.0, 9.9, 9.8, 12.2, 13.4, 12.2, 19.7, 19.9]\n",
        "\n",
        "import numpy as np\n",
        "fish_data = np.column_stack((fish_length, fish_weight))\n",
        "fish_target = np.concatenate((np.ones(35),np.zeros(14)))"
      ],
      "metadata": {
        "id": "_Jgl1yf4p9kj"
      },
      "execution_count": null,
      "outputs": []
    },
    {
      "cell_type": "code",
      "source": [
        "# 훈련 데이터, 검증 데이터 생성\n",
        "from sklearn.model_selection import train_test_split\n",
        "train_input,test_input,train_target,test_target = train_test_split(fish_data,fish_target,random_state=42)"
      ],
      "metadata": {
        "id": "A8UENPlvrN-_"
      },
      "execution_count": null,
      "outputs": []
    },
    {
      "cell_type": "code",
      "source": [
        "# 모델 훈련\n",
        "from sklearn.neighbors import KNeighborsClassifier\n",
        "kn = KNeighborsClassifier()\n",
        "\n",
        "# 수상한 물고기 2마리\n",
        "AnonyFishes = [[25, 150],[30,180]]"
      ],
      "metadata": {
        "id": "uCfws-4Ir3v-"
      },
      "execution_count": null,
      "outputs": []
    },
    {
      "cell_type": "code",
      "source": [
        "def isBream(fish):\n",
        "    print(f\"{fish}은\",end=\" \")\n",
        "    if kn.predict([fish]) == 1:\n",
        "        print(\"도미 입니다.\")\n",
        "    else :\n",
        "        print(\"빙어 입니다.\")"
      ],
      "metadata": {
        "id": "DJxjwJDdtTue"
      },
      "execution_count": null,
      "outputs": []
    },
    {
      "cell_type": "code",
      "source": [
        "import matplotlib.pyplot as plt\n",
        "def drawScatter(trainInput,fish,neighbors):\n",
        "    plt.scatter(trainInput[:,0],trainInput[:,1]) # 학습 데이터 전체\n",
        "    plt.scatter(fish[0],fish[1],marker=\"^\") # 새로운 물고기\n",
        "    plt.scatter(trainInput[neighbors,0],trainInput[neighbors,1],marker='D')\n",
        "    plt.xlabel('length')\n",
        "    plt.ylabel('weight')\n",
        "    plt.show()"
      ],
      "metadata": {
        "id": "oybtEsJ2vc6b"
      },
      "execution_count": null,
      "outputs": []
    },
    {
      "cell_type": "markdown",
      "source": [
        "## 1. 표준점수로 변환하지 않은 경우\n",
        "### 1-1. 새로운 샘플 두개의 예측 결과 출력\n",
        "### 1-2. 새로운 샘플 두개의 이웃정보 얻기\n",
        "### 1-3. [25,150] 샘플과 이웃들 시각화\n",
        "### 1-4. [30,180] 샘플과 이웃들 시각화"
      ],
      "metadata": {
        "id": "YY8OWEyLpV_r"
      }
    },
    {
      "cell_type": "code",
      "execution_count": null,
      "metadata": {
        "colab": {
          "base_uri": "https://localhost:8080/"
        },
        "id": "RfNGG3ZqpLpK",
        "outputId": "ace50046-1bc7-4105-e514-3bea07f23a5d"
      },
      "outputs": [
        {
          "output_type": "stream",
          "name": "stdout",
          "text": [
            "모델 성능 : 100.0% \n"
          ]
        }
      ],
      "source": [
        "kn.fit(train_input,train_target)\n",
        "print(\"모델 성능 :\",kn.score(test_input,test_target)*100,end=\"% \\n\")"
      ]
    },
    {
      "cell_type": "code",
      "source": [
        "# 1-1 예측 결과\n",
        "for fish in AnonyFishes:\n",
        "    isBream(fish)"
      ],
      "metadata": {
        "colab": {
          "base_uri": "https://localhost:8080/"
        },
        "id": "rzmdFNzCqAQw",
        "outputId": "a08bd683-e9f1-4eba-921a-86d2ba1c8c55"
      },
      "execution_count": null,
      "outputs": [
        {
          "output_type": "stream",
          "name": "stdout",
          "text": [
            "[25, 150]은 빙어 입니다.\n",
            "[30, 180]은 도미 입니다.\n"
          ]
        }
      ]
    },
    {
      "cell_type": "code",
      "source": [
        "# 1-2,3,4 이웃정보 얻기\n",
        "for fish in AnonyFishes:\n",
        "    print(f\"{fish}의 이웃\")\n",
        "    distances, indexes = kn.kneighbors([fish])\n",
        "    print(\"distances -->\\n\",distances)\n",
        "    print(\"indexs -->\\n\",indexes)\n",
        "    drawScatter(train_input,fish,indexes)\n",
        "    print(\"\\n\\n\")"
      ],
      "metadata": {
        "colab": {
          "base_uri": "https://localhost:8080/",
          "height": 831
        },
        "id": "lyNPTGC7utXt",
        "outputId": "29a9dabd-802a-4c38-869a-25378292a770"
      },
      "execution_count": null,
      "outputs": [
        {
          "output_type": "stream",
          "name": "stdout",
          "text": [
            "[25, 150]의 이웃\n",
            "distances -->\n",
            " [[ 92.00086956 130.48375378 138.32150953 140.00603558 140.62090883]]\n",
            "indexs -->\n",
            " [[12 29  5 19  4]]\n"
          ]
        },
        {
          "output_type": "display_data",
          "data": {
            "text/plain": [
              "<Figure size 432x288 with 1 Axes>"
            ],
            "image/png": "[encoded data removed]"
          },
          "metadata": {
            "needs_background": "light"
          }
        },
        {
          "output_type": "stream",
          "name": "stdout",
          "text": [
            "\n",
            "\n",
            "\n",
            "[30, 180]의 이웃\n",
            "distances -->\n",
            " [[ 62.17041097 110.06220968 160.03827667 160.80115049 168.6589458 ]]\n",
            "indexs -->\n",
            " [[12 19 21 29  5]]\n"
          ]
        },
        {
          "output_type": "display_data",
          "data": {
            "text/plain": [
              "<Figure size 432x288 with 1 Axes>"
            ],
            "image/png": "[encoded data removed]"
          },
          "metadata": {
            "needs_background": "light"
          }
        },
        {
          "output_type": "stream",
          "name": "stdout",
          "text": [
            "\n",
            "\n",
            "\n"
          ]
        }
      ]
    },
    {
      "cell_type": "markdown",
      "source": [
        "## 2. 표준점수로 변환한 경우\n",
        "### 2-1. 새로운 샘플 두개의 예측 결과\n",
        "### 2-2. 새로운 샘플 두개의 이웃정보 얻기\n",
        "### 2-3. [25,150] 샘플과 이웃들 시각화\n",
        "### 2-4. [30,180] 샘플과 이웃들 시각화"
      ],
      "metadata": {
        "id": "5xX36Y2ypfFv"
      }
    },
    {
      "cell_type": "code",
      "source": [
        "mean = np.mean(train_input,axis = 0)\n",
        "std = np.std(train_input,axis = 0)\n",
        "\n",
        "# 데이터 표준 데이터화\n",
        "train_scaled = (train_input - mean) / std\n",
        "test_scaled = (test_input-mean) / std\n",
        "fishes_scaled=(AnonyFishes - mean) / std"
      ],
      "metadata": {
        "id": "09eXMXY7pjbO"
      },
      "execution_count": null,
      "outputs": []
    },
    {
      "cell_type": "code",
      "source": [
        "kn.fit(train_scaled,train_target)\n",
        "print(\"모델 성능 :\",kn.score(test_scaled,test_target)*100,end=\"% \\n\")"
      ],
      "metadata": {
        "colab": {
          "base_uri": "https://localhost:8080/"
        },
        "id": "Wq-juduSxy7y",
        "outputId": "5aa8270e-2aad-4975-e216-c41334c0c9c9"
      },
      "execution_count": null,
      "outputs": [
        {
          "output_type": "stream",
          "name": "stdout",
          "text": [
            "모델 성능 : 100.0% \n"
          ]
        }
      ]
    },
    {
      "cell_type": "code",
      "source": [
        "def isBream_Scaled(fish):\n",
        "    if kn.predict([fish]) == 1:\n",
        "        print(\"도미 입니다.\")\n",
        "    else :\n",
        "        print(\"빙어 입니다.\")"
      ],
      "metadata": {
        "id": "2_2rWgi1yQCJ"
      },
      "execution_count": null,
      "outputs": []
    },
    {
      "cell_type": "code",
      "source": [
        "# 2-1 예측 결과\n",
        "for idx,fish in enumerate(fishes_scaled):\n",
        "    print(f\"{AnonyFishes[idx]}은\",end=\" \")\n",
        "    isBream_Scaled(fish)"
      ],
      "metadata": {
        "colab": {
          "base_uri": "https://localhost:8080/"
        },
        "id": "-dzxCA4KyCDH",
        "outputId": "907ebe24-60b6-48e2-87e9-3f18d141aaf1"
      },
      "execution_count": null,
      "outputs": [
        {
          "output_type": "stream",
          "name": "stdout",
          "text": [
            "[25, 150]은 도미 입니다.\n",
            "[30, 180]은 도미 입니다.\n"
          ]
        }
      ]
    },
    {
      "cell_type": "code",
      "source": [
        "# 2-2,3,4 이웃정보 얻기\n",
        "for idx,fish in enumerate(fishes_scaled):\n",
        "    print(f\"{AnonyFishes[idx]}의 이웃\")\n",
        "    distances, indexes = kn.kneighbors([fish])\n",
        "    print(\"distances -->\\n\",distances)\n",
        "    print(\"indexs -->\\n\",indexes)\n",
        "    drawScatter(train_scaled,fish,indexes)\n",
        "    print(\"\\n\\n\")"
      ],
      "metadata": {
        "colab": {
          "base_uri": "https://localhost:8080/",
          "height": 831
        },
        "id": "e10JYR96y1IX",
        "outputId": "f89ae4ac-403c-4fd0-dcda-0af6b2383538"
      },
      "execution_count": null,
      "outputs": [
        {
          "output_type": "stream",
          "name": "stdout",
          "text": [
            "[25, 150]의 이웃\n",
            "distances -->\n",
            " [[0.28867034 0.45345741 0.60864646 0.76935617 0.89243065]]\n",
            "indexs -->\n",
            " [[12 19 21  1 31]]\n"
          ]
        },
        {
          "output_type": "display_data",
          "data": {
            "text/plain": [
              "<Figure size 432x288 with 1 Axes>"
            ],
            "image/png": "[encoded data removed]"
          },
          "metadata": {
            "needs_background": "light"
          }
        },
        {
          "output_type": "stream",
          "name": "stdout",
          "text": [
            "\n",
            "\n",
            "\n",
            "[30, 180]의 이웃\n",
            "distances -->\n",
            " [[0.49000434 0.49823854 0.57725948 0.60406425 0.65282579]]\n",
            "indexs -->\n",
            " [[12 19  1 21 31]]\n"
          ]
        },
        {
          "output_type": "display_data",
          "data": {
            "text/plain": [
              "<Figure size 432x288 with 1 Axes>"
            ],
            "image/png": "[encoded data removed]"
          },
          "metadata": {
            "needs_background": "light"
          }
        },
        {
          "output_type": "stream",
          "name": "stdout",
          "text": [
            "\n",
            "\n",
            "\n"
          ]
        }
      ]
    }
  ]
}