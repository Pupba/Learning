{
  "nbformat": 4,
  "nbformat_minor": 0,
  "metadata": {
    "colab": {
      "provenance": [],
      "authorship_tag": "ABX9TyPEHvtsVDMiymPyaa2iCzpi",
      "include_colab_link": true
    },
    "kernelspec": {
      "name": "python3",
      "display_name": "Python 3"
    },
    "language_info": {
      "name": "python"
    }
  },
  "cells": [
    {
      "cell_type": "markdown",
      "metadata": {
        "id": "view-in-github",
        "colab_type": "text"
      },
      "source": [
        "<a href=\"https://colab.research.google.com/github/pupba/Learning/blob/main/%EC%95%8C%EA%B3%A0%EB%A6%AC%EC%A6%98%20%EA%B3%B5%EB%B6%80/BFS%2CDFS.ipynb\" target=\"_parent\"><img src=\"https://colab.research.google.com/assets/colab-badge.svg\" alt=\"Open In Colab\"/></a>"
      ]
    },
    {
      "cell_type": "code",
      "source": [
        "# 그래프\n",
        "graph = {\n",
        "    'A': ['B', 'C'],\n",
        "    'B': ['A', 'D'],\n",
        "    'C': ['A', 'E'],\n",
        "    'D': ['B'],\n",
        "    'E': ['C']\n",
        "}\n",
        "\"\"\"\n",
        "   A\n",
        "  / \\\n",
        " B   C\n",
        " |   |\n",
        " D   E\n",
        "\n",
        "\"\"\""
      ],
      "metadata": {
        "id": "euypZNjv0_0O"
      },
      "execution_count": null,
      "outputs": []
    },
    {
      "cell_type": "code",
      "execution_count": 2,
      "metadata": {
        "colab": {
          "base_uri": "https://localhost:8080/"
        },
        "id": "mn2I0FOzwp9Q",
        "outputId": "69d5302d-cc7d-40b3-c9ea-1ddfa9c12cd4"
      },
      "outputs": [
        {
          "output_type": "stream",
          "name": "stdout",
          "text": [
            "DFS:\n",
            "A B D C E "
          ]
        }
      ],
      "source": [
        "# BFS\n",
        "\n",
        "def dfs(node:str, visited=set())->None:\n",
        "    visited.add(node)\n",
        "    print(node, end=' ')\n",
        "\n",
        "    for neighbor in graph[node]:\n",
        "        if neighbor not in visited:\n",
        "            dfs(neighbor, visited)\n",
        "\n",
        "# 예시 그래프의 루트 노드인 'A'에서 DFS 시작\n",
        "print(\"DFS:\")\n",
        "dfs('A')"
      ]
    },
    {
      "cell_type": "code",
      "source": [
        "# DFS\n",
        "from collections import deque\n",
        "\n",
        "def bfs(start_node:str)->None:\n",
        "    visited = set()\n",
        "    queue = deque([start_node])\n",
        "\n",
        "    while queue:\n",
        "        node = queue.popleft()\n",
        "        if node not in visited:\n",
        "            visited.add(node)\n",
        "            print(node, end=' ')\n",
        "\n",
        "            for neighbor in graph[node]:\n",
        "                queue.append(neighbor)\n",
        "\n",
        "print(\"BFS:\")\n",
        "bfs('A')"
      ],
      "metadata": {
        "colab": {
          "base_uri": "https://localhost:8080/"
        },
        "id": "FXP9wO4l1sEm",
        "outputId": "6554bbdd-e9f8-4328-d3cf-a9ed5e93317d"
      },
      "execution_count": 5,
      "outputs": [
        {
          "output_type": "stream",
          "name": "stdout",
          "text": [
            "BFS:\n",
            "A B C D E "
          ]
        }
      ]
    }
  ]
}