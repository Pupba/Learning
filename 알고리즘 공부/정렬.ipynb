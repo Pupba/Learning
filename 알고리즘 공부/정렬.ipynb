{
  "nbformat": 4,
  "nbformat_minor": 0,
  "metadata": {
    "colab": {
      "provenance": [],
      "authorship_tag": "ABX9TyNdnCKL5Ug3UFAqLn34+XBO",
      "include_colab_link": true
    },
    "kernelspec": {
      "name": "python3",
      "display_name": "Python 3"
    },
    "language_info": {
      "name": "python"
    }
  },
  "cells": [
    {
      "cell_type": "markdown",
      "metadata": {
        "id": "view-in-github",
        "colab_type": "text"
      },
      "source": [
        "<a href=\"https://colab.research.google.com/github/pupba/Learning/blob/main/%EC%95%8C%EA%B3%A0%EB%A6%AC%EC%A6%98%20%EA%B3%B5%EB%B6%80/%EC%A0%95%EB%A0%AC.ipynb\" target=\"_parent\"><img src=\"https://colab.research.google.com/assets/colab-badge.svg\" alt=\"Open In Colab\"/></a>"
      ]
    },
    {
      "cell_type": "code",
      "source": [
        "from random import randint\n",
        "List = [randint(1,100) for _ in range(5)]\n",
        "print(List)"
      ],
      "metadata": {
        "colab": {
          "base_uri": "https://localhost:8080/"
        },
        "id": "31RehRKxlIYR",
        "outputId": "27cfcc15-a36e-4a51-ccad-d5805999cd15"
      },
      "execution_count": null,
      "outputs": [
        {
          "output_type": "stream",
          "name": "stdout",
          "text": [
            "[62, 52, 94, 50, 44]\n"
          ]
        }
      ]
    },
    {
      "cell_type": "code",
      "execution_count": null,
      "metadata": {
        "colab": {
          "base_uri": "https://localhost:8080/"
        },
        "id": "HSHG6oTlgNgv",
        "outputId": "f09e1297-5f3e-4cc1-8072-9e265b95fa3d"
      },
      "outputs": [
        {
          "output_type": "stream",
          "name": "stdout",
          "text": [
            "Pass 1 => [52, 62, 50, 44, 94]\n",
            "Pass 2 => [52, 50, 44, 62, 94]\n",
            "Pass 3 => [50, 44, 52, 62, 94]\n",
            "Pass 4 => [44, 50, 52, 62, 94]\n",
            "Pass 5 => [44, 50, 52, 62, 94]\n",
            "[94, 62, 52, 50, 44]\n"
          ]
        }
      ],
      "source": [
        "# 버블정렬\n",
        "from typing import Any\n",
        "def bubbleSort(List:list,reverse=False)->list:\n",
        "    l = List[:] # 카피\n",
        "    for i in reversed(range(len(l))):\n",
        "        for j in range(i):\n",
        "            if l[j] > l[j+1]:\n",
        "                tmp = l[j]\n",
        "                l[j] = l[j+1]\n",
        "                l[j+1] = tmp\n",
        "        print(f\"Pass {len(l)-i} => {l}\")\n",
        "    if reverse : # 내림차순\n",
        "        return l[::-1]\n",
        "    else: # 오름차순\n",
        "        return l\n",
        "\n",
        "print(bubbleSort(List,reverse = True))"
      ]
    },
    {
      "cell_type": "code",
      "source": [
        "# 선택 정렬\n",
        "def selectionSort(List:list,reverse=False)->list:\n",
        "    l = List[:]\n",
        "    for i in range(len(l)-1):\n",
        "        small = l[i]\n",
        "        for j in l[1+i:]:\n",
        "            if small > j:\n",
        "                small = j\n",
        "        l.remove(small)\n",
        "        l.insert(i,small)\n",
        "        print(f'Phase {i+1} -> {l}')\n",
        "\n",
        "    if reverse : # 내림차순\n",
        "        return l[::-1]\n",
        "    else: # 오름차순\n",
        "        return l\n",
        "\n",
        "\n",
        "print(selectionSort(List,reverse = True))"
      ],
      "metadata": {
        "colab": {
          "base_uri": "https://localhost:8080/"
        },
        "id": "rpfi5pCjsDjW",
        "outputId": "c930d9f5-4808-459f-a37b-4fd83c6bbb82"
      },
      "execution_count": null,
      "outputs": [
        {
          "output_type": "stream",
          "name": "stdout",
          "text": [
            "Phase 1 -> [44, 62, 52, 94, 50]\n",
            "Phase 2 -> [44, 50, 62, 52, 94]\n",
            "Phase 3 -> [44, 50, 52, 62, 94]\n",
            "Phase 4 -> [44, 50, 52, 62, 94]\n",
            "[94, 62, 52, 50, 44]\n"
          ]
        }
      ]
    },
    {
      "cell_type": "code",
      "source": [
        "# 삽입 정렬\n",
        "def insertionSort(List:list,reverse=False)->list:\n",
        "    l = List[:]\n",
        "    for i in range(1,len(l)):\n",
        "        item = l[i] # 정렬 안된 부분의 첫번째 원소\n",
        "        j = i-1 # 정렬된 부분의 마지막 인덱스\n",
        "        while j >= 0 and l[j] > item : # 정렬된 부분에서 key보다 큰 원소들은 오른쪽으로 이동\n",
        "            l[j + 1] = l[j]\n",
        "            j -= 1\n",
        "        l[j + 1] = item  # key를 삽입할 위치에 삽입\n",
        "        print(f'Phase {i} -> {l}')\n",
        "    if reverse : # 내림차순\n",
        "        return l[::-1]\n",
        "    else: # 오름차순\n",
        "        return l\n",
        "\n",
        "print(insertionSort(List,reverse = True))"
      ],
      "metadata": {
        "colab": {
          "base_uri": "https://localhost:8080/"
        },
        "id": "1h1GQck06Gd4",
        "outputId": "9382a350-86fa-44a3-b668-bbabcb033dc8"
      },
      "execution_count": null,
      "outputs": [
        {
          "output_type": "stream",
          "name": "stdout",
          "text": [
            "Phase 1 -> [52, 62, 94, 50, 44]\n",
            "Phase 2 -> [52, 62, 94, 50, 44]\n",
            "Phase 3 -> [50, 52, 62, 94, 44]\n",
            "Phase 4 -> [44, 50, 52, 62, 94]\n",
            "[94, 62, 52, 50, 44]\n"
          ]
        }
      ]
    },
    {
      "cell_type": "code",
      "source": [
        "# 셸 정렬\n",
        "\"\"\"\n",
        "1. 정렬할 배열과 간격(gap) 값을 설정합니다. 일반적으로 배열의 크기를 반으로 나눈 값을 초기 간격으로 설정합니다.\n",
        "2. 각 간격별로 배열을 부분 배열로 나눕니다.\n",
        "3. 부분 배열마다 삽입 정렬을 수행하여 해당 부분 배열을 정렬합니다.\n",
        "4. 간격을 줄여가며 위의 과정을 반복합니다.\n",
        "5. 간격이 1이 될 때까지 위의 과정을 반복하여 최종적으로 전체 배열을 정렬합니다.\n",
        "\"\"\"\n",
        "def shellSort(List:list,reverse=False)->list:\n",
        "    l = List[:]\n",
        "    n = len(l)\n",
        "    gap = n // 2  # 초기 간격 설정\n",
        "    count = 1\n",
        "    while gap > 0:\n",
        "        for i in range(gap, n):\n",
        "            temp = l[i]\n",
        "            j = i\n",
        "\n",
        "            while j >= gap and l[j - gap] > temp:\n",
        "                l[j] = l[j - gap]\n",
        "                j -= gap\n",
        "\n",
        "            l[j] = temp\n",
        "\n",
        "        gap //= 2  # 간격을 절반으로 줄임\n",
        "\n",
        "        print(f'Phase {count} -> {l}')\n",
        "        count+=1\n",
        "\n",
        "    if reverse : # 내림차순\n",
        "        return l[::-1]\n",
        "    else: # 오름차순\n",
        "        return l\n",
        "\n",
        "print(shellSort(List,reverse = True))"
      ],
      "metadata": {
        "colab": {
          "base_uri": "https://localhost:8080/"
        },
        "id": "pLZhLvrGZp9b",
        "outputId": "79cd3ea4-94b4-4326-8c3f-5ca7c9686b00"
      },
      "execution_count": null,
      "outputs": [
        {
          "output_type": "stream",
          "name": "stdout",
          "text": [
            "Phase 1 -> [44, 50, 62, 52, 94]\n",
            "Phase 2 -> [44, 50, 52, 62, 94]\n",
            "[94, 62, 52, 50, 44]\n"
          ]
        }
      ]
    },
    {
      "cell_type": "code",
      "source": [
        "# 퀵 정렬\n",
        "\"\"\"\n",
        "1. 주어진 배열을 힙으로 구성합니다. 이를 위해 배열을 완전 이진 트리로 표현하고, 아래에서부터 힙 특성을 만족하도록 요소들을 재배치합니다. 최대 힙의 경우, 부모 노드는 항상 자식 노드들보다 크거나 같은 값을 갖습니다.\n",
        "2. 힙에서 최대(또는 최소) 값을 추출하여 배열의 뒷부분에 저장합니다. 이를 위해 힙의 루트 노드(최대 힙의 경우 가장 큰 값)를 뒷부분과 교환하고, 힙의 크기를 줄여 힙 특성을 유지합니다.\n",
        "3. 위의 과정을 힙의 크기가 1이 될 때까지 반복합니다.\n",
        "\"\"\"\n",
        "def quickSort(List:list)->list:\n",
        "    if len(List) <= 1:\n",
        "        return List\n",
        "    pivot = List[len(List) // 2]  # 기준 값 선택\n",
        "    left = [x for x in List if x < pivot]  # 기준 값보다 작은 값들\n",
        "    middle = [x for x in List if x == pivot]  # 기준 값과 같은 값들\n",
        "    right = [x for x in List if x > pivot]  # 기준 값보다 큰 값들\n",
        "\n",
        "    return quickSort(left) + middle + quickSort(right)  # 재귀적으로 정렬 후 병합\n",
        "print(quickSort(List[:]))"
      ],
      "metadata": {
        "colab": {
          "base_uri": "https://localhost:8080/"
        },
        "id": "kN3ZE4E4bJ97",
        "outputId": "45ff5931-b9b0-4b93-ec24-70d623632b22"
      },
      "execution_count": null,
      "outputs": [
        {
          "output_type": "stream",
          "name": "stdout",
          "text": [
            "[44, 50, 52, 62, 94]\n"
          ]
        }
      ]
    },
    {
      "cell_type": "code",
      "source": [
        "# 병합 정렬\n",
        "\"\"\"\n",
        "1. 배열을 반으로 나눕니다. 이를 위해 배열의 중간 인덱스를 찾고, 중간 인덱스를 기준으로 왼쪽과 오른쪽 부분 배열로 나눕니다.\n",
        "2. 나누어진 부분 배열에 대해 재귀적으로 병합 정렬을 수행합니다. 재귀 호출을 통해 부분 배열을 계속해서 더 작은 단위로 나누어 정렬합니다.\n",
        "3. 나누어진 부분 배열을 병합합니다. 병합은 두 개의 정렬된 부분 배열을 비교하면서 작은 값을 차례대로 새로운 배열에 저장하는 과정입니다.\n",
        "4. 병합이 완료된 배열을 반환합니다.\n",
        "\"\"\"\n",
        "def mergeSort(List:list)->list:\n",
        "    if len(List) <= 1:\n",
        "        return List\n",
        "\n",
        "    # 배열을 반으로 나누기\n",
        "    mid = len(List) // 2\n",
        "    left = List[:mid]\n",
        "    right = List[mid:]\n",
        "\n",
        "    # 나눈 배열에 대해 재귀적으로 병합 정렬 수행\n",
        "    left = mergeSort(left)\n",
        "    right = mergeSort(right)\n",
        "\n",
        "    # 정렬된 배열 병합\n",
        "    merged = merge(left, right)\n",
        "    return merged\n",
        "\n",
        "\n",
        "def merge(left:list, right:list)->list:\n",
        "    merged = []\n",
        "    i = j = 0\n",
        "\n",
        "    # 두 배열을 비교하며 작은 값을 차례대로 merged 배열에 추가\n",
        "    while i < len(left) and j < len(right):\n",
        "        if left[i] <= right[j]:\n",
        "            merged.append(left[i])\n",
        "            i += 1\n",
        "        else:\n",
        "            merged.append(right[j])\n",
        "            j += 1\n",
        "\n",
        "    # 남은 요소들을 merged 배열에 추가\n",
        "    while i < len(left):\n",
        "        merged.append(left[i])\n",
        "        i += 1\n",
        "    while j < len(right):\n",
        "        merged.append(right[j])\n",
        "        j += 1\n",
        "\n",
        "    return merged\n",
        "\n",
        "print(mergeSort(List))"
      ],
      "metadata": {
        "colab": {
          "base_uri": "https://localhost:8080/"
        },
        "id": "HgigThylbLSh",
        "outputId": "747fc507-666c-429a-c037-6635c0c05580"
      },
      "execution_count": null,
      "outputs": [
        {
          "output_type": "stream",
          "name": "stdout",
          "text": [
            "[44, 50, 52, 62, 94]\n"
          ]
        }
      ]
    },
    {
      "cell_type": "code",
      "source": [
        "# 힙 정렬\n",
        "\"\"\"\n",
        "1. 주어진 배열을 힙으로 구성합니다. 이를 위해 배열을 완전 이진 트리로 표현하고, 아래에서부터 힙 특성을 만족하도록 요소들을 재배치합니다. 최대 힙의 경우, 부모 노드는 항상 자식 노드들보다 크거나 같은 값을 갖습니다.\n",
        "2. 힙에서 최대(또는 최소) 값을 추출하여 배열의 뒷부분에 저장합니다. 이를 위해 힙의 루트 노드(최대 힙의 경우 가장 큰 값)를 뒷부분과 교환하고, 힙의 크기를 줄여 힙 특성을 유지합니다.\n",
        "3. 위의 과정을 힙의 크기가 1이 될 때까지 반복합니다.\n",
        "\"\"\"\n",
        "def heapify(List:list, n:int, i:int)->list:\n",
        "    largest = i\n",
        "    left = 2 * i + 1\n",
        "    right = 2 * i + 2\n",
        "\n",
        "    if left < n and List[left] > List[largest]:\n",
        "        largest = left\n",
        "\n",
        "    if right < n and List[right] > List[largest]:\n",
        "        largest = right\n",
        "\n",
        "    if largest != i:\n",
        "        List[i], List[largest] = List[largest], List[i]\n",
        "        heapify(List, n, largest)\n",
        "\n",
        "\n",
        "def heapSort(List:list,reverse=False)->list:\n",
        "    l = List[:]\n",
        "    n = len(l)\n",
        "\n",
        "    # 최대 힙 구성\n",
        "    for i in range(n // 2 - 1, -1, -1):\n",
        "        heapify(l, n, i)\n",
        "\n",
        "    # 힙에서 요소 추출하여 정렬\n",
        "    for i in range(n - 1, 0, -1):\n",
        "        l[i], l[0] = l[0], l[i]  # 힙의 루트와 맨 뒤 요소 교환\n",
        "        heapify(l, i, 0)  # 힙 특성 유지\n",
        "\n",
        "    if reverse : # 내림차순\n",
        "        return l[::-1]\n",
        "    else: # 오름차순\n",
        "        return l\n",
        "\n",
        "print(heapSort(List,reverse=True))"
      ],
      "metadata": {
        "colab": {
          "base_uri": "https://localhost:8080/"
        },
        "id": "vvMGU1lsbMWO",
        "outputId": "5befaec5-653f-4d2e-c4ca-13cf781eb1a3"
      },
      "execution_count": null,
      "outputs": [
        {
          "output_type": "stream",
          "name": "stdout",
          "text": [
            "[94, 62, 52, 50, 44]\n"
          ]
        }
      ]
    },
    {
      "cell_type": "code",
      "source": [
        "# 도수 정렬\n",
        "\"\"\"\n",
        "1. 입력 배열의 원소들을 순회하며, 각 값의 빈도수를 카운트합니다. 이를 위해 카운트 배열을 사용합니다. 카운트 배열의 인덱스는 입력 배열의 값, 값에 해당하는 인덱스의 요소는 해당 값의 빈도수를 나타냅니다.\n",
        "2. 카운트 배열을 누적합으로 변경합니다. 이를 통해 각 값이 정렬된 결과에서 위치할 인덱스를 결정할 수 있습니다.\n",
        "3. 입력 배열을 역순으로 순회하며, 각 값의 위치를 찾아 정렬된 결과 배열에 넣습니다. 동일한 값이 여러 개일 경우, 카운트 배열을 업데이트하여 다음 위치를 찾을 수 있도록 합니다.\n",
        "4. 정렬된 결과 배열을 반환합니다.\n",
        "\"\"\"\n",
        "def countingSort(List:list,reverse=False)->list:\n",
        "    max_value = max(List)\n",
        "    count = [0] * (max_value + 1)\n",
        "    l = List[:]\n",
        "\n",
        "    # 입력 배열의 값들을 카운트\n",
        "    for num in l:\n",
        "        count[num] += 1\n",
        "\n",
        "    # 카운트 배열을 누적합으로 변경\n",
        "    for i in range(1, len(count)):\n",
        "        count[i] += count[i - 1]\n",
        "\n",
        "    # 입력 배열을 역순으로 순회하며 정렬된 결과 생성\n",
        "    sorted_arr = [0] * len(l)\n",
        "    for num in reversed(l):\n",
        "        index = count[num] - 1\n",
        "        sorted_arr[index] = num\n",
        "        count[num] -= 1\n",
        "\n",
        "    if reverse : # 내림차순\n",
        "        return sorted_arr[::-1]\n",
        "    else: # 오름차순\n",
        "        return sorted_arr\n",
        "\n",
        "print(countingSort(List,reverse=True))"
      ],
      "metadata": {
        "colab": {
          "base_uri": "https://localhost:8080/"
        },
        "id": "nGQA9b2B5yi5",
        "outputId": "83368f86-85d9-4b3c-87b4-30118a2ef728"
      },
      "execution_count": null,
      "outputs": [
        {
          "output_type": "stream",
          "name": "stdout",
          "text": [
            "[94, 62, 52, 50, 44]\n"
          ]
        }
      ]
    }
  ]
}