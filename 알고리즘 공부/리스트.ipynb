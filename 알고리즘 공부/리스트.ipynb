{
  "nbformat": 4,
  "nbformat_minor": 0,
  "metadata": {
    "colab": {
      "provenance": [],
      "authorship_tag": "ABX9TyObFeBx458mUtL05aBx53EL",
      "include_colab_link": true
    },
    "kernelspec": {
      "name": "python3",
      "display_name": "Python 3"
    },
    "language_info": {
      "name": "python"
    }
  },
  "cells": [
    {
      "cell_type": "markdown",
      "metadata": {
        "id": "view-in-github",
        "colab_type": "text"
      },
      "source": [
        "<a href=\"https://colab.research.google.com/github/pupba/Learning/blob/main/%EC%95%8C%EA%B3%A0%EB%A6%AC%EC%A6%98%20%EA%B3%B5%EB%B6%80/%EB%A6%AC%EC%8A%A4%ED%8A%B8.ipynb\" target=\"_parent\"><img src=\"https://colab.research.google.com/assets/colab-badge.svg\" alt=\"Open In Colab\"/></a>"
      ]
    },
    {
      "cell_type": "code",
      "execution_count": null,
      "metadata": {
        "colab": {
          "base_uri": "https://localhost:8080/"
        },
        "id": "7BE0EBo7Yean",
        "outputId": "3ad8e433-3771-4fae-b6e7-5edc3c950b66"
      },
      "outputs": [
        {
          "output_type": "stream",
          "name": "stdout",
          "text": [
            "10 크기의 리스트 생성!\n",
            "---------------List---------------\n",
            "[None, None, None, None, None, None, None, None, None, None]\n",
            "---------------List---------------\n",
            "[None, None, 'hello', None, None, None, None, None, None, None]\n"
          ]
        }
      ],
      "source": [
        "# 리스트\n",
        "from typing import Any\n",
        "\n",
        "class List:\n",
        "    def __init__(self,size:int)->None:\n",
        "        self.size = size\n",
        "        print(f\"{self.size} 크기의 리스트 생성!\")\n",
        "        self.__container = [None] * self.size\n",
        "\n",
        "    def getter(self,index:int)->Any: return self.__container[index]\n",
        "\n",
        "    def setter(self,item:Any,index:int)->None : self.__container[index] = item\n",
        "\n",
        "    def add(self,item:Any,index:int)->None:\n",
        "        self.__container[index] = item\n",
        "\n",
        "    def remove(self,index:int)->None:\n",
        "        self.__container[index] = None\n",
        "\n",
        "    def showAll(self)->None:\n",
        "        print(\"---------------List---------------\")\n",
        "        print(self.__container)\n",
        "\n",
        "l = List(10)\n",
        "l.showAll()\n",
        "l.add(\"hello\",2)\n",
        "l.showAll()"
      ]
    },
    {
      "cell_type": "code",
      "source": [
        "# 연결 리스트\n",
        "from typing import Any\n",
        "\n",
        "# 노드\n",
        "class Node:\n",
        "    def __init__(self,item:Any,next:Any)->None:\n",
        "        self.__item = item # 저장할 값\n",
        "        self.__next = next # 다음 노드\n",
        "    def getItem(self)->Any: return self.__item\n",
        "    def getNode(self)->Any: return self.__next\n",
        "    def setItem(self,item:Any)->None: self.__item = item\n",
        "    def setNode(self,next:Any)->None: self.__next = next\n",
        "    def __del__(self) : print(\"노드 삭제!\")\n",
        "\n",
        "class LinkedList:\n",
        "    def __init__(self)->None:\n",
        "        self.head = None\n",
        "        self.cur = None\n",
        "\n",
        "    def add(self,item:Any)->None:\n",
        "        if self.head == None : # 아무것도 없는 상태\n",
        "            self.head = Node(item,None)\n",
        "            self.cur = self.head\n",
        "        else :\n",
        "            self.cur.setNode(Node(item,None))\n",
        "            self.cur = self.cur.getNode()\n",
        "\n",
        "    def __search(self,key:Any)->Node:\n",
        "        next = self.head\n",
        "        target = None\n",
        "        prTarget = None\n",
        "        while True:\n",
        "            if next == None:\n",
        "                break\n",
        "            elif next.getNode() != None and next.getNode().getItem() == key:\n",
        "                target = next.getNode()\n",
        "                prTarget = next\n",
        "                break\n",
        "\n",
        "            next = next.getNode()\n",
        "\n",
        "        if target != None:\n",
        "            return target,prTarget\n",
        "        else:\n",
        "            return -1,None\n",
        "\n",
        "    def remove(self,key)->None:\n",
        "        t,p = self.__search(key)\n",
        "        if t == -1:\n",
        "            print(\"값이 리스트에 없습니다.\")\n",
        "        else :\n",
        "            p.setNode(t.getNode())\n",
        "            del t\n",
        "\n",
        "    def showAll(self)->None:\n",
        "        next = self.head\n",
        "        while True:\n",
        "            if next.getNode() == None:\n",
        "                print(next.getItem())\n",
        "                break\n",
        "            else:\n",
        "                print(f\"{next.getItem()} -> \", end='')\n",
        "                next = next.getNode()\n",
        "\n",
        "l = LinkedList()\n",
        "l.add(10)\n",
        "l.add(20)\n",
        "l.add(30)\n",
        "l.add(60)\n",
        "l.add(40)\n",
        "l.showAll()\n",
        "l.remove(70)\n",
        "l.remove(30)\n",
        "l.showAll()"
      ],
      "metadata": {
        "id": "ehFuScXbkGl2",
        "colab": {
          "base_uri": "https://localhost:8080/"
        },
        "outputId": "9e8e956f-e073-426e-c107-dcdc7ddc9c6b"
      },
      "execution_count": null,
      "outputs": [
        {
          "output_type": "stream",
          "name": "stdout",
          "text": [
            "10 -> 20 -> 30 -> 60 -> 40\n",
            "값이 리스트에 없습니다.\n",
            "노드 삭제!\n",
            "10 -> 20 -> 60 -> 40\n",
            "노드 삭제!\n",
            "노드 삭제!\n",
            "노드 삭제!\n",
            "노드 삭제!\n"
          ]
        }
      ]
    },
    {
      "cell_type": "code",
      "source": [
        "# 이중 연결 리스트\n",
        "from typing import Any\n",
        "\n",
        "class Node:\n",
        "    def __init__(self,item:Any,next:Any)->None:\n",
        "        self.__item = item\n",
        "        self.__pre = None\n",
        "        self.__next = None\n",
        "    def getItem(self)->Any : return self.__item\n",
        "    def setItem(self,item:Any)->None : self.__item = item\n",
        "    def getPre(self)->Any : return self.__pre\n",
        "    def setPre(self,pre:Any)->None : self.__pre = pre\n",
        "    def getNext(self)->Any : return self.__next\n",
        "    def setNext(self,next:Any)->None : self.__next = next\n",
        "    def __del__(self) : print(\"노드 삭제!\")\n",
        "\n",
        "class DoublyLinkedList:\n",
        "    def __init__(self):\n",
        "        self.head = None\n",
        "        self.cur = None\n",
        "\n",
        "    def add(self,item:Any)->None:\n",
        "        if self.head == None : # 아무것도 없는 상태\n",
        "            self.head = Node(item,None)\n",
        "            self.cur = self.head\n",
        "        else :\n",
        "            self.cur.setNext(Node(item,None))\n",
        "            self.cur = self.cur.getNext()\n",
        "\n",
        "    def __search(self,key:Any)->Node:\n",
        "        next = self.head\n",
        "        target = None\n",
        "        prTarget = None\n",
        "        while True:\n",
        "            if next == None:\n",
        "                break\n",
        "            elif next.getNext() != None and next.getNext().getItem() == key:\n",
        "                target = next.getNext()\n",
        "                prTarget = next\n",
        "                break\n",
        "\n",
        "            next = next.getNext()\n",
        "\n",
        "        if target != None:\n",
        "            return target,prTarget\n",
        "        else:\n",
        "            return -1,None\n",
        "\n",
        "    def remove(self,key)->None:\n",
        "        t,p = self.__search(key)\n",
        "        if t == -1:\n",
        "            print(\"값이 리스트에 없습니다.\")\n",
        "        else :\n",
        "            p.setNext(t.getNext())\n",
        "            del t\n",
        "\n",
        "    def showAll(self)->None:\n",
        "        next = self.head\n",
        "        while True:\n",
        "            if next.getNext() == None:\n",
        "                print(next.getItem())\n",
        "                break\n",
        "            else:\n",
        "                print(f\"{next.getItem()} <-> \", end='')\n",
        "                next = next.getNext()\n",
        "\n",
        "dl = DoublyLinkedList()\n",
        "dl.add(10)\n",
        "dl.add(20)\n",
        "dl.add(30)\n",
        "dl.add(60)\n",
        "dl.add(40)\n",
        "dl.showAll()\n",
        "dl.remove(70)\n",
        "dl.remove(30)\n",
        "dl.showAll()"
      ],
      "metadata": {
        "colab": {
          "base_uri": "https://localhost:8080/"
        },
        "id": "VVIyYCyY2bOZ",
        "outputId": "5ea777ca-331f-4e97-e175-916d083504c3"
      },
      "execution_count": 45,
      "outputs": [
        {
          "output_type": "stream",
          "name": "stdout",
          "text": [
            "10 <-> 20 <-> 30 <-> 60 <-> 40\n",
            "값이 리스트에 없습니다.\n",
            "노드 삭제!\n",
            "10 <-> 20 <-> 60 <-> 40\n",
            "노드 삭제!\n",
            "노드 삭제!\n",
            "노드 삭제!\n",
            "노드 삭제!\n"
          ]
        }
      ]
    }
  ]
}