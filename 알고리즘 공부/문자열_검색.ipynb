{
  "nbformat": 4,
  "nbformat_minor": 0,
  "metadata": {
    "colab": {
      "provenance": [],
      "authorship_tag": "ABX9TyNbTZ2f1qU9ueDGWAvk1CpW",
      "include_colab_link": true
    },
    "kernelspec": {
      "name": "python3",
      "display_name": "Python 3"
    },
    "language_info": {
      "name": "python"
    }
  },
  "cells": [
    {
      "cell_type": "markdown",
      "metadata": {
        "id": "view-in-github",
        "colab_type": "text"
      },
      "source": [
        "<a href=\"https://colab.research.google.com/github/pupba/Learning/blob/main/%EC%95%8C%EA%B3%A0%EB%A6%AC%EC%A6%98%20%EA%B3%B5%EB%B6%80/%EB%AC%B8%EC%9E%90%EC%97%B4_%EA%B2%80%EC%83%89.ipynb\" target=\"_parent\"><img src=\"https://colab.research.google.com/assets/colab-badge.svg\" alt=\"Open In Colab\"/></a>"
      ]
    },
    {
      "cell_type": "code",
      "execution_count": 4,
      "metadata": {
        "colab": {
          "base_uri": "https://localhost:8080/"
        },
        "id": "HMQd0upfzhqZ",
        "outputId": "acec5d63-b2f8-42ca-ba00-0413cae629bc"
      },
      "outputs": [
        {
          "output_type": "stream",
          "name": "stdout",
          "text": [
            "영어 문자열을 입력해주세요 : ㅣ\n",
            "\"ㅣ\" match? -> No\n",
            "문자열 내에 C가 없습니다.\n"
          ]
        }
      ],
      "source": [
        "# 브루트 포스\n",
        "# 문자열에서 C 찾기(대소문자 구분 X)\n",
        "string = input(\"영어 문자열을 입력해주세요 : \")\n",
        "matchContainer = []\n",
        "for idx,c in enumerate(string):\n",
        "    if c.upper() == 'C':\n",
        "        print(f'\"{c}\" match? -> Yes')\n",
        "        matchContainer.append(idx)\n",
        "    else:\n",
        "        print(f'\"{c}\" match? -> No')\n",
        "if matchContainer == []:\n",
        "    print(\"문자열 내에 C가 없습니다.\")\n",
        "else:\n",
        "    print(f\"문자열 {string}에서 C의 위치는 -> {matchContainer}입니다.\")"
      ]
    },
    {
      "cell_type": "code",
      "source": [
        "# 멤버십 연산자1\n",
        "string1 = input(\"문자열을 입력해주세요 : \")\n",
        "string2 = input(\"찾을 문자열을 입력해주세요 : \")\n",
        "print(f'입력된 문자열 -> {string1}')\n",
        "print(f\"'{string2}'가 '{string1}'안에 있습니다.\") if string2 in string1 else print(f\"'{string2}'가 '{string1}'안에 없습니다.\")"
      ],
      "metadata": {
        "colab": {
          "base_uri": "https://localhost:8080/"
        },
        "id": "dkfrihATBdcj",
        "outputId": "e53df7ad-87f4-4fd5-fe9b-1a484560ae95"
      },
      "execution_count": 7,
      "outputs": [
        {
          "output_type": "stream",
          "name": "stdout",
          "text": [
            "문자열을 입력해주세요 : 안녕하세요\n",
            "찾을 문자열을 입력해주세요 : 안녕\n",
            "입력된 문자열 -> 안녕하세요\n",
            "'안녕'가 '안녕하세요'안에 있습니다.\n"
          ]
        }
      ]
    },
    {
      "cell_type": "code",
      "source": [
        "# 멤버십 연산자2\n",
        "string1 = input(\"문자열을 입력해주세요 : \")\n",
        "string2 = input(\"찾을 문자열을 입력해주세요 : \")\n",
        "print(f'입력된 문자열 -> {string1}')\n",
        "print(f\"'{string2}'가 '{string1}'안에 없습니다.\") if string2 not in string1 else print(f\"'{string2}'가 '{string1}'안에 있습니다.\")"
      ],
      "metadata": {
        "colab": {
          "base_uri": "https://localhost:8080/"
        },
        "id": "nG6yMdveB8IZ",
        "outputId": "ff6f7eb9-a8ef-4d8d-9c66-ad682ffe1d00"
      },
      "execution_count": 8,
      "outputs": [
        {
          "output_type": "stream",
          "name": "stdout",
          "text": [
            "문자열을 입력해주세요 : 안녕\n",
            "찾을 문자열을 입력해주세요 : 바보\n",
            "입력된 문자열 -> 안녕\n",
            "'바보'가 '안녕'안에 없습니다.\n"
          ]
        }
      ]
    },
    {
      "cell_type": "code",
      "source": [
        "# 표준 라이브러리\n",
        "text = input(\"문자열을 입력해주세요 : \")\n",
        "target = input(\"찾을 문자열을 입력해주세요 : \")\n",
        "\n",
        "# find\n",
        "print(\"------------find()------------\")\n",
        "result = text.find(target)\n",
        "print(f\"'{target}'은 [{result}]위치에 있습니다.\") if result != -1 else print(f\"찾는 문자열이 '{text}'에 없습니다.\")\n",
        "print(\"------------------------------\")\n",
        "# rfind\n",
        "print(\"------------rfind()------------\")\n",
        "result = text.rfind(target)\n",
        "print(f\"'{target}'은 [{result}]위치에 있습니다.\") if result != -1 else print(f\"찾는 문자열이 '{text}'에 없습니다.\")\n",
        "print(\"-------------------------------\")\n",
        "# index\n",
        "try:\n",
        "    print(\"------------index()------------\")\n",
        "    result=text.index(target)\n",
        "    print(f\"'{target}'은 [{result}]위치에 있습니다.\")\n",
        "    print(\"-------------------------------\")\n",
        "except ValueError as ve:\n",
        "    print(f\"찾는 문자열이 '{text}'에 없습니다.\")\n",
        "    print(\"-------------------------------\")\n",
        "# rindex\n",
        "try:\n",
        "    print(\"------------rindex()------------\")\n",
        "    result=text.rindex(target)\n",
        "    print(f\"'{target}'은 [{result}]위치에 있습니다.\")\n",
        "    print(\"--------------------------------\")\n",
        "except ValueError as ve:\n",
        "    print(f\"찾는 문자열이 '{text}'에 없습니다.\")\n",
        "    print(\"-------------------------------\")\n",
        "# startswith\n",
        "print(\"------------startswith()------------\")\n",
        "print(f\"문자열이 '{target}'로 시작합니다.\") if text.startswith(target) else print(f\"문자열이 '{target}'로 시작하지 않습니다.\")\n",
        "print(\"------------------------------------\")\n",
        "# endswith\n",
        "print(\"------------endswith()------------\")\n",
        "print(f\"문자열이 '{target}'로 끝납니다.\") if text.endswith(target) else print(f\"문자열이 '{target}'로 끝나지 않습니다.\")\n",
        "print(\"----------------------------------\")"
      ],
      "metadata": {
        "colab": {
          "base_uri": "https://localhost:8080/"
        },
        "id": "4_yAVtT8JIM2",
        "outputId": "5d82773c-d45b-4562-ed02-2897a40d0401"
      },
      "execution_count": 16,
      "outputs": [
        {
          "output_type": "stream",
          "name": "stdout",
          "text": [
            "문자열을 입력해주세요 : 아잉사랑\n",
            "찾을 문자열을 입력해주세요 : 아잉\n",
            "------------find()------------\n",
            "'아잉'은 [0]위치에 있습니다.\n",
            "------------------------------\n",
            "------------rfind()------------\n",
            "'아잉'은 [0]위치에 있습니다.\n",
            "-------------------------------\n",
            "------------index()------------\n",
            "'아잉'은 [0]위치에 있습니다.\n",
            "-------------------------------\n",
            "------------rindex()------------\n",
            "'아잉'은 [0]위치에 있습니다.\n",
            "--------------------------------\n",
            "------------startswith()------------\n",
            "문자열이 '아잉'로 시작합니다.\n",
            "------------------------------------\n",
            "------------endswith()------------\n",
            "문자열이 '아잉'로 끝나지 않습니다.\n",
            "----------------------------------\n"
          ]
        }
      ]
    },
    {
      "cell_type": "code",
      "source": [
        "import re\n",
        "text = input(\"문자열을 입력해주세요 : \")"
      ],
      "metadata": {
        "colab": {
          "base_uri": "https://localhost:8080/"
        },
        "id": "rkYZ57y4NdfK",
        "outputId": "5c057589-aa31-446e-be6e-7243a0933d40"
      },
      "execution_count": 17,
      "outputs": [
        {
          "name": "stdout",
          "output_type": "stream",
          "text": [
            "문자열을 입력해주세요 : hello word apples\n"
          ]
        }
      ]
    },
    {
      "cell_type": "code",
      "source": [
        "# search\n",
        "pattern = r\"World\"\n",
        "match = re.search(pattern, text)\n",
        "if match:\n",
        "    print(\"일치하는 문자열:\", match.group())\n",
        "else:\n",
        "    print(\"일치하는 문자열이 없습니다.\")"
      ],
      "metadata": {
        "colab": {
          "base_uri": "https://localhost:8080/"
        },
        "id": "8blHJDYZQ6J3",
        "outputId": "f272fe13-a612-4436-98b8-633bc4878652"
      },
      "execution_count": 18,
      "outputs": [
        {
          "output_type": "stream",
          "name": "stdout",
          "text": [
            "일치하는 문자열이 없습니다.\n"
          ]
        }
      ]
    },
    {
      "cell_type": "code",
      "source": [
        "# match\n",
        "pattern = r\"Hello\"\n",
        "match = re.match(pattern, text)\n",
        "if match:\n",
        "    print(\"일치하는 문자열:\", match.group())\n",
        "else:\n",
        "    print(\"일치하는 문자열이 없습니다.\")"
      ],
      "metadata": {
        "colab": {
          "base_uri": "https://localhost:8080/"
        },
        "id": "gfYembN6Q9hB",
        "outputId": "dbf4c50e-0f93-42de-cf2d-cbdb3dad8035"
      },
      "execution_count": 19,
      "outputs": [
        {
          "output_type": "stream",
          "name": "stdout",
          "text": [
            "일치하는 문자열이 없습니다.\n"
          ]
        }
      ]
    },
    {
      "cell_type": "code",
      "source": [
        "# findall\n",
        "pattern = r\"\\w+\"\n",
        "matches = re.findall(pattern, text)\n",
        "print(\"일치하는 문자열:\", matches)"
      ],
      "metadata": {
        "colab": {
          "base_uri": "https://localhost:8080/"
        },
        "id": "OQNmw_efRCNu",
        "outputId": "4e7c8680-1349-44c0-db41-8d5e42b02b27"
      },
      "execution_count": 20,
      "outputs": [
        {
          "output_type": "stream",
          "name": "stdout",
          "text": [
            "일치하는 문자열: ['hello', 'word', 'apples']\n"
          ]
        }
      ]
    },
    {
      "cell_type": "code",
      "source": [
        "# finditer\n",
        "pattern = r\"\\w+\"\n",
        "match_iter = re.finditer(pattern, text)\n",
        "for match in match_iter:\n",
        "    print(\"일치하는 문자열:\", match.group())"
      ],
      "metadata": {
        "colab": {
          "base_uri": "https://localhost:8080/"
        },
        "id": "K3vZDSiXRb_C",
        "outputId": "3ad4c855-b29f-4e4e-b0c0-20bac5700d03"
      },
      "execution_count": 21,
      "outputs": [
        {
          "output_type": "stream",
          "name": "stdout",
          "text": [
            "일치하는 문자열: hello\n",
            "일치하는 문자열: word\n",
            "일치하는 문자열: apples\n"
          ]
        }
      ]
    },
    {
      "cell_type": "code",
      "source": [
        "# sub\n",
        "pattern = r\"Hello\"\n",
        "replacement = \"Hi\"\n",
        "new_text = re.sub(pattern, replacement, text)\n",
        "print(\"대체된 문자열:\", new_text)"
      ],
      "metadata": {
        "colab": {
          "base_uri": "https://localhost:8080/"
        },
        "id": "AVt-6eFWRQF6",
        "outputId": "a58976e2-1611-44e9-dad2-6d3aabcee624"
      },
      "execution_count": 22,
      "outputs": [
        {
          "output_type": "stream",
          "name": "stdout",
          "text": [
            "대체된 문자열: hello word apples\n"
          ]
        }
      ]
    },
    {
      "cell_type": "code",
      "source": [
        "# split\n",
        "pattern = r\",\\s?\"\n",
        "tokens = re.split(pattern, text)\n",
        "print(\"분할된 토큰:\", tokens)"
      ],
      "metadata": {
        "colab": {
          "base_uri": "https://localhost:8080/"
        },
        "id": "1HkQR33qRS8C",
        "outputId": "faf8c317-f1d6-4f03-bf52-d627453c7cfa"
      },
      "execution_count": 23,
      "outputs": [
        {
          "output_type": "stream",
          "name": "stdout",
          "text": [
            "분할된 토큰: ['hello word apples']\n"
          ]
        }
      ]
    },
    {
      "cell_type": "code",
      "source": [
        "# 실패함수\n",
        "def compute_failure_function(pattern:str)->list:\n",
        "    failure = [0] * len(pattern)\n",
        "    j = 0\n",
        "    for i in range(1, len(pattern)):\n",
        "        if pattern[i] == pattern[j]:\n",
        "            j += 1\n",
        "            failure[i] = j\n",
        "        else:\n",
        "            if j != 0:\n",
        "                j = failure[j-1]\n",
        "                i -= 1\n",
        "            else:\n",
        "                failure[i] = 0\n",
        "    return failure"
      ],
      "metadata": {
        "id": "6bvjAWkITOgC"
      },
      "execution_count": 27,
      "outputs": []
    },
    {
      "cell_type": "code",
      "source": [
        "# kmp\n",
        "def kmp_search(text:str, pattern:str)->int:\n",
        "    failure = compute_failure_function(pattern)\n",
        "    i = 0  # 텍스트의 인덱스\n",
        "    j = 0  # 패턴의 인덱스\n",
        "\n",
        "    while i < len(text):\n",
        "        if text[i] == pattern[j]:\n",
        "            if j == len(pattern) - 1:\n",
        "                return i - j  # 일치하는 패턴의 시작 인덱스 반환\n",
        "            i += 1\n",
        "            j += 1\n",
        "        else:\n",
        "            if j != 0:\n",
        "                j = failure[j-1]\n",
        "            else:\n",
        "                i += 1\n",
        "\n",
        "    return -1  # 패턴이 발견되지 않은 경우"
      ],
      "metadata": {
        "id": "WcGy62L-TQOq"
      },
      "execution_count": 28,
      "outputs": []
    },
    {
      "cell_type": "code",
      "source": [
        "# 사용\n",
        "text = \"ABABABABCABABABA\"\n",
        "pattern = \"ABABC\"\n",
        "\n",
        "index = kmp_search(text, pattern)\n",
        "if index != -1:\n",
        "    print(\"패턴이 발견되었습니다. 시작 인덱스:\", index)\n",
        "else:\n",
        "    print(\"패턴이 발견되지 않았습니다.\")"
      ],
      "metadata": {
        "colab": {
          "base_uri": "https://localhost:8080/"
        },
        "id": "k5jpFq8DTS80",
        "outputId": "ca19d627-4553-412d-d975-a4bb2884c292"
      },
      "execution_count": 29,
      "outputs": [
        {
          "output_type": "stream",
          "name": "stdout",
          "text": [
            "패턴이 발견되었습니다. 시작 인덱스: 4\n"
          ]
        }
      ]
    },
    {
      "cell_type": "code",
      "source": [
        "# 나쁜 문자 테이블\n",
        "def badCharTable(pattern:str)->dict:\n",
        "    table = {}\n",
        "    for i in range(len(pattern) - 1):\n",
        "        table[pattern[i]] = i\n",
        "    return table\n",
        "\n",
        "# 보이어-무어\n",
        "def BoyerMoore(text:str, pattern:str)->int:\n",
        "    m = len(pattern)\n",
        "    n = len(text)\n",
        "    if m > n:\n",
        "        return -1\n",
        "\n",
        "    badCharacterTable = badCharTable(pattern)\n",
        "    i = m - 1  # 텍스트의 인덱스\n",
        "    j = m - 1  # 패턴의 인덱스\n",
        "\n",
        "    while i < n:\n",
        "        if text[i] == pattern[j]:\n",
        "            if j == 0:\n",
        "                return i  # 일치하는 패턴의 시작 인덱스 반환\n",
        "            i -= 1\n",
        "            j -= 1\n",
        "        else:\n",
        "            if text[i] not in badCharacterTable:\n",
        "                shift = m\n",
        "            else:\n",
        "                shift = max(1, j - badCharacterTable[text[i]])\n",
        "            i += shift\n",
        "            j = m - 1\n",
        "\n",
        "    return -1  # 패턴이 발견되지 않은 경우\n",
        "\n",
        "\n",
        "# 예시 사용\n",
        "text = \"ABABABABCABABABA\"\n",
        "pattern = \"ABABC\"\n",
        "\n",
        "index = BoyerMoore(text, pattern)\n",
        "if index != -1:\n",
        "    print(\"패턴이 발견되었습니다. 시작 인덱스:\", index)\n",
        "else:\n",
        "    print(\"패턴이 발견되지 않았습니다.\")"
      ],
      "metadata": {
        "colab": {
          "base_uri": "https://localhost:8080/"
        },
        "id": "aVbo2DPwXa4o",
        "outputId": "2d12a8ed-59c6-477d-bc11-1f7a8ded8065"
      },
      "execution_count": 30,
      "outputs": [
        {
          "output_type": "stream",
          "name": "stdout",
          "text": [
            "패턴이 발견되었습니다. 시작 인덱스: 4\n"
          ]
        }
      ]
    }
  ]
}