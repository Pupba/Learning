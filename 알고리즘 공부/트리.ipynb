{
  "nbformat": 4,
  "nbformat_minor": 0,
  "metadata": {
    "colab": {
      "provenance": [],
      "authorship_tag": "ABX9TyOPzEfZ6qp6uChB6mTDADTq",
      "include_colab_link": true
    },
    "kernelspec": {
      "name": "python3",
      "display_name": "Python 3"
    },
    "language_info": {
      "name": "python"
    }
  },
  "cells": [
    {
      "cell_type": "markdown",
      "metadata": {
        "id": "view-in-github",
        "colab_type": "text"
      },
      "source": [
        "<a href=\"https://colab.research.google.com/github/pupba/Learning/blob/main/%EC%95%8C%EA%B3%A0%EB%A6%AC%EC%A6%98%20%EA%B3%B5%EB%B6%80/%ED%8A%B8%EB%A6%AC.ipynb\" target=\"_parent\"><img src=\"https://colab.research.google.com/assets/colab-badge.svg\" alt=\"Open In Colab\"/></a>"
      ]
    },
    {
      "cell_type": "code",
      "execution_count": 6,
      "metadata": {
        "colab": {
          "base_uri": "https://localhost:8080/"
        },
        "id": "sBax9ow5DGm4",
        "outputId": "874cd281-ad22-4f0c-a510-10999b2e5c81"
      },
      "outputs": [
        {
          "output_type": "stream",
          "name": "stdout",
          "text": [
            "1 helo\n",
            "2 heo\n",
            "3 ho\n",
            "4 elo\n",
            "5 lo\n",
            "1 helo\n",
            "2 heo\n",
            "4 elo\n",
            "5 lo\n"
          ]
        }
      ],
      "source": [
        "# 이진 검색 트리\n",
        "from typing import Any\n",
        "class Node:\n",
        "    def __init__(self, key:Any,item:Any,left:Any=None,right:Any=None)->None:\n",
        "        self.key = key\n",
        "        self.item = item\n",
        "        self.left = left\n",
        "        self.right = right\n",
        "\n",
        "class SearchBinaryTree:\n",
        "    def __init__(self)->None:\n",
        "        self.root = None\n",
        "\n",
        "    def search(self,key:Any)->Any:\n",
        "        start = self.root\n",
        "        while True:\n",
        "            if start == None :\n",
        "                return None # 진행 할 수 없음\n",
        "            if key == start.key: # 찾은 경우\n",
        "                return start\n",
        "            elif key < start.key: # 키보다 크면\n",
        "                start = start.left\n",
        "            else: # 키보다 작으면\n",
        "                start = start.right\n",
        "\n",
        "    def add(self,key:Any,item:Any)->Any:\n",
        "        if self.root is None:\n",
        "            self.root = Node(key, item)\n",
        "        else:\n",
        "            self.__addNode(self.root, key, item)\n",
        "\n",
        "    def __addNode(self, currentNode: Node, key: Any, item: Any) -> None:\n",
        "        if key < currentNode.key:\n",
        "            if currentNode.left is None:\n",
        "                currentNode.left = Node(key, item)\n",
        "            else:\n",
        "                self.__addNode(currentNode.left, key, item)\n",
        "        elif key > currentNode.key:\n",
        "            if currentNode.right is None:\n",
        "                currentNode.right = Node(key, item)\n",
        "            else:\n",
        "                self.__addNode(currentNode.right, key, item)\n",
        "        else:\n",
        "            currentNode.item = item\n",
        "\n",
        "    def delete(self, key: Any) -> None:\n",
        "        if self.root is None:\n",
        "            return None\n",
        "\n",
        "        self.root = self.__deleteNode(self.root, key)\n",
        "\n",
        "    def __deleteNode(self, currentNode: Node, key: Any) -> Node:\n",
        "        if currentNode is None:\n",
        "            return currentNode\n",
        "\n",
        "        if key < currentNode.key:\n",
        "            currentNode.left = self.__deleteNode(currentNode.left, key)\n",
        "        elif key > currentNode.key:\n",
        "            currentNode.right = self.__deleteNode(currentNode.right, key)\n",
        "        else:\n",
        "            if currentNode.left is None:\n",
        "                return currentNode.right\n",
        "            elif currentNode.right is None:\n",
        "                return currentNode.left\n",
        "\n",
        "            # 삭제하려는 노드가 자식 노드를 양쪽 모두 가지고 있는 경우\n",
        "            # 오른쪽 서브트리에서 가장 작은 값을 찾아와서 대체합니다.\n",
        "            minNode = self.__findMinNode(currentNode.right)\n",
        "            currentNode.key = minNode.key\n",
        "            currentNode.item = minNode.item\n",
        "            currentNode.right = self.__deleteNode(currentNode.right, minNode.key)\n",
        "\n",
        "        return currentNode\n",
        "\n",
        "    def __findMinNode(self, node: Node) -> Node:\n",
        "        current = node\n",
        "        while current.left is not None:\n",
        "            current = current.left\n",
        "        return current\n",
        "\n",
        "    def dump(self, reverse=False) -> None:\n",
        "        if reverse is False:\n",
        "            self.__dumpInOrder(self.root)\n",
        "        else:\n",
        "            self.__dumpInOrderReverse(self.root)\n",
        "\n",
        "    def __dumpInOrder(self, node: Node) -> None:\n",
        "        if node is not None:\n",
        "            self.__dumpInOrder(node.left)\n",
        "            print(node.key, node.item)\n",
        "            self.__dumpInOrder(node.right)\n",
        "\n",
        "    def __dumpInOrderReverse(self, node: Node) -> None:\n",
        "        if node is not None:\n",
        "            self.__dumpInOrderReverse(node.right)\n",
        "            print(node.key, node.item)\n",
        "            self.__dumpInOrderReverse(node.left)\n",
        "\n",
        "sbt = SearchBinaryTree()\n",
        "sbt.add(1,\"helo\")\n",
        "sbt.add(2,\"heo\")\n",
        "sbt.add(3,\"ho\")\n",
        "sbt.add(4,\"elo\")\n",
        "sbt.add(5,\"lo\")\n",
        "sbt.dump()\n",
        "sbt.delete(3)\n",
        "sbt.dump()"
      ]
    }
  ]
}