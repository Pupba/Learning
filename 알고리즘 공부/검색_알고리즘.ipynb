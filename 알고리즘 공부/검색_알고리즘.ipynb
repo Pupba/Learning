{
  "nbformat": 4,
  "nbformat_minor": 0,
  "metadata": {
    "colab": {
      "provenance": [],
      "authorship_tag": "ABX9TyM1gB08Xy3fERiEYijHALYK",
      "include_colab_link": true
    },
    "kernelspec": {
      "name": "python3",
      "display_name": "Python 3"
    },
    "language_info": {
      "name": "python"
    }
  },
  "cells": [
    {
      "cell_type": "markdown",
      "metadata": {
        "id": "view-in-github",
        "colab_type": "text"
      },
      "source": [
        "<a href=\"https://colab.research.google.com/github/pupba/Learning/blob/main/%EC%95%8C%EA%B3%A0%EB%A6%AC%EC%A6%98%20%EA%B3%B5%EB%B6%80/%EA%B2%80%EC%83%89_%EC%95%8C%EA%B3%A0%EB%A6%AC%EC%A6%98.ipynb\" target=\"_parent\"><img src=\"https://colab.research.google.com/assets/colab-badge.svg\" alt=\"Open In Colab\"/></a>"
      ]
    },
    {
      "cell_type": "markdown",
      "source": [
        "# 선형 검색"
      ],
      "metadata": {
        "id": "Ain2QJBwKnlW"
      }
    },
    {
      "cell_type": "code",
      "execution_count": null,
      "metadata": {
        "id": "1D0tMnlXJt6q"
      },
      "outputs": [],
      "source": [
        "from random import randint\n",
        "# 1~50 사이의 랜덤한 값을 갖는 size 5인 리스트\n",
        "a = [randint(1,51) for _ in range(5)]\n",
        "b = [randint(1,51) for _ in range(5)]\n",
        "c = [randint(1,51) for _ in range(5)]\n",
        "d = [randint(1,51) for _ in range(5)]"
      ]
    },
    {
      "cell_type": "code",
      "source": [
        "def linearSearch(Key:int,List:list)->None:\n",
        "    # 선형 검색은 원소를 순차적으로 검사함\n",
        "    print(f\"------- Search '{key}' in List = {List} -------\")\n",
        "    for i,v in enumerate(List):\n",
        "        if v == key:\n",
        "            print(f'{i+1}번만에 찾았다!')\n",
        "            break\n",
        "        else :\n",
        "            print(f'{i+1}번째 찾는중.... ')\n",
        "        if len(a) == i+1:\n",
        "            print('못찾았어요...')"
      ],
      "metadata": {
        "id": "yCWiIG8kLagJ"
      },
      "execution_count": null,
      "outputs": []
    },
    {
      "cell_type": "code",
      "source": [
        "# 찾을 값\n",
        "key = int(input('값을 입력해주세요!! : '))\n",
        "linearSearch(key,a)\n",
        "linearSearch(key,b)\n",
        "linearSearch(key,c)\n",
        "linearSearch(key,d)"
      ],
      "metadata": {
        "colab": {
          "base_uri": "https://localhost:8080/"
        },
        "id": "6jouOcZ1MgC7",
        "outputId": "14b156c2-9d9c-48b8-b38e-44771ecad58a"
      },
      "execution_count": null,
      "outputs": [
        {
          "output_type": "stream",
          "name": "stdout",
          "text": [
            "값을 입력해주세요!! : 33\n",
            "------- Search '33' in List = [4, 47, 3, 23, 45] -------\n",
            "1번째 찾는중.... \n",
            "2번째 찾는중.... \n",
            "3번째 찾는중.... \n",
            "4번째 찾는중.... \n",
            "5번째 찾는중.... \n",
            "못찾았어요...\n",
            "------- Search '33' in List = [10, 16, 49, 32, 23] -------\n",
            "1번째 찾는중.... \n",
            "2번째 찾는중.... \n",
            "3번째 찾는중.... \n",
            "4번째 찾는중.... \n",
            "5번째 찾는중.... \n",
            "못찾았어요...\n",
            "------- Search '33' in List = [49, 42, 13, 33, 34] -------\n",
            "1번째 찾는중.... \n",
            "2번째 찾는중.... \n",
            "3번째 찾는중.... \n",
            "4번만에 찾았다!\n",
            "------- Search '33' in List = [33, 27, 35, 9, 33] -------\n",
            "1번만에 찾았다!\n"
          ]
        }
      ]
    },
    {
      "cell_type": "code",
      "source": [
        "# 반복을 종료하는 판단을 리스트의 크기만큼 수행하면 검사 비용이 많이 들 수 있음.\n",
        "# 보초(sentinel)을 이용하여 이 비용을 줄 일 수 있음\n",
        "# 리스트에 맨 끝에 검색할 key 값을 추가하고 이것을 통해 검색 성공 실패를 판단\n",
        "def linearSearch(Key:int,List:list)->None:\n",
        "    # 깊은 복사 후 보초 추가\n",
        "    copyL = List[:]\n",
        "    copyL.append(Key)\n",
        "\n",
        "    # 선형 검색은 원소를 순차적으로 검사함\n",
        "    print(f\"------- Search '{key}' in List = {List} -------\")\n",
        "    i = 1\n",
        "    for v in copyL:\n",
        "        if v == key:\n",
        "            break\n",
        "        else :\n",
        "            print(f'{i}번째 찾는중.... ')\n",
        "        i+=1\n",
        "\n",
        "    print('못찾았어요...') if len(copyL) == i else print(f'{i}번만에 찾았다!')"
      ],
      "metadata": {
        "id": "29q-QYz8O97-"
      },
      "execution_count": null,
      "outputs": []
    },
    {
      "cell_type": "code",
      "source": [
        "# 찾을 값\n",
        "key = int(input('값을 입력해주세요!! : '))\n",
        "linearSearch(key,a)\n",
        "linearSearch(key,b)\n",
        "linearSearch(key,c)\n",
        "linearSearch(key,d)"
      ],
      "metadata": {
        "colab": {
          "base_uri": "https://localhost:8080/"
        },
        "id": "_1pIOuUUQ0zg",
        "outputId": "ef843e48-9e0a-490b-9f23-ea6039cdb26e"
      },
      "execution_count": null,
      "outputs": [
        {
          "output_type": "stream",
          "name": "stdout",
          "text": [
            "값을 입력해주세요!! : 33\n",
            "------- Search '33' in List = [19, 37, 30, 37, 50] -------\n",
            "1번째 찾는중.... \n",
            "2번째 찾는중.... \n",
            "3번째 찾는중.... \n",
            "4번째 찾는중.... \n",
            "5번째 찾는중.... \n",
            "못찾았어요...\n",
            "------- Search '33' in List = [34, 25, 26, 35, 17] -------\n",
            "1번째 찾는중.... \n",
            "2번째 찾는중.... \n",
            "3번째 찾는중.... \n",
            "4번째 찾는중.... \n",
            "5번째 찾는중.... \n",
            "못찾았어요...\n",
            "------- Search '33' in List = [45, 10, 31, 50, 31] -------\n",
            "1번째 찾는중.... \n",
            "2번째 찾는중.... \n",
            "3번째 찾는중.... \n",
            "4번째 찾는중.... \n",
            "5번째 찾는중.... \n",
            "못찾았어요...\n",
            "------- Search '33' in List = [2, 22, 37, 26, 41] -------\n",
            "1번째 찾는중.... \n",
            "2번째 찾는중.... \n",
            "3번째 찾는중.... \n",
            "4번째 찾는중.... \n",
            "5번째 찾는중.... \n",
            "못찾았어요...\n"
          ]
        }
      ]
    },
    {
      "cell_type": "markdown",
      "source": [
        "# 이진 검색"
      ],
      "metadata": {
        "id": "Oer1RuKQR6ox"
      }
    },
    {
      "cell_type": "code",
      "source": [
        "# 원소가 오름차순이나 내림차순으로 정렬된 배열에서 좀 더 효율적으로 검색할 수 있는 알고리즘\n",
        "# 중앙 값을 기준으로 1/2씩 범위를 나눠가면서 찾음.\n",
        "\n",
        "# 리스트 정렬\n",
        "a.sort()\n",
        "b.sort()\n",
        "c.sort()\n",
        "d.sort()"
      ],
      "metadata": {
        "id": "xh1h9RbeSzfl"
      },
      "execution_count": null,
      "outputs": []
    },
    {
      "cell_type": "code",
      "source": [
        "# 리스트의 중간을 찾음\n",
        "def binarySearch(List:list,Key:int)->None:\n",
        "    fidx = 0\n",
        "    eidx = len(List)-1\n",
        "    find = False\n",
        "    while True:\n",
        "        cidx = (fidx+eidx) // 2\n",
        "        if List[cidx] == Key:\n",
        "            find = True\n",
        "            break\n",
        "        elif List[cidx] < Key:\n",
        "            fidx = cidx + 1\n",
        "        else :\n",
        "            eidx = cidx - 1\n",
        "\n",
        "        if fidx > eidx:\n",
        "            break\n",
        "\n",
        "    print(\"못찾았어요...\") if not find else print(f\"{Key}의 위치는 {cidx}입니다.\")"
      ],
      "metadata": {
        "id": "NYD4x4tCWgHD"
      },
      "execution_count": null,
      "outputs": []
    },
    {
      "cell_type": "code",
      "source": [
        "binarySearch(a,50)\n",
        "binarySearch(b,50)\n",
        "binarySearch(c,50)\n",
        "binarySearch(d,50)"
      ],
      "metadata": {
        "colab": {
          "base_uri": "https://localhost:8080/"
        },
        "id": "bOgybffEoIv8",
        "outputId": "d701f846-ae79-46b0-9a4f-a722a93156b3"
      },
      "execution_count": null,
      "outputs": [
        {
          "output_type": "stream",
          "name": "stdout",
          "text": [
            "50의 위치는 4입니다.\n",
            "못찾았어요...\n",
            "50의 위치는 4입니다.\n",
            "못찾았어요...\n"
          ]
        }
      ]
    },
    {
      "cell_type": "markdown",
      "source": [
        "#해시법"
      ],
      "metadata": {
        "id": "lSJuTsnvCykL"
      }
    },
    {
      "cell_type": "code",
      "source": [
        "# Hashing은 '데이터를 저장할 위치 = 인덱스'를 간단히 연산으로 구하는 것.\n",
        "# 간단한 방법 -> 리스트의 원소값을 원소의 개수로 나눈 나머지를 \"해시값\"으로 사용.\n",
        "# 이러한 해시값을 저장한 테이블을 \"해시 테이블\"이라고 함.\n",
        "# 값을 해시값으로 변환하는 함수를 \"해시 함수\"라고 하고 해시 테이블에서 만들어진 원소를 \"버킷\"이라고 함.\n",
        "\n",
        "List = [11,42,52,23,56,34,78,44,19]\n",
        "\n",
        "def hashFunc(List:list)->List:\n",
        "    hashTable = {}\n",
        "    for el in List:\n",
        "        hashTable[el%len(List)] = el\n",
        "    return hashTable\n",
        "hashT = hashFunc(List)\n",
        "print(hashT)\n",
        "\n",
        "# 같은 해시값을 가지는 경우가 생겨서 \"충돌 발생!\""
      ],
      "metadata": {
        "colab": {
          "base_uri": "https://localhost:8080/"
        },
        "id": "YKXaaDmXC6X6",
        "outputId": "4c14482a-8c81-432a-9efd-148f6134f0f3"
      },
      "execution_count": null,
      "outputs": [
        {
          "output_type": "stream",
          "name": "stdout",
          "text": [
            "{2: 56, 6: 78, 7: 34, 5: 23, 8: 44, 1: 19}\n"
          ]
        }
      ]
    },
    {
      "cell_type": "code",
      "source": [
        "# 체인법(Chaining) == 오픈 해시법(Open Hashing)\n",
        "# 해시값이 같은 데이터를 체인 모양의 연결 리스트로 연결하는 방법\n",
        "# 각 버킷은 \"해시값이 같은 노드를 연결한 리스트\"의 앞쪽 노드를 참조\n",
        "from traitlets.config import Any\n",
        "from hashlib import sha256\n",
        "class Node:\n",
        "    def __init__(self,key:Any,value:Any,next:Any)->None:\n",
        "        self.key = key\n",
        "        self.value = value\n",
        "        self.next = next # Node Type\n",
        "\n",
        "class ChainedHash:\n",
        "    def __init__(self,size:int)->None:\n",
        "        self.size = size\n",
        "        self.table = [None] * self.size\n",
        "\n",
        "    def hashValue(self,key:Any)->int:\n",
        "        if isinstance(key,int):\n",
        "            return key%self.size\n",
        "        return int(sha256(str(key).encode()).hexdigest(),16)%self.size\n",
        "\n",
        "    def search(self,key:Any)->Any:\n",
        "        # 키가 key인 원소를 찾아 반환\n",
        "        hash = self.hashValue(key)\n",
        "        p = self.table[hash]\n",
        "\n",
        "        while p is not None:\n",
        "            if p.key == key:\n",
        "                return p.value\n",
        "            p = p.next\n",
        "\n",
        "        return None # 검색 실패\n",
        "\n",
        "    def add(self,key:Any,value:Any)->bool:\n",
        "        # 키가 key이고 value인 원소를 추가\n",
        "        hash = self.hashvalue(key)\n",
        "        p = self.table[hash]\n",
        "\n",
        "        while p is not None:\n",
        "            if p.key == key:\n",
        "                return False # 추가 실패\n",
        "            p = p.next\n",
        "\n",
        "        # 노드 추가\n",
        "        temp = Node(key,value,self.table[hash])\n",
        "        self.table[hash] = temp\n",
        "        return True\n",
        "\n",
        "    def remove(self,key:Any)->bool:\n",
        "        hash = self.hashvalue(key)\n",
        "        p = self.table[hash]\n",
        "        fp = None\n",
        "\n",
        "        while p is not None:\n",
        "            if p.key == key:\n",
        "                if fp is None:\n",
        "                    self.table[hash] = p.next\n",
        "                else:\n",
        "                    fp.next = p.next\n",
        "                return True\n",
        "            fp = p\n",
        "            p = p.next\n",
        "        return False\n",
        "\n",
        "    def Allprint(self)->None:\n",
        "        for i in range(self.size):\n",
        "            p = self.table[i]\n",
        "            print(i,end='')\n",
        "            while p is not None:\n",
        "                print(f' -> {p.key} ({p.value})',end='')\n",
        "                p = p.next\n",
        "            print()"
      ],
      "metadata": {
        "id": "IL8RLQ-CF21m"
      },
      "execution_count": null,
      "outputs": []
    },
    {
      "cell_type": "code",
      "source": [
        "# 오픈주소법(Open Addressing) == 닫힌 해시법(Closed Hashing)\n",
        "# 충돌 발생 시 재해시(rehashing)을 수행하여 빈 버킷을 찾는 방법\n",
        "from traitlets.config import Any\n",
        "from hashlib import md5\n",
        "from enum import Enum\n",
        "class Status(Enum):\n",
        "    # 버킷의 상태를 정의\n",
        "    OCCUPIED = 0 # 데이터 저장\n",
        "    EMPTY = 1 # 비어 있음\n",
        "    DELETED = 2 # 삭제 완료\n",
        "\n",
        "class Bucket:\n",
        "    def __init__(self,key:Any=None, value:Any = None, stat:Status = Status.EMPTY) -> None:\n",
        "        self.key = key\n",
        "        self.value = value\n",
        "        self.stat = stat\n",
        "\n",
        "    def set(self,key:Any, value:Any, stat:Status)->None:\n",
        "        self.key = key\n",
        "        self.value = value\n",
        "        self.stat = stat\n",
        "\n",
        "    def setStatus(self,stat:Status)->None:\n",
        "        self.stat = stat\n",
        "\n",
        "class OpenHash:\n",
        "    def __init__(self,size:int)->None:\n",
        "        self.size = size\n",
        "        self.table = [Bucket()] * self.size\n",
        "\n",
        "    def hashValue(self,key:Any)->int:\n",
        "        if isinstance(key,int):\n",
        "            return key % self.size\n",
        "        return int(md5(str(key).encode()).hexdigest(),16)%self.size\n",
        "\n",
        "    def rehashValue(self,key:Any)->int:\n",
        "        return (self.hashValue(key)+1) % self.size\n",
        "\n",
        "    def searchNode(self,key:Any)->Any:\n",
        "        hash = self.hashValue(key)\n",
        "        p = self.table[hash]\n",
        "\n",
        "        for i in range(self.size):\n",
        "            if p.stat == Status.EMPTY:\n",
        "                break\n",
        "            elif p.stat == Status.OCCUPIED and p.key == key:\n",
        "                return p\n",
        "            hash = self.rehashValue(hash)\n",
        "            p = self.table[hash]\n",
        "        return None\n",
        "\n",
        "    def search(self,key:Any)->Any:\n",
        "        p = self.searchNode(key)\n",
        "        if p is not None:\n",
        "            return p.value\n",
        "        else :\n",
        "            return None\n",
        "\n",
        "    def add(self,key:Any, value:Any)->bool:\n",
        "        if self.search(key) is not None:\n",
        "            return False\n",
        "        hash = self.hashValue(key)\n",
        "        p = self.table[hash]\n",
        "        for i in range(self.size):\n",
        "            if p.stat == Status.EMPTY or p.stat == Status.DELETED:\n",
        "                self.table[hash] = Bucket(key,value,Status.OCCUPIED)\n",
        "                return True\n",
        "            hash = self.rehashValue(hash)\n",
        "            p = self.table[hash]\n",
        "        return False\n",
        "\n",
        "    def remove(self,key:Any)->int:\n",
        "        p = self.searchNode(key)\n",
        "        if p is None:\n",
        "            return False\n",
        "        p.setStatus(Status.DELETED)\n",
        "        return True\n",
        "\n",
        "    def dump(self)->None:\n",
        "        for i in range(self.size):\n",
        "            print(f'{i:2}',end='')\n",
        "            if self.table[i].stat == Status.OCCUPIED:\n",
        "                print(f'{self.table[i].key} ({self.table[i].value})')\n",
        "            elif self.table[i].stat == Status.EMPTY:\n",
        "                print('-- 미등록 --')\n",
        "            elif self.table[i].stat == Status.DELETED:\n",
        "                print('-- 삭제 완료 --')"
      ],
      "metadata": {
        "id": "gwdvzLImF5KA"
      },
      "execution_count": null,
      "outputs": []
    }
  ]
}