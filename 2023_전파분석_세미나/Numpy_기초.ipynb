{
  "nbformat": 4,
  "nbformat_minor": 0,
  "metadata": {
    "colab": {
      "provenance": [],
      "authorship_tag": "ABX9TyPCXkxwMFW07eH4YjHDpzYS",
      "include_colab_link": true
    },
    "kernelspec": {
      "name": "python3",
      "display_name": "Python 3"
    },
    "language_info": {
      "name": "python"
    }
  },
  "cells": [
    {
      "cell_type": "markdown",
      "metadata": {
        "id": "view-in-github",
        "colab_type": "text"
      },
      "source": [
        "<a href=\"https://colab.research.google.com/github/pupba/Learning/blob/main/2023_%EC%A0%84%ED%8C%8C%EB%B6%84%EC%84%9D_%EC%84%B8%EB%AF%B8%EB%82%98/Numpy_%EA%B8%B0%EC%B4%88.ipynb\" target=\"_parent\"><img src=\"https://colab.research.google.com/assets/colab-badge.svg\" alt=\"Open In Colab\"/></a>"
      ]
    },
    {
      "cell_type": "code",
      "execution_count": 2,
      "metadata": {
        "colab": {
          "base_uri": "https://localhost:8080/"
        },
        "id": "PaNhndadZB-g",
        "outputId": "3888ccdf-e9c5-4adc-ec61-4b1908305ec1"
      },
      "outputs": [
        {
          "output_type": "stream",
          "name": "stdout",
          "text": [
            "차원크기 : (5,)\n",
            "타입 : int64\n"
          ]
        }
      ],
      "source": [
        "# Numpy 패키지 가져오기\n",
        "import numpy as np # np라고 별명을 붙힘\n",
        "\n",
        "myarr = np.array([1,2,3,4,5])\n",
        "print(f'차원크기 : {myarr.shape}')\n",
        "print(f'타입 : {myarr.dtype}')"
      ]
    },
    {
      "cell_type": "code",
      "source": [
        "# ndarray 배열 생성\n",
        "arr1 = np.array([1,2,3,4,5])\n",
        "arr2 = np.array((1,2,3))\n",
        "print(arr1)\n",
        "print(arr2)\n",
        "print(np.arange(1,10,2,dtype='float64'))"
      ],
      "metadata": {
        "colab": {
          "base_uri": "https://localhost:8080/"
        },
        "id": "3Vygy7K_aySh",
        "outputId": "dd19f02c-e038-4588-8664-6b8a742086a4"
      },
      "execution_count": 11,
      "outputs": [
        {
          "output_type": "stream",
          "name": "stdout",
          "text": [
            "[1 2 3 4 5]\n",
            "[1 2 3]\n",
            "[1. 3. 5. 7. 9.]\n"
          ]
        }
      ]
    },
    {
      "cell_type": "code",
      "source": [
        "iarr = np.array([1.1,2.2,3.1,4],dtype='int64')\n",
        "farr = np.array([1,2,3,4],dtype='float64')\n",
        "barr = np.array([1,0,0,4],dtype='bool')\n",
        "print('iarr :',iarr)\n",
        "print('farr :',farr)\n",
        "print('barr :',barr)"
      ],
      "metadata": {
        "colab": {
          "base_uri": "https://localhost:8080/"
        },
        "id": "_ZVj98KvfATS",
        "outputId": "08bb09e2-89a1-46be-be4e-a0dd98573f2f"
      },
      "execution_count": 12,
      "outputs": [
        {
          "output_type": "stream",
          "name": "stdout",
          "text": [
            "iarr : [1 2 3 4]\n",
            "farr : [1. 2. 3. 4.]\n",
            "barr : [ True False False  True]\n"
          ]
        }
      ]
    },
    {
      "cell_type": "code",
      "source": [
        "# 타입 변환\n",
        "farr = np.array([1.1,2.2,3.1,4],dtype='int64')\n",
        "print('farr :',farr.dtype)\n",
        "farr = farr.astype('float64')\n",
        "print('farr :',farr.dtype)"
      ],
      "metadata": {
        "colab": {
          "base_uri": "https://localhost:8080/"
        },
        "id": "Ut76aiSLgREB",
        "outputId": "25eee56e-08db-4a77-d93f-ea88c736e9fe"
      },
      "execution_count": 17,
      "outputs": [
        {
          "output_type": "stream",
          "name": "stdout",
          "text": [
            "farr : int64\n",
            "farr : float64\n"
          ]
        }
      ]
    },
    {
      "cell_type": "code",
      "source": [
        "# 차원 변경\n",
        "arr = np.array([1,2,3,4,5,6,7,8])\n",
        "print(arr)\n",
        "new = np.reshape(arr,(2,4))\n",
        "print(new)"
      ],
      "metadata": {
        "colab": {
          "base_uri": "https://localhost:8080/"
        },
        "id": "O3zwVaAzoaXu",
        "outputId": "adb29712-ccfc-44bb-c99d-4deed17e08bd"
      },
      "execution_count": 33,
      "outputs": [
        {
          "output_type": "stream",
          "name": "stdout",
          "text": [
            "[1 2 3 4 5 6 7 8]\n",
            "[[1 2 3 4]\n",
            " [5 6 7 8]]\n"
          ]
        }
      ]
    },
    {
      "cell_type": "code",
      "source": [
        "# 전치\n",
        "arr = np.array([[1,1,1],[2,2,2],[3,3,3]])\n",
        "print(arr)\n",
        "print(arr.transpose())\n",
        "print(arr.T)"
      ],
      "metadata": {
        "colab": {
          "base_uri": "https://localhost:8080/"
        },
        "id": "DaIx09bcxwDz",
        "outputId": "a1af9537-9625-4fb6-8352-8a111d6821f7"
      },
      "execution_count": 66,
      "outputs": [
        {
          "output_type": "stream",
          "name": "stdout",
          "text": [
            "[[1 1 1]\n",
            " [2 2 2]\n",
            " [3 3 3]]\n",
            "[[1 2 3]\n",
            " [1 2 3]\n",
            " [1 2 3]]\n",
            "[[1 2 3]\n",
            " [1 2 3]\n",
            " [1 2 3]]\n"
          ]
        }
      ]
    },
    {
      "cell_type": "code",
      "source": [
        "# 축변경\n",
        "arr = np.array([[1,1,1],[2,2,2],[3,3,3]])\n",
        "# numpy.swapaxes(axis1, axis2)\n",
        "# axis1 : 교환하고자하는 축의 인덱스1\n",
        "# axis2 : 교환하고자하는 축의 인덱스2\n",
        "print(arr.swapaxes(0,1))"
      ],
      "metadata": {
        "colab": {
          "base_uri": "https://localhost:8080/"
        },
        "id": "qGVnic5TxxXx",
        "outputId": "caa76ca7-7dca-4032-8a60-7b641674d5fa"
      },
      "execution_count": 73,
      "outputs": [
        {
          "output_type": "stream",
          "name": "stdout",
          "text": [
            "[[1 2 3]\n",
            " [1 2 3]\n",
            " [1 2 3]]\n"
          ]
        }
      ]
    },
    {
      "cell_type": "code",
      "source": [
        "# 벡터화\n",
        "arr1 = np.array([\n",
        "    [1,2,3,4],\n",
        "    [1,2,3,4],\n",
        "    [1,2,3,4],\n",
        "    [1,2,3,4]])\n",
        "arr2 = np.array([\n",
        "    [1,2,3,4],\n",
        "    [1,2,3,4],\n",
        "    [1,2,3,4],\n",
        "    [1,2,3,4]])\n",
        "print('Vectorization Example')\n",
        "print(arr1)\n",
        "print('     +      ')\n",
        "print(arr2,end=' = \\n')\n",
        "print(f'\\n{arr1 + arr2}')"
      ],
      "metadata": {
        "colab": {
          "base_uri": "https://localhost:8080/"
        },
        "id": "6p53953Wj8Zu",
        "outputId": "96c361c7-64e9-4124-cfe1-e66891a3f1d1"
      },
      "execution_count": 29,
      "outputs": [
        {
          "output_type": "stream",
          "name": "stdout",
          "text": [
            "Vectorization Example\n",
            "[[1 2 3 4]\n",
            " [1 2 3 4]\n",
            " [1 2 3 4]\n",
            " [1 2 3 4]]\n",
            "     +      \n",
            "[[1 2 3 4]\n",
            " [1 2 3 4]\n",
            " [1 2 3 4]\n",
            " [1 2 3 4]] = \n",
            "\n",
            "[[2 4 6 8]\n",
            " [2 4 6 8]\n",
            " [2 4 6 8]\n",
            " [2 4 6 8]]\n"
          ]
        }
      ]
    },
    {
      "cell_type": "code",
      "source": [
        "# 브로드캐스팅\n",
        "arr1 = np.array([\n",
        "    [1,2,3,4],\n",
        "    [1,2,3,4],\n",
        "    [1,2,3,4],\n",
        "    [1,2,3,4]])\n",
        "arr2 = np.array([1,1,1,1])\n",
        "print('BroadCasting Example')\n",
        "print(arr1, '+' ,arr2,end=' = \\n')\n",
        "print(f'\\n{arr1 + arr2}')"
      ],
      "metadata": {
        "colab": {
          "base_uri": "https://localhost:8080/"
        },
        "id": "R7KEWwbfj-XS",
        "outputId": "1cc57d14-1084-48e1-85f8-be8bdaeb68af"
      },
      "execution_count": 30,
      "outputs": [
        {
          "output_type": "stream",
          "name": "stdout",
          "text": [
            "BroadCasting Example\n",
            "[[1 2 3 4]\n",
            " [1 2 3 4]\n",
            " [1 2 3 4]\n",
            " [1 2 3 4]] + [1 1 1 1] = \n",
            "\n",
            "[[2 3 4 5]\n",
            " [2 3 4 5]\n",
            " [2 3 4 5]\n",
            " [2 3 4 5]]\n"
          ]
        }
      ]
    },
    {
      "cell_type": "code",
      "source": [
        "# 인덱싱\n",
        "arr1 = np.array([\n",
        "    [1,2,3,4],\n",
        "    [1,2,3,4],\n",
        "    [1,2,3,4],\n",
        "    [1,2,3,4]])\n",
        "print(arr1[0][0])\n",
        "# [제일 밖 배열, 그 다음 밖 배열, ...]\n",
        "arr1[0,0] = 2 # arr1[0][0]과 동일\n",
        "print(arr1[0][0])"
      ],
      "metadata": {
        "colab": {
          "base_uri": "https://localhost:8080/"
        },
        "id": "UD-6TW-LqnpU",
        "outputId": "e4693468-1bff-4389-c10d-8b8ccd55347f"
      },
      "execution_count": 38,
      "outputs": [
        {
          "output_type": "stream",
          "name": "stdout",
          "text": [
            "1\n",
            "2\n"
          ]
        }
      ]
    },
    {
      "cell_type": "code",
      "source": [
        "# 불리언 인덱싱\n",
        "# 정광원 찾기\n",
        "name = np.array(['Jung Kwangwon','Jang Kuri','Lee Serom','Park Jiwon','Song Hayong'],dtype='str')\n",
        "boolIdx = 'Jung Kwangwon' ==  name\n",
        "print(name[boolIdx])\n",
        "# 정광원 빼고 찾기\n",
        "print(name[~boolIdx])"
      ],
      "metadata": {
        "colab": {
          "base_uri": "https://localhost:8080/"
        },
        "id": "Xd8XoqXftbj9",
        "outputId": "fbacc887-ed24-4e6f-a63a-0bf38c3502c7"
      },
      "execution_count": 59,
      "outputs": [
        {
          "output_type": "stream",
          "name": "stdout",
          "text": [
            "['Jung Kwangwon']\n",
            "['Jang Kuri' 'Lee Serom' 'Park Jiwon' 'Song Hayong']\n"
          ]
        }
      ]
    },
    {
      "cell_type": "code",
      "source": [
        "# where\n",
        "# numpy.where(condition, x, y)\n",
        "# ondition: 선택 조건을 나타내는 배열 또는 조건식.\n",
        "# x, y: condition이 True인 경우와 False인 경우 각각 반환할 값 또는 배열.\n",
        "name = np.array(['Jung Kwangwon','Jang Kuri','Lee Serom','Park Jiwon','Song Hayong'],dtype='str')\n",
        "print(np.where(name=='Jung Kwangwon',name,'No'))"
      ],
      "metadata": {
        "colab": {
          "base_uri": "https://localhost:8080/"
        },
        "id": "l3v2Xg4W89TP",
        "outputId": "3c5f0eb6-45a1-4b9b-e69a-dd9f67bbdb2d"
      },
      "execution_count": 86,
      "outputs": [
        {
          "output_type": "stream",
          "name": "stdout",
          "text": [
            "['Jung Kwangwon' 'No' 'No' 'No' 'No']\n"
          ]
        }
      ]
    },
    {
      "cell_type": "code",
      "source": [
        "# 팬시 인덱싱\n",
        "arr = np.array([\"dog\",\"cat\",\"monkey\",\"bee\",\"deer\",\"mouse\"])\n",
        "fancy = [2,3,4,5]\n",
        "# 2,3,4,5의 인덱스에 해당하는 값\n",
        "print(arr[fancy])\n",
        "print(arr[[2,5]])"
      ],
      "metadata": {
        "colab": {
          "base_uri": "https://localhost:8080/"
        },
        "id": "eQtvLHziwaTO",
        "outputId": "11a0775e-8eff-4776-953e-a4e858b00956"
      },
      "execution_count": 64,
      "outputs": [
        {
          "output_type": "stream",
          "name": "stdout",
          "text": [
            "['monkey' 'bee' 'deer' 'mouse']\n",
            "['monkey' 'mouse']\n"
          ]
        }
      ]
    },
    {
      "cell_type": "code",
      "source": [
        "# 슬라이싱\n",
        "arr1 = np.array([\n",
        "    [1,2,3,4],\n",
        "    [1,2,3,4],\n",
        "    [1,2,3,4],\n",
        "    [1,2,3,4]])\n",
        "print(arr1[0:2]) # 그냥 슬라이싱\n",
        "print(arr1[1,0:2]) # 행을 선택하고 슬라이싱\n",
        "print(arr1[0:2,1]) # 슬라이싱한 다음 열 선택"
      ],
      "metadata": {
        "colab": {
          "base_uri": "https://localhost:8080/"
        },
        "id": "ZUC3N1H_qo2D",
        "outputId": "9872cefd-33ba-49af-86c0-f33ca61b3dbe"
      },
      "execution_count": 47,
      "outputs": [
        {
          "output_type": "stream",
          "name": "stdout",
          "text": [
            "[[1 2 3 4]\n",
            " [1 2 3 4]]\n",
            "[1 2]\n",
            "[2 2]\n"
          ]
        }
      ]
    },
    {
      "cell_type": "code",
      "source": [
        "# 난수\n",
        "import numpy.random as rd\n",
        "\n",
        "# 1 ~ 10 까지의 3x3 배열\n",
        "rarr = rd.randint(1,11,size=(3,3))\n",
        "print(rarr)"
      ],
      "metadata": {
        "colab": {
          "base_uri": "https://localhost:8080/"
        },
        "id": "COGvYpSt0DeR",
        "outputId": "24ccc09a-5810-45c5-91d0-6f156e6c9494"
      },
      "execution_count": 78,
      "outputs": [
        {
          "output_type": "stream",
          "name": "stdout",
          "text": [
            "[[10  2 10]\n",
            " [ 4  7  9]\n",
            " [ 7  7  3]]\n"
          ]
        }
      ]
    },
    {
      "cell_type": "code",
      "source": [
        "# 단항 유니버설 함수\n",
        "arr = np.array([1, 2, 3, 4, 5])\n",
        "\n",
        "print('제곱 : ',np.square(arr))\n",
        "print('제곱근 : ',np.sqrt(arr))\n",
        "print('지수 : ',np.exp(arr))\n",
        "print('사인 : ',np.sin(arr))"
      ],
      "metadata": {
        "colab": {
          "base_uri": "https://localhost:8080/"
        },
        "id": "KLW6kyHh3dTz",
        "outputId": "9248f4ae-7a81-4fe9-8794-f3e56c828d4c"
      },
      "execution_count": 84,
      "outputs": [
        {
          "output_type": "stream",
          "name": "stdout",
          "text": [
            "제곱 :  [ 1  4  9 16 25]\n",
            "제곱근 :  [1.         1.41421356 1.73205081 2.         2.23606798]\n",
            "지수 :  [  2.71828183   7.3890561   20.08553692  54.59815003 148.4131591 ]\n",
            "사인 :  [ 0.84147098  0.90929743  0.14112001 -0.7568025  -0.95892427]\n"
          ]
        }
      ]
    },
    {
      "cell_type": "code",
      "source": [
        "# 이항 유니버설 함수\n",
        "arr1 = np.array([1, 2, 3, 4, 5])\n",
        "arr2 = np.array([1, 9, 1, 7, 3])\n",
        "\n",
        "print(\"덧셈 :\",np.add(arr1,arr2))\n",
        "print(\"Mod 연산 :\",np.add(arr1,arr2))\n",
        "print(\"Power 연산 :\",np.power(arr1,arr2))\n",
        "print(\"뺄셈 :\",np.subtract(arr1,arr2))"
      ],
      "metadata": {
        "colab": {
          "base_uri": "https://localhost:8080/"
        },
        "id": "pDTgRtfJ3vWq",
        "outputId": "bf9aba33-c000-4ceb-976f-0d4d29b07a8b"
      },
      "execution_count": 83,
      "outputs": [
        {
          "output_type": "stream",
          "name": "stdout",
          "text": [
            "덧셈 : [ 2 11  4 11  8]\n",
            "Mod 연산 : [ 2 11  4 11  8]\n",
            "Power 연산 : [    1   512     3 16384   125]\n",
            "뺄셈 : [ 0 -7  2 -3  2]\n"
          ]
        }
      ]
    },
    {
      "cell_type": "code",
      "source": [
        "# 수학 메서드\n",
        "arr = np.array([-1, -2, -3, 4, 5, 7])\n",
        "print(np.abs(arr))\n",
        "# 통계 메서드\n",
        "print(\"sum :\",np.sum(arr))\n",
        "print(\"mean :\",np.mean(arr))\n",
        "print(\"std :\",np.std(arr))"
      ],
      "metadata": {
        "colab": {
          "base_uri": "https://localhost:8080/"
        },
        "id": "NVThpFqgCzTT",
        "outputId": "06bebdce-8715-44c8-8439-7558052f53ce"
      },
      "execution_count": 89,
      "outputs": [
        {
          "output_type": "stream",
          "name": "stdout",
          "text": [
            "[1 2 3 4 5 7]\n",
            "sum : 10\n",
            "mean : 1.6666666666666667\n",
            "std : 3.815174380753199\n"
          ]
        }
      ]
    },
    {
      "cell_type": "code",
      "source": [
        "# 불리언 배열을 위한 메서드\n",
        "arr1 = np.array([True,False,False,False,False])\n",
        "arr2 = np.array([False,False,True,False,False])\n",
        "print(arr1.any())\n",
        "print(arr2.all())\n",
        "print(np.logical_and(arr1,arr2))\n",
        "print(np.logical_or(arr1,arr2))\n",
        "print(np.logical_not(arr1))\n",
        "print(np.count_nonzero(arr1))\n",
        "print(arr1.nonzero())\n",
        "print(np.unique(arr1))"
      ],
      "metadata": {
        "colab": {
          "base_uri": "https://localhost:8080/"
        },
        "id": "WZptZFhXE-uL",
        "outputId": "a062ad6c-9aeb-4134-9c6a-b5cb34b872d6"
      },
      "execution_count": 98,
      "outputs": [
        {
          "output_type": "stream",
          "name": "stdout",
          "text": [
            "True\n",
            "False\n",
            "[False False False False False]\n",
            "[ True False  True False False]\n",
            "[False  True  True  True  True]\n",
            "1\n",
            "(array([0]),)\n",
            "[False  True]\n"
          ]
        }
      ]
    },
    {
      "cell_type": "code",
      "source": [
        "# 정렬1\n",
        "arr = np.array([\n",
        "    [1,2,3,4],\n",
        "    [4,2,3,4],\n",
        "    [3,2,3,4],\n",
        "    [1,5,3,4]])\n",
        "\n",
        "arr.sort(axis=0) # 세로축\n",
        "print(arr)"
      ],
      "metadata": {
        "colab": {
          "base_uri": "https://localhost:8080/"
        },
        "id": "oQR_fvMeHPXM",
        "outputId": "c6b9bfe5-7127-455d-c4e6-8a0517c911b4"
      },
      "execution_count": 106,
      "outputs": [
        {
          "output_type": "stream",
          "name": "stdout",
          "text": [
            "[[1 2 3 4]\n",
            " [1 2 3 4]\n",
            " [3 2 3 4]\n",
            " [4 5 3 4]]\n"
          ]
        }
      ]
    },
    {
      "cell_type": "code",
      "source": [
        "# 정렬2\n",
        "arr = np.array([\n",
        "    [1,2,3,4],\n",
        "    [4,2,3,4],\n",
        "    [3,2,3,4],\n",
        "    [1,5,3,4]])\n",
        "\n",
        "arr.sort(axis=1) # 가로축\n",
        "print(arr)"
      ],
      "metadata": {
        "colab": {
          "base_uri": "https://localhost:8080/"
        },
        "id": "-ottJPiyHy4p",
        "outputId": "66fa84c7-7cfd-4e21-f690-70bedfa396c8"
      },
      "execution_count": 107,
      "outputs": [
        {
          "output_type": "stream",
          "name": "stdout",
          "text": [
            "[[1 2 3 4]\n",
            " [2 3 4 4]\n",
            " [2 3 3 4]\n",
            " [1 3 4 5]]\n"
          ]
        }
      ]
    },
    {
      "cell_type": "code",
      "source": [
        "# 집합 관련 함수\n",
        "arr = np.array(['Jung','Park','Song','Park','Lee','Lee'])\n",
        "print(np.unique(arr))\n",
        "print(np.in1d(arr,['Jung','Park','Song']))\n",
        "print(np.intersect1d(arr,['Jung','Park','Song']))"
      ],
      "metadata": {
        "colab": {
          "base_uri": "https://localhost:8080/"
        },
        "id": "zI65qeWlIzRv",
        "outputId": "e9997079-01c0-4f54-c564-e02bd64544e4"
      },
      "execution_count": 110,
      "outputs": [
        {
          "output_type": "stream",
          "name": "stdout",
          "text": [
            "['Jung' 'Lee' 'Park' 'Song']\n",
            "[ True  True  True  True False False]\n",
            "['Jung' 'Park' 'Song']\n"
          ]
        }
      ]
    },
    {
      "cell_type": "code",
      "source": [
        "# 파일 입출력\n",
        "arr = np.array([1,2,3,4,5,6,7,8,9,10])\n",
        "np.save(\"./myarr\",arr)\n",
        "larr = np.load(\"./myarr.npy\")\n",
        "print(larr)\n",
        "# 여러 개의 배열을 압축\n",
        "np.savez(\"./archive.npz\",a=arr,b=arr,c=arr)\n",
        "# np.savez_compressed(\"./archive.npz\",a=arr,b=arr,c=arr)\n",
        "arch = np.load(\"./archive.npz\")\n",
        "print(arch[\"a\"])\n",
        "print(arch[\"b\"])\n",
        "print(arch[\"c\"])"
      ],
      "metadata": {
        "colab": {
          "base_uri": "https://localhost:8080/"
        },
        "id": "vcWV_qNALfMZ",
        "outputId": "36e5a512-db03-4a6b-b808-5f07522e77d8"
      },
      "execution_count": 113,
      "outputs": [
        {
          "output_type": "stream",
          "name": "stdout",
          "text": [
            "[ 1  2  3  4  5  6  7  8  9 10]\n",
            "[ 1  2  3  4  5  6  7  8  9 10]\n",
            "[ 1  2  3  4  5  6  7  8  9 10]\n",
            "[ 1  2  3  4  5  6  7  8  9 10]\n"
          ]
        }
      ]
    },
    {
      "cell_type": "code",
      "source": [
        "# 선형 대수 관련 함수\n",
        "import numpy.random as rd\n",
        "arr1 = rd.randint(1,11,size=(3,3))\n",
        "arr2 = rd.randint(1,11,size=(3,3))\n",
        "print(arr1)\n",
        "print(arr2)\n",
        "print(np.dot(arr1,arr2))"
      ],
      "metadata": {
        "colab": {
          "base_uri": "https://localhost:8080/"
        },
        "id": "sXoPaOXnN26h",
        "outputId": "edde7baf-2db4-4509-ce98-3cdb981d7e4f"
      },
      "execution_count": 116,
      "outputs": [
        {
          "output_type": "stream",
          "name": "stdout",
          "text": [
            "[[7 7 1]\n",
            " [9 5 6]\n",
            " [7 1 7]]\n",
            "[[3 6 5]\n",
            " [2 3 9]\n",
            " [6 2 6]]\n",
            "[[ 41  65 104]\n",
            " [ 73  81 126]\n",
            " [ 65  59  86]]\n"
          ]
        }
      ]
    },
    {
      "cell_type": "code",
      "source": [
        "# 계단 오르기 예제\n",
        "import random as rd\n",
        "\n",
        "cur = 0\n",
        "walk = [cur]\n",
        "nsteps = 1000\n",
        "for _ in range(nsteps):\n",
        "    step = 1 if rd.randint(0,1) else -1\n",
        "    cur += step\n",
        "    walk.append(cur)\n",
        "\n",
        "# 시각화\n",
        "import matplotlib.pyplot as plt\n",
        "plt.plot(walk[:100])"
      ],
      "metadata": {
        "colab": {
          "base_uri": "https://localhost:8080/",
          "height": 449
        },
        "id": "IYURbpbAPRCM",
        "outputId": "b820668b-01d8-4d0d-ac79-c4b986db1033"
      },
      "execution_count": 127,
      "outputs": [
        {
          "output_type": "execute_result",
          "data": {
            "text/plain": [
              "[<matplotlib.lines.Line2D at 0x7f3c31799600>]"
            ]
          },
          "metadata": {},
          "execution_count": 127
        },
        {
          "output_type": "display_data",
          "data": {
            "text/plain": [
              "<Figure size 640x480 with 1 Axes>"
            ],
            "image/png": "[encoded data removed]"
          },
          "metadata": {}
        }
      ]
    },
    {
      "cell_type": "code",
      "source": [
        "import numpy as np\n",
        "rng = np.random.default_rng(seed=12345)\n",
        "draws = rng.integers(0,2,size=nsteps)\n",
        "steps = np.where(draws == 0,1,-1)\n",
        "walk = steps.cumsum()\n",
        "\n",
        "print(\"오른 위치의 최솟값 :\",walk.min())\n",
        "print(\"오른 위치의 최댓값 :\",walk.max())"
      ],
      "metadata": {
        "colab": {
          "base_uri": "https://localhost:8080/"
        },
        "id": "o5fSM1fvQT-f",
        "outputId": "3cb58a9c-75d8-4650-eacb-e9bfed66dd62"
      },
      "execution_count": 128,
      "outputs": [
        {
          "output_type": "stream",
          "name": "stdout",
          "text": [
            "오른 위치의 최솟값 : -8\n",
            "오른 위치의 최댓값 : 50\n"
          ]
        }
      ]
    }
  ]
}