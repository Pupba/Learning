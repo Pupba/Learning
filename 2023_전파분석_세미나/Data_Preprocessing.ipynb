{
  "nbformat": 4,
  "nbformat_minor": 0,
  "metadata": {
    "colab": {
      "provenance": [],
      "mount_file_id": "1PAZHuSQIEHEVapB3rScgDoeLeJBnE3zu",
      "authorship_tag": "ABX9TyMo9A93rtd/7GqOqtPbqV2E",
      "include_colab_link": true
    },
    "kernelspec": {
      "name": "python3",
      "display_name": "Python 3"
    },
    "language_info": {
      "name": "python"
    }
  },
  "cells": [
    {
      "cell_type": "markdown",
      "metadata": {
        "id": "view-in-github",
        "colab_type": "text"
      },
      "source": [
        "<a href=\"https://colab.research.google.com/github/pupba/Learning/blob/main/2023_%EC%A0%84%ED%8C%8C%EB%B6%84%EC%84%9D_%EC%84%B8%EB%AF%B8%EB%82%98/Data_Preprocessing.ipynb\" target=\"_parent\"><img src=\"https://colab.research.google.com/assets/colab-badge.svg\" alt=\"Open In Colab\"/></a>"
      ]
    },
    {
      "cell_type": "code",
      "source": [
        "import pandas as pd\n",
        "import numpy as np"
      ],
      "metadata": {
        "id": "KTEwAbMac8vw"
      },
      "execution_count": 37,
      "outputs": []
    },
    {
      "cell_type": "markdown",
      "source": [
        "#누락 데이터"
      ],
      "metadata": {
        "id": "5OXJLA2tf_BH"
      }
    },
    {
      "cell_type": "code",
      "source": [
        "float_data = pd.Series([1.2,-3.5,np.nan,0])\n",
        "float_data"
      ],
      "metadata": {
        "colab": {
          "base_uri": "https://localhost:8080/"
        },
        "id": "wI4yZN9qgBhK",
        "outputId": "887b9c89-81f6-48cf-a7c4-20737e79f6b5"
      },
      "execution_count": null,
      "outputs": [
        {
          "output_type": "execute_result",
          "data": {
            "text/plain": [
              "0    1.2\n",
              "1   -3.5\n",
              "2    NaN\n",
              "3    0.0\n",
              "dtype: float64"
            ]
          },
          "metadata": {},
          "execution_count": 7
        }
      ]
    },
    {
      "cell_type": "code",
      "source": [
        "string_data = pd.Series([\"aardvark\",np.nan,None,\"avocado\"])\n",
        "print(string_data,end=\"\\n\\n\")"
      ],
      "metadata": {
        "colab": {
          "base_uri": "https://localhost:8080/"
        },
        "id": "hdC570zmg16R",
        "outputId": "88eac48a-6318-4d31-b6a3-3ca05cd22a43"
      },
      "execution_count": null,
      "outputs": [
        {
          "output_type": "stream",
          "name": "stdout",
          "text": [
            "0    aardvark\n",
            "1         NaN\n",
            "2        None\n",
            "3     avocado\n",
            "dtype: object\n",
            "\n"
          ]
        }
      ]
    },
    {
      "cell_type": "markdown",
      "source": [
        "# NA 처리 메서드"
      ],
      "metadata": {
        "id": "tlAaY-Lri_I8"
      }
    },
    {
      "cell_type": "code",
      "source": [
        "print(\"1. dropna()\\n\",string_data.dropna(),end=\"\\n\\n\")\n",
        "print(\"2. fillna()\\n\",string_data.fillna(0),end=\"\\n\\n\")\n",
        "print(\"3. isna()\\n\",string_data.isna(),end=\"\\n\\n\")\n",
        "print(\"4. notna()\\n\",string_data.notna(),end=\"\\n\\n\")"
      ],
      "metadata": {
        "colab": {
          "base_uri": "https://localhost:8080/"
        },
        "id": "aPaFuPyXgIFj",
        "outputId": "d1c978c5-ea5f-4443-b868-307ab2cc913b"
      },
      "execution_count": null,
      "outputs": [
        {
          "output_type": "stream",
          "name": "stdout",
          "text": [
            "1. dropna()\n",
            " 0    aardvark\n",
            "3     avocado\n",
            "dtype: object\n",
            "\n",
            "2. fillna()\n",
            " 0    aardvark\n",
            "1           0\n",
            "2           0\n",
            "3     avocado\n",
            "dtype: object\n",
            "\n",
            "3. isna()\n",
            " 0    False\n",
            "1     True\n",
            "2     True\n",
            "3    False\n",
            "dtype: bool\n",
            "\n",
            "4. notna()\n",
            " 0     True\n",
            "1    False\n",
            "2    False\n",
            "3     True\n",
            "dtype: bool\n",
            "\n"
          ]
        }
      ]
    },
    {
      "cell_type": "markdown",
      "source": [
        "# 누락 데이터 골라내기"
      ],
      "metadata": {
        "id": "4m8FrUlRcvr3"
      }
    },
    {
      "cell_type": "code",
      "execution_count": null,
      "metadata": {
        "colab": {
          "base_uri": "https://localhost:8080/"
        },
        "id": "HaYeont2Wrk1",
        "outputId": "62b877bb-9a9c-4a2c-97e8-7c2bee1a3e13"
      },
      "outputs": [
        {
          "output_type": "stream",
          "name": "stdout",
          "text": [
            "0    1.0\n",
            "2    3.5\n",
            "4    7.0\n",
            "dtype: float64\n",
            "\n",
            "0    1.0\n",
            "2    3.5\n",
            "4    7.0\n",
            "dtype: float64\n"
          ]
        }
      ],
      "source": [
        "data = pd.Series([1,np.nan,3.5,np.nan,7])\n",
        "print(data.dropna(),end='\\n\\n')\n",
        "# data.dropna()와 동일\n",
        "print(data[data.notna()])"
      ]
    },
    {
      "cell_type": "code",
      "source": [
        "data = pd.DataFrame([[1.,6.5,3.],[1.,np.nan,np.nan],[np.nan,np.nan,np.nan],[np.nan,6.5,3.]])\n",
        "print(data,end='\\n\\n')\n",
        "print(data.dropna(),end='\\n\\n')"
      ],
      "metadata": {
        "colab": {
          "base_uri": "https://localhost:8080/"
        },
        "id": "8xW4q99UdBzt",
        "outputId": "cb23a7d3-212a-41a3-cc52-6ff158547542"
      },
      "execution_count": null,
      "outputs": [
        {
          "output_type": "stream",
          "name": "stdout",
          "text": [
            "     0    1    2\n",
            "0  1.0  6.5  3.0\n",
            "1  1.0  NaN  NaN\n",
            "2  NaN  NaN  NaN\n",
            "3  NaN  6.5  3.0\n",
            "\n",
            "     0    1    2\n",
            "0  1.0  6.5  3.0\n"
          ]
        }
      ]
    },
    {
      "cell_type": "code",
      "source": [
        "# how=\"all\" 옵션을 넘기면 모든값이 NA인 행만 제외\n",
        "print(data.dropna(how=\"all\"),end='\\n\\n')\n",
        "# axis=\"columns\" 옵션을 넘기면 열의 모든 값이 NA인 열만 제외\n",
        "print(data.dropna(axis=\"columns\"))"
      ],
      "metadata": {
        "colab": {
          "base_uri": "https://localhost:8080/"
        },
        "id": "Odhd6XzHlWVm",
        "outputId": "225b4d82-1bd7-45ec-a7a1-22c8dfd1628c"
      },
      "execution_count": null,
      "outputs": [
        {
          "output_type": "stream",
          "name": "stdout",
          "text": [
            "     0    1    2\n",
            "0  1.0  6.5  3.0\n",
            "1  1.0  NaN  NaN\n",
            "3  NaN  6.5  3.0\n",
            "\n",
            "Empty DataFrame\n",
            "Columns: []\n",
            "Index: [0, 1, 2, 3]\n"
          ]
        }
      ]
    },
    {
      "cell_type": "code",
      "source": [
        "# thresh 인수를 사용하면 결측치가 특정 개수보다 적은 행만 보여줌\n",
        "df = pd.DataFrame(np.random.standard_normal((7,3)))\n",
        "df.iloc[:4,1] = np.nan # index 0~3까지인 1열\n",
        "df.iloc[:2,2] = np.nan # index 0~1까지인 2열\n",
        "\n",
        "print(df,end='\\n\\n')\n",
        "print(df.dropna(thresh=2)) # 결측치가 2개보다 적은 행"
      ],
      "metadata": {
        "colab": {
          "base_uri": "https://localhost:8080/"
        },
        "id": "hWKGwppKloJo",
        "outputId": "e0d6fad7-c864-4e03-8e3a-0c380b7751ca"
      },
      "execution_count": null,
      "outputs": [
        {
          "output_type": "stream",
          "name": "stdout",
          "text": [
            "          0         1         2\n",
            "0  1.634277       NaN       NaN\n",
            "1 -0.085532       NaN       NaN\n",
            "2  1.020710       NaN -0.736352\n",
            "3 -1.213489       NaN -0.011140\n",
            "4 -1.409602  1.631626  0.842160\n",
            "5  0.006697  2.972183 -0.919767\n",
            "6  0.764403  0.164765 -0.383764\n",
            "\n",
            "          0         1         2\n",
            "2  1.020710       NaN -0.736352\n",
            "3 -1.213489       NaN -0.011140\n",
            "4 -1.409602  1.631626  0.842160\n",
            "5  0.006697  2.972183 -0.919767\n",
            "6  0.764403  0.164765 -0.383764\n"
          ]
        }
      ]
    },
    {
      "cell_type": "markdown",
      "source": [
        "# 결측치 채우기"
      ],
      "metadata": {
        "id": "JddCZ9E4nxcr"
      }
    },
    {
      "cell_type": "code",
      "source": [
        "# 0으로 채우기\n",
        "print(df.fillna(0),end='\\n\\n')\n",
        "# 1열은 0,5, 2열은 0으로 채우기\n",
        "print(df.fillna({1:0.5,2:0}))"
      ],
      "metadata": {
        "colab": {
          "base_uri": "https://localhost:8080/"
        },
        "id": "quFJr8mNnzN4",
        "outputId": "21172938-2358-4fb0-83f3-abbbcfa534de"
      },
      "execution_count": null,
      "outputs": [
        {
          "output_type": "stream",
          "name": "stdout",
          "text": [
            "          0         1         2\n",
            "0  1.634277  0.000000  0.000000\n",
            "1 -0.085532  0.000000  0.000000\n",
            "2  1.020710  0.000000 -0.736352\n",
            "3 -1.213489  0.000000 -0.011140\n",
            "4 -1.409602  1.631626  0.842160\n",
            "5  0.006697  2.972183 -0.919767\n",
            "6  0.764403  0.164765 -0.383764\n",
            "\n",
            "          0         1         2\n",
            "0  1.634277  0.500000  0.000000\n",
            "1 -0.085532  0.500000  0.000000\n",
            "2  1.020710  0.500000 -0.736352\n",
            "3 -1.213489  0.500000 -0.011140\n",
            "4 -1.409602  1.631626  0.842160\n",
            "5  0.006697  2.972183 -0.919767\n",
            "6  0.764403  0.164765 -0.383764\n"
          ]
        }
      ]
    },
    {
      "cell_type": "code",
      "source": [
        "df = pd.DataFrame(np.random.standard_normal((6,3)))\n",
        "df.iloc[2:,1] = np.nan\n",
        "df.iloc[4:,2] = np.nan\n",
        "print(df.fillna(method=\"ffill\"),end='\\n\\n')\n",
        "print(df.fillna(method=\"ffill\",limit=2))"
      ],
      "metadata": {
        "colab": {
          "base_uri": "https://localhost:8080/"
        },
        "id": "ynt-q-OuoPQV",
        "outputId": "da854973-3275-4a4c-9a90-771491cf92a4"
      },
      "execution_count": null,
      "outputs": [
        {
          "output_type": "stream",
          "name": "stdout",
          "text": [
            "          0        1         2\n",
            "0 -0.015225 -0.15222 -0.372886\n",
            "1 -0.717800  0.42898  1.676308\n",
            "2  2.038295  0.42898 -3.266188\n",
            "3  1.379114  0.42898  1.090087\n",
            "4 -2.372344  0.42898  1.090087\n",
            "5  2.132028  0.42898  1.090087\n",
            "\n",
            "          0        1         2\n",
            "0 -0.015225 -0.15222 -0.372886\n",
            "1 -0.717800  0.42898  1.676308\n",
            "2  2.038295  0.42898 -3.266188\n",
            "3  1.379114  0.42898  1.090087\n",
            "4 -2.372344      NaN  1.090087\n",
            "5  2.132028      NaN  1.090087\n"
          ]
        }
      ]
    },
    {
      "cell_type": "code",
      "source": [
        "data = pd.Series([1.,np.nan,3.5,np.nan,7])\n",
        "# data의 평균으로 결측치 채우기\n",
        "data.fillna(data.mean())"
      ],
      "metadata": {
        "colab": {
          "base_uri": "https://localhost:8080/"
        },
        "id": "a8hWmjH5opHb",
        "outputId": "e167f5c5-45e2-49b6-c2c8-cd63af1a89cf"
      },
      "execution_count": null,
      "outputs": [
        {
          "output_type": "execute_result",
          "data": {
            "text/plain": [
              "0    1.000000\n",
              "1    3.833333\n",
              "2    3.500000\n",
              "3    3.833333\n",
              "4    7.000000\n",
              "dtype: float64"
            ]
          },
          "metadata": {},
          "execution_count": 28
        }
      ]
    },
    {
      "cell_type": "markdown",
      "source": [
        "# 중복 제거"
      ],
      "metadata": {
        "id": "G_dcxw7_qPEH"
      }
    },
    {
      "cell_type": "code",
      "source": [
        "data = pd.DataFrame({\"k1\":[\"one\",\"two\"]*3 + [\"two\"],\n",
        "                     \"k2\":[1,1,2,3,3,4,4]})\n",
        "print(data)"
      ],
      "metadata": {
        "colab": {
          "base_uri": "https://localhost:8080/"
        },
        "id": "xIa1GJARqQdF",
        "outputId": "9491f643-de48-45e4-9ad8-0d99190ced22"
      },
      "execution_count": null,
      "outputs": [
        {
          "output_type": "stream",
          "name": "stdout",
          "text": [
            "    k1  k2\n",
            "0  one   1\n",
            "1  two   1\n",
            "2  one   2\n",
            "3  two   3\n",
            "4  one   3\n",
            "5  two   4\n",
            "6  two   4\n"
          ]
        }
      ]
    },
    {
      "cell_type": "code",
      "source": [
        "# 각 행이 중복인지 확인\n",
        "print(data.duplicated())"
      ],
      "metadata": {
        "colab": {
          "base_uri": "https://localhost:8080/"
        },
        "id": "hhFVWWFyrYXu",
        "outputId": "215043c2-50ac-4534-be76-c996a02d7ec4"
      },
      "execution_count": null,
      "outputs": [
        {
          "output_type": "stream",
          "name": "stdout",
          "text": [
            "0    False\n",
            "1    False\n",
            "2    False\n",
            "3    False\n",
            "4    False\n",
            "5    False\n",
            "6     True\n",
            "dtype: bool\n"
          ]
        }
      ]
    },
    {
      "cell_type": "code",
      "source": [
        "print(data.drop_duplicates())"
      ],
      "metadata": {
        "colab": {
          "base_uri": "https://localhost:8080/"
        },
        "id": "n0x7lzKMrTbY",
        "outputId": "05701e5b-f414-4384-c25b-d714c597af66"
      },
      "execution_count": null,
      "outputs": [
        {
          "output_type": "stream",
          "name": "stdout",
          "text": [
            "    k1  k2\n",
            "0  one   1\n",
            "1  two   1\n",
            "2  one   2\n",
            "3  two   3\n",
            "4  one   3\n",
            "5  two   4\n"
          ]
        }
      ]
    },
    {
      "cell_type": "code",
      "source": [
        "print(data.drop_duplicates())"
      ],
      "metadata": {
        "colab": {
          "base_uri": "https://localhost:8080/"
        },
        "id": "w2sqJ9EXrZmp",
        "outputId": "c982df4d-243a-4c9b-d97f-f95d4287587b"
      },
      "execution_count": null,
      "outputs": [
        {
          "output_type": "stream",
          "name": "stdout",
          "text": [
            "    k1  k2  v1\n",
            "0  one   1   0\n",
            "1  two   1   1\n",
            "2  one   2   2\n",
            "3  two   3   3\n",
            "4  one   3   4\n",
            "5  two   4   5\n",
            "6  two   4   6\n"
          ]
        }
      ]
    },
    {
      "cell_type": "code",
      "source": [
        "data[\"v1\"] = range(7)\n",
        "print(data,end=\"\\n\\n\")\n",
        "print(data.drop_duplicates(subset=[\"k1\"]))"
      ],
      "metadata": {
        "colab": {
          "base_uri": "https://localhost:8080/"
        },
        "id": "_cV2iDE7rg1a",
        "outputId": "5181942b-2259-40e2-ae6b-3534dba7cad7"
      },
      "execution_count": null,
      "outputs": [
        {
          "output_type": "stream",
          "name": "stdout",
          "text": [
            "    k1  k2  v1\n",
            "0  one   1   0\n",
            "1  two   1   1\n",
            "2  one   2   2\n",
            "3  two   3   3\n",
            "4  one   3   4\n",
            "5  two   4   5\n",
            "6  two   4   6\n",
            "\n",
            "    k1  k2  v1\n",
            "0  one   1   0\n",
            "1  two   1   1\n"
          ]
        }
      ]
    },
    {
      "cell_type": "code",
      "source": [
        "# 마지막에 발견된 값을 반환\n",
        "print(data.drop_duplicates([\"k1\",\"k2\"],keep=\"last\"))"
      ],
      "metadata": {
        "colab": {
          "base_uri": "https://localhost:8080/"
        },
        "id": "u8bNoTTQrzBD",
        "outputId": "5032f121-0e10-479d-c303-39fa3cbaa595"
      },
      "execution_count": null,
      "outputs": [
        {
          "output_type": "stream",
          "name": "stdout",
          "text": [
            "    k1  k2  v1\n",
            "0  one   1   0\n",
            "1  two   1   1\n",
            "2  one   2   2\n",
            "3  two   3   3\n",
            "4  one   3   4\n",
            "6  two   4   6\n"
          ]
        }
      ]
    },
    {
      "cell_type": "markdown",
      "source": [
        "# 함수와 매핑을 통한 데이터 변환"
      ],
      "metadata": {
        "id": "NyDOdF36t14C"
      }
    },
    {
      "cell_type": "code",
      "source": [
        "data = pd.DataFrame({\"food\":[\"bacon\",\"pulled pork\",\"bacon\",\n",
        "                             \"pastrami\",\"corned beef\",\"bacon\",\n",
        "                             \"pastrami\",\"honey ham\",\"nova lox\"],\n",
        "                     \"ounces\":[4,3,12,6,7.5,8,3,5,6]})\n",
        "print(data)"
      ],
      "metadata": {
        "colab": {
          "base_uri": "https://localhost:8080/"
        },
        "id": "P6cJ_iZht5S-",
        "outputId": "7ef2be7d-4ff6-4719-f897-eec0f9d57e9c"
      },
      "execution_count": null,
      "outputs": [
        {
          "output_type": "stream",
          "name": "stdout",
          "text": [
            "          food  ounces\n",
            "0        bacon     4.0\n",
            "1  pulled pork     3.0\n",
            "2        bacon    12.0\n",
            "3     pastrami     6.0\n",
            "4  corned beef     7.5\n",
            "5        bacon     8.0\n",
            "6     pastrami     3.0\n",
            "7    honey ham     5.0\n",
            "8     nova lox     6.0\n"
          ]
        }
      ]
    },
    {
      "cell_type": "code",
      "source": [
        "# 육류의 원재료를 알려주는 열을 추가\n",
        "meat_to_animal = {\n",
        "    \"bacon\":\"pig\",\n",
        "    \"pulled pork\":\"pig\",\n",
        "    \"pastrami\":\"cow\",\n",
        "    \"corned beef\":\"cow\",\n",
        "    \"honey ham\":\"pig\",\n",
        "    \"nova lox\":\"salmon\"\n",
        "}\n",
        "# map 함수를 사용해 원재료 열 추가\n",
        "data[\"animal\"] = data[\"food\"].map(meat_to_animal)\n",
        "print(data)"
      ],
      "metadata": {
        "colab": {
          "base_uri": "https://localhost:8080/"
        },
        "id": "5DifGZtft9W2",
        "outputId": "a26aee50-ffd2-498b-fa8e-fac9f9bcb291"
      },
      "execution_count": null,
      "outputs": [
        {
          "output_type": "stream",
          "name": "stdout",
          "text": [
            "          food  ounces  animal\n",
            "0        bacon     4.0     pig\n",
            "1  pulled pork     3.0     pig\n",
            "2        bacon    12.0     pig\n",
            "3     pastrami     6.0     cow\n",
            "4  corned beef     7.5     cow\n",
            "5        bacon     8.0     pig\n",
            "6     pastrami     3.0     cow\n",
            "7    honey ham     5.0     pig\n",
            "8     nova lox     6.0  salmon\n"
          ]
        }
      ]
    },
    {
      "cell_type": "code",
      "source": [
        "# 함수 사용\n",
        "print(data[\"food\"].map(lambda x:meat_to_animal[x]))"
      ],
      "metadata": {
        "colab": {
          "base_uri": "https://localhost:8080/"
        },
        "id": "qstHMAz_vAXK",
        "outputId": "b9ddc017-089c-43a8-88d6-69f9372d3737"
      },
      "execution_count": null,
      "outputs": [
        {
          "output_type": "stream",
          "name": "stdout",
          "text": [
            "0       pig\n",
            "1       pig\n",
            "2       pig\n",
            "3       cow\n",
            "4       cow\n",
            "5       pig\n",
            "6       cow\n",
            "7       pig\n",
            "8    salmon\n",
            "Name: food, dtype: object\n"
          ]
        }
      ]
    },
    {
      "cell_type": "markdown",
      "source": [
        "# 값 치환하기"
      ],
      "metadata": {
        "id": "85SVTVJ2wmXW"
      }
    },
    {
      "cell_type": "code",
      "source": [
        "data = pd.DataFrame(np.arange(12).reshape((3,4)),\n",
        "                    index=[\"Ohio\",\"Colorado\",\"New York\"],\n",
        "                    columns=[\"one\",\"two\",\"three\",\"four\"])\n",
        "# 축 색인에도 map 메서드가 존재함.\n",
        "# 이렇게 변경된 축 이름을 바로 적용가능\n",
        "data.index = data.index.map(lambda x:x[:4].upper())\n",
        "print(data)"
      ],
      "metadata": {
        "colab": {
          "base_uri": "https://localhost:8080/"
        },
        "id": "DPhMGmdWwnpS",
        "outputId": "750addbf-6391-4750-85b0-2223b8145b2b"
      },
      "execution_count": null,
      "outputs": [
        {
          "output_type": "stream",
          "name": "stdout",
          "text": [
            "      one  two  three  four\n",
            "OHIO    0    1      2     3\n",
            "COLO    4    5      6     7\n",
            "NEW     8    9     10    11\n"
          ]
        }
      ]
    },
    {
      "cell_type": "code",
      "source": [
        "# rename 원래 객체를 변경하지 않고 새로운 객체를 생성\n",
        "print(data.rename(index=str.title,columns=str.upper))\n",
        "# 딕셔너리 객체를 이용해 일부 축 이름만 변경할 수 있음\n",
        "print(data.rename(index={\"OHIO\":\"INDIANA\"},columns={\"three\":\"peekaboo\"}))"
      ],
      "metadata": {
        "colab": {
          "base_uri": "https://localhost:8080/"
        },
        "id": "TRBqs1JjxF6z",
        "outputId": "854b9f7e-cf0f-4c3b-af2d-8cd79b646055"
      },
      "execution_count": null,
      "outputs": [
        {
          "output_type": "stream",
          "name": "stdout",
          "text": [
            "      ONE  TWO  THREE  FOUR\n",
            "Ohio    0    1      2     3\n",
            "Colo    4    5      6     7\n",
            "New     8    9     10    11\n",
            "         one  two  peekaboo  four\n",
            "INDIANA    0    1         2     3\n",
            "COLO       4    5         6     7\n",
            "NEW        8    9        10    11\n"
          ]
        }
      ]
    },
    {
      "cell_type": "markdown",
      "source": [
        "# 이산화"
      ],
      "metadata": {
        "id": "1ORFiYzh0l8N"
      }
    },
    {
      "cell_type": "code",
      "source": [
        "ages = [20,22,25,27,21,23,37,31,61,45,41,32]\n",
        "bins = [18,25,35,60,100]\n",
        "# 18~25, 26~35, 36~60, 61 이상인 그룹\n",
        "age_categories = pd.cut(ages,bins)\n",
        "print(age_categories,end=\"\\n\\n\")\n",
        "# 그룹의 카테고리 코드\n",
        "print(age_categories.codes,end=\"\\n\\n\")\n",
        "# 그룹의 카테고리\n",
        "print(age_categories.categories,end=\"\\n\\n\")\n",
        "# 첫번째 카테고리\n",
        "print(age_categories.categories[0],end=\"\\n\\n\")"
      ],
      "metadata": {
        "colab": {
          "base_uri": "https://localhost:8080/"
        },
        "id": "SfXKaZQe0nZy",
        "outputId": "63208f80-f2db-494e-f855-95936448eaff"
      },
      "execution_count": null,
      "outputs": [
        {
          "output_type": "stream",
          "name": "stdout",
          "text": [
            "[(18, 25], (18, 25], (18, 25], (25, 35], (18, 25], ..., (25, 35], (60, 100], (35, 60], (35, 60], (25, 35]]\n",
            "Length: 12\n",
            "Categories (4, interval[int64, right]): [(18, 25] < (25, 35] < (35, 60] < (60, 100]]\n",
            "\n",
            "[0 0 0 1 0 0 2 1 3 2 2 1]\n",
            "\n",
            "IntervalIndex([(18, 25], (25, 35], (35, 60], (60, 100]], dtype='interval[int64, right]')\n",
            "\n",
            "(18, 25]\n",
            "\n"
          ]
        }
      ]
    },
    {
      "cell_type": "code",
      "source": [
        "# 그룹의 개수\n",
        "print(pd.value_counts(age_categories))"
      ],
      "metadata": {
        "colab": {
          "base_uri": "https://localhost:8080/"
        },
        "id": "L9ayeOtLBxap",
        "outputId": "372dd2f4-b88e-442b-b37a-dd843831b532"
      },
      "execution_count": null,
      "outputs": [
        {
          "output_type": "stream",
          "name": "stdout",
          "text": [
            "(18, 25]     5\n",
            "(25, 35]     3\n",
            "(35, 60]     3\n",
            "(60, 100]    1\n",
            "dtype: int64\n"
          ]
        }
      ]
    },
    {
      "cell_type": "code",
      "source": [
        "# 소괄호, 대괄호 위치 변경\n",
        "print(pd.cut(ages,bins,right=False),end=\"\\n\\n\")\n",
        "# 그룹의 이름 변경\n",
        "group_names = [\"Youth\",\"YoungAdult\",\"MiddleAged\",\"Senior\"]\n",
        "print(pd.cut(ages,bins,labels=group_names),end=\"\\n\\n\")\n",
        "# 그룹을 4개로 나누는 경우\n",
        "# 0~1사이의 20개의 랜덤 배열 반환\n",
        "data = np.random.uniform(size=20)\n",
        "# 소수점 아래 두 자리까지로 제한\n",
        "print(pd.cut(data,4,precision=2))"
      ],
      "metadata": {
        "colab": {
          "base_uri": "https://localhost:8080/"
        },
        "id": "-oeDRqo12Fax",
        "outputId": "19da9464-ccba-4783-f12a-9623779ec9cf"
      },
      "execution_count": null,
      "outputs": [
        {
          "output_type": "stream",
          "name": "stdout",
          "text": [
            "[[18, 25), [18, 25), [25, 35), [25, 35), [18, 25), ..., [25, 35), [60, 100), [35, 60), [35, 60), [25, 35)]\n",
            "Length: 12\n",
            "Categories (4, interval[int64, left]): [[18, 25) < [25, 35) < [35, 60) < [60, 100)]\n",
            "\n",
            "['Youth', 'Youth', 'Youth', 'YoungAdult', 'Youth', ..., 'YoungAdult', 'Senior', 'MiddleAged', 'MiddleAged', 'YoungAdult']\n",
            "Length: 12\n",
            "Categories (4, object): ['Youth' < 'YoungAdult' < 'MiddleAged' < 'Senior']\n",
            "\n",
            "[(0.26, 0.5], (0.5, 0.74], (0.5, 0.74], (0.26, 0.5], (0.5, 0.74], ..., (0.015, 0.26], (0.26, 0.5], (0.5, 0.74], (0.015, 0.26], (0.26, 0.5]]\n",
            "Length: 20\n",
            "Categories (4, interval[float64, right]): [(0.015, 0.26] < (0.26, 0.5] < (0.5, 0.74] < (0.74, 0.98]]\n"
          ]
        }
      ]
    },
    {
      "cell_type": "code",
      "source": [
        "# 1000개의 표준정규분포\n",
        "data = np.random.standard_normal(1000)\n",
        "quartiles = pd.qcut(data,4,precision=2)\n",
        "print(quartiles,end=\"\\n\\n\")\n",
        "# 그룹 개수\n",
        "print(pd.value_counts(quartiles))\n",
        "# 사분위수 직접 지정\n",
        "print(pd.qcut(data,[0,0.1,0.5,0.9,1.]).value_counts())"
      ],
      "metadata": {
        "colab": {
          "base_uri": "https://localhost:8080/"
        },
        "id": "DKPT8XAnFCpc",
        "outputId": "0607d83c-c16c-4565-f424-b45520e6e3a6"
      },
      "execution_count": null,
      "outputs": [
        {
          "output_type": "stream",
          "name": "stdout",
          "text": [
            "[(-3.1799999999999997, -0.69], (0.00015, 0.7], (0.00015, 0.7], (-0.69, 0.00015], (0.7, 2.75], ..., (-3.1799999999999997, -0.69], (-3.1799999999999997, -0.69], (-0.69, 0.00015], (0.7, 2.75], (0.7, 2.75]]\n",
            "Length: 1000\n",
            "Categories (4, interval[float64, right]): [(-3.1799999999999997, -0.69] < (-0.69, 0.00015] < (0.00015, 0.7] <\n",
            "                                           (0.7, 2.75]]\n",
            "\n",
            "(-3.1799999999999997, -0.69]    250\n",
            "(-0.69, 0.00015]                250\n",
            "(0.00015, 0.7]                  250\n",
            "(0.7, 2.75]                     250\n",
            "dtype: int64\n",
            "(-3.175, -1.277]      100\n",
            "(-1.277, 0.000149]    400\n",
            "(0.000149, 1.31]      400\n",
            "(1.31, 2.755]         100\n",
            "dtype: int64\n"
          ]
        }
      ]
    },
    {
      "cell_type": "markdown",
      "source": [
        "# 이상치 찾기"
      ],
      "metadata": {
        "id": "kQmrbECkHqOa"
      }
    },
    {
      "cell_type": "code",
      "source": [
        "data = pd.DataFrame(np.random.standard_normal((1000,4)))\n",
        "print(data.describe(),end=\"\\n\\n\")\n",
        "# 일부가 조건에 만족하는 경우\n",
        "# 절댓값이 3보다 큰 값이 하나라도 있는 경우\n",
        "print(data[(data.abs()>3).any(axis=\"columns\")])"
      ],
      "metadata": {
        "colab": {
          "base_uri": "https://localhost:8080/"
        },
        "id": "NLFh7CQ4Hpvx",
        "outputId": "b87a070e-1cba-4b3a-ebdd-32faa767449a"
      },
      "execution_count": null,
      "outputs": [
        {
          "output_type": "stream",
          "name": "stdout",
          "text": [
            "                 0            1            2            3\n",
            "count  1000.000000  1000.000000  1000.000000  1000.000000\n",
            "mean     -0.003608    -0.030810    -0.019863    -0.013444\n",
            "std       1.001350     0.948102     0.982563     0.996222\n",
            "min      -3.547301    -2.772028    -3.656514    -2.903346\n",
            "25%      -0.710090    -0.669556    -0.699636    -0.725074\n",
            "50%      -0.001962    -0.001981    -0.020513    -0.004829\n",
            "75%       0.697626     0.554227     0.637673     0.650469\n",
            "max       3.123752     2.499631     3.603715     3.179029\n",
            "\n",
            "            0         1         2         3\n",
            "296  0.084566 -2.358280 -3.656514  0.281972\n",
            "671  1.277194  0.130763  3.603715  0.028053\n",
            "684 -0.068062 -1.053599 -1.152395  3.179029\n",
            "940  3.123752  0.183037  0.534826 -0.607294\n",
            "952 -3.547301  2.486437 -0.295198 -0.470539\n",
            "980  1.011293 -0.118783 -3.028132  0.595613\n"
          ]
        }
      ]
    },
    {
      "cell_type": "code",
      "source": [
        "# 전부가 조건에 만족하는 경우\n",
        "# 모든 열의 절댓값이 1보다 큰 값인 경우\n",
        "print(data[(data.abs()>1).all(axis=\"columns\")])"
      ],
      "metadata": {
        "colab": {
          "base_uri": "https://localhost:8080/"
        },
        "id": "D7wa_BEtI5Uc",
        "outputId": "1bcf654c-eeaa-44c2-b8de-073fc99c56f6"
      },
      "execution_count": null,
      "outputs": [
        {
          "output_type": "stream",
          "name": "stdout",
          "text": [
            "            0         1         2         3\n",
            "369 -1.116943  1.527782  1.733598 -1.859524\n",
            "566 -1.375834 -1.088336  1.214686  1.028193\n",
            "624 -1.546345 -1.783116  1.256663  1.598327\n",
            "633  1.668501 -1.447754  1.307928 -1.391682\n"
          ]
        }
      ]
    },
    {
      "cell_type": "code",
      "source": [
        "data[data.abs() > 3] = np.sign(data) * 3\n",
        "print(data.describe(),end=\"\\n\\n\")\n",
        "print(np.sign(data).head())"
      ],
      "metadata": {
        "colab": {
          "base_uri": "https://localhost:8080/"
        },
        "id": "A1gjOLENJuWO",
        "outputId": "94513ecc-0409-40d0-f375-8a458f50f6aa"
      },
      "execution_count": null,
      "outputs": [
        {
          "output_type": "stream",
          "name": "stdout",
          "text": [
            "                 0            1            2            3\n",
            "count  1000.000000  1000.000000  1000.000000  1000.000000\n",
            "mean     -0.003184    -0.030810    -0.019782    -0.013623\n",
            "std       0.999180     0.948102     0.978212     0.995664\n",
            "min      -3.000000    -2.772028    -3.000000    -2.903346\n",
            "25%      -0.710090    -0.669556    -0.699636    -0.725074\n",
            "50%      -0.001962    -0.001981    -0.020513    -0.004829\n",
            "75%       0.697626     0.554227     0.637673     0.650469\n",
            "max       3.000000     2.499631     3.000000     3.000000\n",
            "\n",
            "     0    1    2    3\n",
            "0 -1.0  1.0  1.0  1.0\n",
            "1  1.0 -1.0 -1.0  1.0\n",
            "2  1.0 -1.0  1.0 -1.0\n",
            "3  1.0 -1.0  1.0 -1.0\n",
            "4  1.0  1.0  1.0 -1.0\n"
          ]
        }
      ]
    },
    {
      "cell_type": "markdown",
      "source": [
        "# 뒤섞기와 임의 샘플링"
      ],
      "metadata": {
        "id": "0nStD14YKII6"
      }
    },
    {
      "cell_type": "code",
      "source": [
        "df = pd.DataFrame(np.arange(5*7).reshape((5,7)))\n",
        "print(df,end=\"\\n\\n\")\n",
        "# 랜덤으로 섞인 5개의 배열\n",
        "sampler = np.random.permutation(5)\n",
        "# sampler 값에 맞게 인덱스 재배치\n",
        "print(df.take(sampler),end=\"\\n\\n\")\n",
        "print(df.iloc[sampler])"
      ],
      "metadata": {
        "colab": {
          "base_uri": "https://localhost:8080/"
        },
        "id": "o0V8G-kwKKcs",
        "outputId": "38301ebe-e1e7-4027-b890-6fcf4d7ed831"
      },
      "execution_count": null,
      "outputs": [
        {
          "output_type": "stream",
          "name": "stdout",
          "text": [
            "    0   1   2   3   4   5   6\n",
            "0   0   1   2   3   4   5   6\n",
            "1   7   8   9  10  11  12  13\n",
            "2  14  15  16  17  18  19  20\n",
            "3  21  22  23  24  25  26  27\n",
            "4  28  29  30  31  32  33  34\n",
            "\n",
            "    0   1   2   3   4   5   6\n",
            "4  28  29  30  31  32  33  34\n",
            "0   0   1   2   3   4   5   6\n",
            "2  14  15  16  17  18  19  20\n",
            "1   7   8   9  10  11  12  13\n",
            "3  21  22  23  24  25  26  27\n",
            "\n",
            "    0   1   2   3   4   5   6\n",
            "4  28  29  30  31  32  33  34\n",
            "0   0   1   2   3   4   5   6\n",
            "2  14  15  16  17  18  19  20\n",
            "1   7   8   9  10  11  12  13\n",
            "3  21  22  23  24  25  26  27\n"
          ]
        }
      ]
    },
    {
      "cell_type": "code",
      "source": [
        "column_sampler = np.random.permutation(7)\n",
        "print(df.take(column_sampler,axis=\"columns\"),end=\"\\n\\n\")\n",
        "print(df.sample(n=3),end=\"\\n\\n\")\n",
        "choices = pd.Series([5,7,-1,6,4])\n",
        "print(choices.sample(n=10,replace=True))"
      ],
      "metadata": {
        "colab": {
          "base_uri": "https://localhost:8080/"
        },
        "id": "LheMWRXmMQWn",
        "outputId": "14b4cb1e-177b-4b69-a3ad-2b77a2f172e2"
      },
      "execution_count": null,
      "outputs": [
        {
          "output_type": "stream",
          "name": "stdout",
          "text": [
            "    6   4   1   3   2   5   0\n",
            "0   6   4   1   3   2   5   0\n",
            "1  13  11   8  10   9  12   7\n",
            "2  20  18  15  17  16  19  14\n",
            "3  27  25  22  24  23  26  21\n",
            "4  34  32  29  31  30  33  28\n",
            "\n",
            "    0   1   2   3   4   5   6\n",
            "2  14  15  16  17  18  19  20\n",
            "3  21  22  23  24  25  26  27\n",
            "1   7   8   9  10  11  12  13\n",
            "\n",
            "2   -1\n",
            "2   -1\n",
            "0    5\n",
            "3    6\n",
            "3    6\n",
            "4    4\n",
            "0    5\n",
            "1    7\n",
            "1    7\n",
            "4    4\n",
            "dtype: int64\n"
          ]
        }
      ]
    },
    {
      "cell_type": "markdown",
      "source": [
        "# 표시자, 더미 변수 계산"
      ],
      "metadata": {
        "id": "K59IRByFNHk2"
      }
    },
    {
      "cell_type": "code",
      "source": [
        "df = pd.DataFrame({\"key\":[\"b\",\"b\",\"a\",\"c\",\"a\",\"b\"],\n",
        "                   \"data1\":range(6)})\n",
        "print(df,end=\"\\n\\n\")\n",
        "# float 형 df[\"key\"] 값에 해당하는 더미 데이터프레임\n",
        "print(pd.get_dummies(df[\"key\"],dtype=float))"
      ],
      "metadata": {
        "colab": {
          "base_uri": "https://localhost:8080/"
        },
        "id": "OAd_Uq6UO99c",
        "outputId": "62cbb37c-ea36-416c-a496-eef85630b8a7"
      },
      "execution_count": null,
      "outputs": [
        {
          "output_type": "stream",
          "name": "stdout",
          "text": [
            "  key  data1\n",
            "0   b      0\n",
            "1   b      1\n",
            "2   a      2\n",
            "3   c      3\n",
            "4   a      4\n",
            "5   b      5\n",
            "\n",
            "     a    b    c\n",
            "0  0.0  1.0  0.0\n",
            "1  0.0  1.0  0.0\n",
            "2  1.0  0.0  0.0\n",
            "3  0.0  0.0  1.0\n",
            "4  1.0  0.0  0.0\n",
            "5  0.0  1.0  0.0\n"
          ]
        }
      ]
    },
    {
      "cell_type": "code",
      "source": [
        "# 더미로 만들어진 데이터프레임의 열 이름 앞에 key를 추가\n",
        "dummies = pd.get_dummies(df[\"key\"],prefix=\"key\",dtype=float)\n",
        "# 더미와 기존 데이터에 data1 컬럼을 합침\n",
        "df_with_dummy = df[[\"data1\"]].join(dummies)\n",
        "print(df_with_dummy)"
      ],
      "metadata": {
        "colab": {
          "base_uri": "https://localhost:8080/"
        },
        "id": "5EsJ-roZPgQF",
        "outputId": "009cce5a-d971-41fc-8bd0-8d7d92555627"
      },
      "execution_count": null,
      "outputs": [
        {
          "output_type": "stream",
          "name": "stdout",
          "text": [
            "   data1  key_a  key_b  key_c\n",
            "0      0    0.0    1.0    0.0\n",
            "1      1    0.0    1.0    0.0\n",
            "2      2    1.0    0.0    0.0\n",
            "3      3    0.0    0.0    1.0\n",
            "4      4    1.0    0.0    0.0\n",
            "5      5    0.0    1.0    0.0\n"
          ]
        }
      ]
    },
    {
      "cell_type": "code",
      "source": [
        "# 데이터 셋 가져오기\n",
        "# https://github.com/wesm/pydata-book/blob/3rd-edition/datasets/movielens/movies.dat\n",
        "path = \"/content/drive/MyDrive/study/Preprocessing/movies.dat\"\n",
        "mnames = [\"movie_id\",\"title\",\"genres\"]\n",
        "movies = pd.read_table(path,sep=\"::\",header=None,names=mnames,engine=\"python\")\n",
        "print(movies[:10])"
      ],
      "metadata": {
        "colab": {
          "base_uri": "https://localhost:8080/"
        },
        "id": "j5cTn_pdMmSL",
        "outputId": "5e13bd74-dd5a-4529-c5ac-343101d0f684"
      },
      "execution_count": null,
      "outputs": [
        {
          "output_type": "stream",
          "name": "stdout",
          "text": [
            "   movie_id                               title                        genres\n",
            "0         1                    Toy Story (1995)   Animation|Children's|Comedy\n",
            "1         2                      Jumanji (1995)  Adventure|Children's|Fantasy\n",
            "2         3             Grumpier Old Men (1995)                Comedy|Romance\n",
            "3         4            Waiting to Exhale (1995)                  Comedy|Drama\n",
            "4         5  Father of the Bride Part II (1995)                        Comedy\n",
            "5         6                         Heat (1995)         Action|Crime|Thriller\n",
            "6         7                      Sabrina (1995)                Comedy|Romance\n",
            "7         8                 Tom and Huck (1995)          Adventure|Children's\n",
            "8         9                 Sudden Death (1995)                        Action\n",
            "9        10                    GoldenEye (1995)     Action|Adventure|Thriller\n"
          ]
        }
      ]
    },
    {
      "cell_type": "code",
      "source": [
        "# 더미 변수 처리\n",
        "dummies = movies[\"genres\"].str.get_dummies(\"|\")\n",
        "print(dummies.iloc[:10,:6])"
      ],
      "metadata": {
        "colab": {
          "base_uri": "https://localhost:8080/"
        },
        "id": "AYspIhi1R021",
        "outputId": "be6d9f68-fa43-465c-a637-5ead2555000e"
      },
      "execution_count": null,
      "outputs": [
        {
          "output_type": "stream",
          "name": "stdout",
          "text": [
            "   Action  Adventure  Animation  Children's  Comedy  Crime\n",
            "0       0          0          1           1       1      0\n",
            "1       0          1          0           1       0      0\n",
            "2       0          0          0           0       1      0\n",
            "3       0          0          0           0       1      0\n",
            "4       0          0          0           0       1      0\n",
            "5       1          0          0           0       0      1\n",
            "6       0          0          0           0       1      0\n",
            "7       0          1          0           1       0      0\n",
            "8       1          0          0           0       0      0\n",
            "9       1          1          0           0       0      0\n"
          ]
        }
      ]
    },
    {
      "cell_type": "code",
      "source": [
        "# 열이름에 'Genre_' 추가\n",
        "movies_windic = movies.join(dummies.add_prefix(\"Genre_\"))\n",
        "print(movies_windic.iloc[0])"
      ],
      "metadata": {
        "colab": {
          "base_uri": "https://localhost:8080/"
        },
        "id": "DByj3jIaSOH8",
        "outputId": "43e58001-deea-46b6-91df-fc5d11c21970"
      },
      "execution_count": null,
      "outputs": [
        {
          "output_type": "stream",
          "name": "stdout",
          "text": [
            "movie_id                                       1\n",
            "title                           Toy Story (1995)\n",
            "genres               Animation|Children's|Comedy\n",
            "Genre_Action                                   0\n",
            "Genre_Adventure                                0\n",
            "Genre_Animation                                1\n",
            "Genre_Children's                               1\n",
            "Genre_Comedy                                   1\n",
            "Genre_Crime                                    0\n",
            "Genre_Documentary                              0\n",
            "Genre_Drama                                    0\n",
            "Genre_Fantasy                                  0\n",
            "Genre_Film-Noir                                0\n",
            "Genre_Horror                                   0\n",
            "Genre_Musical                                  0\n",
            "Genre_Mystery                                  0\n",
            "Genre_Romance                                  0\n",
            "Genre_Sci-Fi                                   0\n",
            "Genre_Thriller                                 0\n",
            "Genre_War                                      0\n",
            "Genre_Western                                  0\n",
            "Name: 0, dtype: object\n"
          ]
        }
      ]
    },
    {
      "cell_type": "code",
      "source": [
        "np.random.seed(12345)\n",
        "values = np.random.uniform(size=10)\n",
        "print(values)\n",
        "bins = [0,0.2,0.4,0.6,0.8,1]\n",
        "print(pd.get_dummies(pd.cut(values,bins)))"
      ],
      "metadata": {
        "colab": {
          "base_uri": "https://localhost:8080/"
        },
        "id": "5CrRpxRBZqDS",
        "outputId": "55a0cbe9-7661-46a2-9a13-a73fdb20a216"
      },
      "execution_count": null,
      "outputs": [
        {
          "output_type": "stream",
          "name": "stdout",
          "text": [
            "[0.92961609 0.31637555 0.18391881 0.20456028 0.56772503 0.5955447\n",
            " 0.96451452 0.6531771  0.74890664 0.65356987]\n",
            "   (0.0, 0.2]  (0.2, 0.4]  (0.4, 0.6]  (0.6, 0.8]  (0.8, 1.0]\n",
            "0           0           0           0           0           1\n",
            "1           0           1           0           0           0\n",
            "2           1           0           0           0           0\n",
            "3           0           1           0           0           0\n",
            "4           0           0           1           0           0\n",
            "5           0           0           1           0           0\n",
            "6           0           0           0           0           1\n",
            "7           0           0           0           1           0\n",
            "8           0           0           0           1           0\n",
            "9           0           0           0           1           0\n"
          ]
        }
      ]
    },
    {
      "cell_type": "markdown",
      "source": [
        "# 확장 데이터 유형"
      ],
      "metadata": {
        "id": "YCBMoilKhb_k"
      }
    },
    {
      "cell_type": "code",
      "source": [
        "s = pd.Series([1,2,3,None])\n",
        "print(s)\n",
        "s = pd.Series([1,2,3,None],dtype=pd.Int64Dtype)\n",
        "print(s)\n",
        "print(s.isna())"
      ],
      "metadata": {
        "colab": {
          "base_uri": "https://localhost:8080/"
        },
        "id": "5gFJYvvqkEae",
        "outputId": "e868a006-981e-4a73-9e99-dca877537447"
      },
      "execution_count": null,
      "outputs": [
        {
          "output_type": "stream",
          "name": "stdout",
          "text": [
            "0    1.0\n",
            "1    2.0\n",
            "2    3.0\n",
            "3    NaN\n",
            "dtype: float64\n",
            "0       1\n",
            "1       2\n",
            "2       3\n",
            "3    None\n",
            "dtype: object\n",
            "0    False\n",
            "1    False\n",
            "2    False\n",
            "3     True\n",
            "dtype: bool\n"
          ]
        }
      ]
    },
    {
      "cell_type": "code",
      "source": [
        "print(s[3])\n",
        "print(s[3] is pd.NA)\n",
        "# pd.Int64Dtype --> Int64로 줄여서 사용 가능\n",
        "s = pd.Series([1,2,3,None],dtype=\"Int64\")\n",
        "print(s)"
      ],
      "metadata": {
        "colab": {
          "base_uri": "https://localhost:8080/"
        },
        "id": "UKW_jPgThygp",
        "outputId": "d82c0171-31cc-4b49-cf7d-35bbc01ae094"
      },
      "execution_count": null,
      "outputs": [
        {
          "output_type": "stream",
          "name": "stdout",
          "text": [
            "None\n",
            "False\n",
            "0       1\n",
            "1       2\n",
            "2       3\n",
            "3    <NA>\n",
            "dtype: Int64\n"
          ]
        }
      ]
    },
    {
      "cell_type": "code",
      "source": [
        "!pip install pyarrow\n",
        "s = pd.Series(['one','two','None','three'],dtype=pd.StringDtype())\n",
        "print(s)"
      ],
      "metadata": {
        "colab": {
          "base_uri": "https://localhost:8080/"
        },
        "id": "yAZ1evABi245",
        "outputId": "a82f61f6-be9e-4687-8198-b820756f7dfe"
      },
      "execution_count": null,
      "outputs": [
        {
          "output_type": "stream",
          "name": "stdout",
          "text": [
            "Requirement already satisfied: pyarrow in /usr/local/lib/python3.10/dist-packages (9.0.0)\n",
            "Requirement already satisfied: numpy>=1.16.6 in /usr/local/lib/python3.10/dist-packages (from pyarrow) (1.22.4)\n",
            "0      one\n",
            "1      two\n",
            "2     None\n",
            "3    three\n",
            "dtype: string\n"
          ]
        }
      ]
    },
    {
      "cell_type": "code",
      "source": [
        "df = pd.DataFrame({'A':[1,2,None,4],\n",
        "                   \"B\":[\"one\",'two','three',None],\n",
        "                   \"C\":[False,None,False,True]})\n",
        "print(df,end=\"\\n\\n\")\n",
        "df['A'] = df['A'].astype(\"Int64\")\n",
        "df['B'] = df['B'].astype(\"string\")\n",
        "df['C'] = df['C'].astype(\"boolean\")\n",
        "print(df)"
      ],
      "metadata": {
        "colab": {
          "base_uri": "https://localhost:8080/"
        },
        "id": "HK1jFa67jIv9",
        "outputId": "8d318938-4b6d-4a33-ef20-34e6be4829d8"
      },
      "execution_count": null,
      "outputs": [
        {
          "output_type": "stream",
          "name": "stdout",
          "text": [
            "     A      B      C\n",
            "0  1.0    one  False\n",
            "1  2.0    two   None\n",
            "2  NaN  three  False\n",
            "3  4.0   None   True\n",
            "\n",
            "      A      B      C\n",
            "0     1    one  False\n",
            "1     2    two   <NA>\n",
            "2  <NA>  three  False\n",
            "3     4   <NA>   True\n"
          ]
        }
      ]
    },
    {
      "cell_type": "markdown",
      "source": [
        "# 파이썬 내장 문자열 객체 메서드"
      ],
      "metadata": {
        "id": "1f_dQHd6xw-m"
      }
    },
    {
      "cell_type": "code",
      "source": [
        "val = \"a,b, guido\"\n",
        "# split\n",
        "print(val.split(\",\"),end=\"\\n\\n\")\n",
        "# strip\n",
        "pieces = [x.strip() for x in val.split(\",\")]\n",
        "print(pieces,end=\"\\n\\n\")\n",
        "# 문자열 연산\n",
        "first,second,third = pieces\n",
        "print(first+\"::\"+second+\"::\"+third,end=\"\\n\\n\")\n",
        "# join\n",
        "print(\"::\".join(pieces))"
      ],
      "metadata": {
        "colab": {
          "base_uri": "https://localhost:8080/"
        },
        "id": "qQNhs6c6xzdl",
        "outputId": "ac1eded9-74a8-4c5f-eec1-7287aa78eb44"
      },
      "execution_count": 8,
      "outputs": [
        {
          "output_type": "stream",
          "name": "stdout",
          "text": [
            "['a', 'b', ' guido']\n",
            "\n",
            "['a', 'b', 'guido']\n",
            "\n",
            "a::b::guido\n",
            "\n",
            "a::b::guido\n"
          ]
        }
      ]
    },
    {
      "cell_type": "code",
      "source": [
        "print(\"guido\" in val,end=\"\\n\\n\")\n",
        "# index\n",
        "print(val.index(\",\"),end=\"\\n\\n\")\n",
        "# find\n",
        "print(val.find(\":\"))"
      ],
      "metadata": {
        "colab": {
          "base_uri": "https://localhost:8080/"
        },
        "id": "bw_W9KQOyAqN",
        "outputId": "cb5985e6-7662-491b-b1a6-59f223ce5621"
      },
      "execution_count": 11,
      "outputs": [
        {
          "output_type": "stream",
          "name": "stdout",
          "text": [
            "True\n",
            "\n",
            "1\n",
            "\n",
            "-1\n"
          ]
        }
      ]
    },
    {
      "cell_type": "code",
      "source": [
        "val.index(\":\")"
      ],
      "metadata": {
        "colab": {
          "base_uri": "https://localhost:8080/",
          "height": 174
        },
        "id": "gn7jDmROynUy",
        "outputId": "5ea136b0-aedc-4547-dbbd-996473f68f79"
      },
      "execution_count": 12,
      "outputs": [
        {
          "output_type": "error",
          "ename": "ValueError",
          "evalue": "ignored",
          "traceback": [
            "\u001b[0;31m---------------------------------------------------------------------------\u001b[0m",
            "\u001b[0;31mValueError\u001b[0m                                Traceback (most recent call last)",
            "\u001b[0;32m<ipython-input-12-bea4c4c30248>\u001b[0m in \u001b[0;36m<cell line: 1>\u001b[0;34m()\u001b[0m\n\u001b[0;32m----> 1\u001b[0;31m \u001b[0mval\u001b[0m\u001b[0;34m.\u001b[0m\u001b[0mindex\u001b[0m\u001b[0;34m(\u001b[0m\u001b[0;34m\":\"\u001b[0m\u001b[0;34m)\u001b[0m\u001b[0;34m\u001b[0m\u001b[0;34m\u001b[0m\u001b[0m\n\u001b[0m",
            "\u001b[0;31mValueError\u001b[0m: substring not found"
          ]
        }
      ]
    },
    {
      "cell_type": "code",
      "source": [
        "print(val.count(\",\"),end=\"\\n\\n\")\n",
        "print(val.replace(\",\",\"::\"),end=\"\\n\\n\")\n",
        "print(val.replace(\",\",\"\"))"
      ],
      "metadata": {
        "colab": {
          "base_uri": "https://localhost:8080/"
        },
        "id": "WVjMiXaoy0Mw",
        "outputId": "305a869d-e682-48ac-d33a-8a3a77d14321"
      },
      "execution_count": 15,
      "outputs": [
        {
          "output_type": "stream",
          "name": "stdout",
          "text": [
            "2\n",
            "\n",
            "a::b:: guido\n",
            "\n",
            "ab guido\n"
          ]
        }
      ]
    },
    {
      "cell_type": "markdown",
      "source": [
        "# 정규 표현식"
      ],
      "metadata": {
        "id": "rk68HV1K4l6L"
      }
    },
    {
      "cell_type": "code",
      "source": [
        "import re\n",
        "# 문자열 나누기\n",
        "text = \"foo     bar\\t baz   \\tqux\"\n",
        "print(re.split(r\"\\s+\",text),end='\\n\\n')\n",
        "# 직접 정규 표현식 컴파일 후 객체 재사용\n",
        "regex = re.compile(r\"\\s+\")\n",
        "print(regex.split(text),end=\"\\n\\n\")\n",
        "# 매칭되는 모든 패턴 목록 얻기\n",
        "print(regex.findall(text))"
      ],
      "metadata": {
        "colab": {
          "base_uri": "https://localhost:8080/"
        },
        "id": "CWRFdd3Uy2-E",
        "outputId": "f43ff37f-7295-49d1-ecc4-aa83a5124ab6"
      },
      "execution_count": 19,
      "outputs": [
        {
          "output_type": "stream",
          "name": "stdout",
          "text": [
            "['foo', 'bar', 'baz', 'qux']\n",
            "\n",
            "['foo', 'bar', 'baz', 'qux']\n",
            "\n",
            "['     ', '\\t ', '   \\t']\n"
          ]
        }
      ]
    },
    {
      "cell_type": "code",
      "source": [
        "text = \"\"\"Dave dave@google.com\n",
        "Steve steve@gmail.com\n",
        "Rob rob@gmail.com\n",
        "Ryan ryan@yahoo,com\"\"\"\n",
        "pattern = r\"[A-Z0-9._%+-]+@[A-Z0-9.-]+\\.[A-Z]{2,4}\"\n",
        "# 대소문자 구분 하지 않음\n",
        "regex = re.compile(pattern,flags=re.IGNORECASE)"
      ],
      "metadata": {
        "id": "Ig2DE6a87ySk"
      },
      "execution_count": 22,
      "outputs": []
    },
    {
      "cell_type": "code",
      "source": [
        "print(regex.findall(text),end=\"\\n\\n\")\n",
        "# search : 패턴과 일치하는 첫 번째 항목 반환\n",
        "m = regex.search(text)\n",
        "print(text[m.start():m.end()],end=\"\\n\\n\")\n",
        "# match : 문자열에 시작 부분에 일치하는 것만 찾음\n",
        "print(regex.match(text),end=\"\\n\\n\")\n",
        "# sub : 찾은 패턴을 주어진 문자열로 치환하고 새로운 문자열 반환\n",
        "print(regex.sub(\"REDACTED\",text))"
      ],
      "metadata": {
        "colab": {
          "base_uri": "https://localhost:8080/"
        },
        "id": "UT4p1iEu8bzU",
        "outputId": "638ed5b8-77bc-4030-b062-7529ba1021cd"
      },
      "execution_count": 24,
      "outputs": [
        {
          "output_type": "stream",
          "name": "stdout",
          "text": [
            "['dave@google.com', 'steve@gmail.com', 'rob@gmail.com']\n",
            "\n",
            "dave@google.com\n",
            "\n",
            "None\n",
            "\n",
            "Dave REDACTED\n",
            "Steve REDACTED\n",
            "Rob REDACTED\n",
            "Ryan ryan@yahoo,com\n"
          ]
        }
      ]
    },
    {
      "cell_type": "code",
      "source": [
        "# 이름, 도메인, 도메인 접미사로 나누기\n",
        "pattern = r\"([A-Z0-9._%+-]+)@([A-Z0-9.-]+)\\.([A-Z]{2,4})\"\n",
        "regex = re.compile(pattern,flags=re.IGNORECASE)\n",
        "m = regex.match(\"wesm@bright.net\")\n",
        "print(m.groups(),end=\"\\n\\n\")"
      ],
      "metadata": {
        "colab": {
          "base_uri": "https://localhost:8080/"
        },
        "id": "NZWn_waC9As5",
        "outputId": "3441a3ac-56b7-4f54-cede-d5bfcb7f857f"
      },
      "execution_count": 35,
      "outputs": [
        {
          "output_type": "stream",
          "name": "stdout",
          "text": [
            "('wesm', 'bright', 'net')\n",
            "\n"
          ]
        }
      ]
    },
    {
      "cell_type": "code",
      "source": [
        "# 패턴에 그룹이 있다면 findall 메서드는 튜플의 목록을 반환\n",
        "print(regex.findall(text),end=\"\\n\\n\")\n",
        "# sub로 각 패턴 그룹에 접근 하기\n",
        "# \\1 : 첫번째로 찾은 그룹\n",
        "# \\2 : 두번째로 찾은 그룹\n",
        "# \\3 : 세번째로 찾은 그룹\n",
        "print(regex.sub(r\"Username: \\1, Domain: \\2, Suffix: \\3\", text))"
      ],
      "metadata": {
        "colab": {
          "base_uri": "https://localhost:8080/"
        },
        "id": "nEdnKgh1_y-B",
        "outputId": "15e088e0-bb6a-417f-f477-ac1e3c169b12"
      },
      "execution_count": 34,
      "outputs": [
        {
          "output_type": "stream",
          "name": "stdout",
          "text": [
            "[('dave', 'google', 'com'), ('steve', 'gmail', 'com'), ('rob', 'gmail', 'com')]\n",
            "\n",
            "Dave Username: dave, Domain: google, Suffix: com\n",
            "Steve Username: steve, Domain: gmail, Suffix: com\n",
            "Rob Username: rob, Domain: gmail, Suffix: com\n",
            "Ryan ryan@yahoo,com\n"
          ]
        }
      ]
    },
    {
      "cell_type": "markdown",
      "source": [
        "# 판다스의 문자열 함수"
      ],
      "metadata": {
        "id": "x0qODglIC6qo"
      }
    },
    {
      "cell_type": "code",
      "source": [
        "data = {\"Dave\":\"dave@google.com\",\n",
        "        \"Steve\" : \"Steve steve@gmail.com\",\n",
        "        \"Rob\":\"Rob rob@gmail.com\",\n",
        "        \"Wes\":np.nan}\n",
        "data = pd.Series(data)\n",
        "print(data,end=\"\\n\\n\")\n",
        "print(data.isna())"
      ],
      "metadata": {
        "colab": {
          "base_uri": "https://localhost:8080/"
        },
        "id": "4dcTfLvVC8XW",
        "outputId": "e91c5ed1-5029-4496-cb7b-b1cce3c4fcef"
      },
      "execution_count": 44,
      "outputs": [
        {
          "output_type": "stream",
          "name": "stdout",
          "text": [
            "Dave           dave@google.com\n",
            "Steve    Steve steve@gmail.com\n",
            "Rob          Rob rob@gmail.com\n",
            "Wes                        NaN\n",
            "dtype: object\n",
            "\n",
            "Dave     False\n",
            "Steve    False\n",
            "Rob      False\n",
            "Wes       True\n",
            "dtype: bool\n"
          ]
        }
      ]
    },
    {
      "cell_type": "code",
      "source": [
        "# gmail을 포함하는지 확인\n",
        "print(data.str.contains(\"gmail\"),end=\"\\n\\n\")\n",
        "# 타입 변환\n",
        "data_as_string_ext = data.astype(\"string\")\n",
        "print(data_as_string_ext)"
      ],
      "metadata": {
        "colab": {
          "base_uri": "https://localhost:8080/"
        },
        "id": "qIM9UDBLDXw1",
        "outputId": "3da1b409-d61d-4370-a671-0c1e5d189f06"
      },
      "execution_count": 45,
      "outputs": [
        {
          "output_type": "stream",
          "name": "stdout",
          "text": [
            "Dave     False\n",
            "Steve     True\n",
            "Rob       True\n",
            "Wes        NaN\n",
            "dtype: object\n",
            "\n",
            "Dave           dave@google.com\n",
            "Steve    Steve steve@gmail.com\n",
            "Rob          Rob rob@gmail.com\n",
            "Wes                       <NA>\n",
            "dtype: string\n"
          ]
        }
      ]
    },
    {
      "cell_type": "code",
      "source": [
        "# 정규 표현식을 사용\n",
        "pattern = r\"([A-Z0-9._%+-]+)@([A-Z0-9.-]+)\\.([A-Z]{2,4})\"\n",
        "print(data.str.findall(pattern,flags=re.IGNORECASE))"
      ],
      "metadata": {
        "colab": {
          "base_uri": "https://localhost:8080/"
        },
        "id": "RW7fdSgZD-vL",
        "outputId": "db02084e-cfd4-497e-f2a1-70aa6e552c58"
      },
      "execution_count": 46,
      "outputs": [
        {
          "output_type": "stream",
          "name": "stdout",
          "text": [
            "Dave     [(dave, google, com)]\n",
            "Steve    [(steve, gmail, com)]\n",
            "Rob        [(rob, gmail, com)]\n",
            "Wes                        NaN\n",
            "dtype: object\n"
          ]
        }
      ]
    },
    {
      "cell_type": "code",
      "source": [
        "matches = data.str.findall(pattern,flags=re.IGNORECASE).str[0]\n",
        "print(matches,end=\"\\n\\n\")\n",
        "print(matches.str.get(1),end=\"\\n\\n\")"
      ],
      "metadata": {
        "colab": {
          "base_uri": "https://localhost:8080/"
        },
        "id": "_kNI7c4zEoyr",
        "outputId": "d67251b8-5cdb-448e-dc1d-19877793fea9"
      },
      "execution_count": 51,
      "outputs": [
        {
          "output_type": "stream",
          "name": "stdout",
          "text": [
            "Dave     (dave, google, com)\n",
            "Steve    (steve, gmail, com)\n",
            "Rob        (rob, gmail, com)\n",
            "Wes                      NaN\n",
            "dtype: object\n",
            "\n",
            "Dave     google\n",
            "Steve     gmail\n",
            "Rob       gmail\n",
            "Wes         NaN\n",
            "dtype: object\n",
            "\n"
          ]
        }
      ]
    },
    {
      "cell_type": "code",
      "source": [
        "print(data.str[:5],end=\"\\n\\n\")\n",
        "print(data.str.extract(pattern,flags=re.IGNORECASE))"
      ],
      "metadata": {
        "colab": {
          "base_uri": "https://localhost:8080/"
        },
        "id": "HvOj8zd3FLMq",
        "outputId": "86c64ea5-3583-497a-cc8a-8927593a2882"
      },
      "execution_count": 52,
      "outputs": [
        {
          "output_type": "stream",
          "name": "stdout",
          "text": [
            "Dave     dave@\n",
            "Steve    Steve\n",
            "Rob      Rob r\n",
            "Wes        NaN\n",
            "dtype: object\n",
            "\n",
            "           0       1    2\n",
            "Dave    dave  google  com\n",
            "Steve  steve   gmail  com\n",
            "Rob      rob   gmail  com\n",
            "Wes      NaN     NaN  NaN\n"
          ]
        }
      ]
    },
    {
      "cell_type": "markdown",
      "source": [
        "# 범주형 데이터"
      ],
      "metadata": {
        "id": "TyxPMVi0SZiF"
      }
    },
    {
      "cell_type": "code",
      "source": [
        "values = pd.Series([\"apple\",\"orange\",\"apple\",\"apple\"]*2)\n",
        "print(values)"
      ],
      "metadata": {
        "colab": {
          "base_uri": "https://localhost:8080/"
        },
        "id": "OLfQdFXDSa6p",
        "outputId": "b9962491-3e87-43f0-b7d9-163ab545eab9"
      },
      "execution_count": 57,
      "outputs": [
        {
          "output_type": "stream",
          "name": "stdout",
          "text": [
            "0     apple\n",
            "1    orange\n",
            "2     apple\n",
            "3     apple\n",
            "4     apple\n",
            "5    orange\n",
            "6     apple\n",
            "7     apple\n",
            "dtype: object\n"
          ]
        }
      ]
    },
    {
      "cell_type": "code",
      "source": [
        "print(pd.unique(values),end=\"\\n\\n\")\n",
        "print(pd.value_counts(values))"
      ],
      "metadata": {
        "colab": {
          "base_uri": "https://localhost:8080/"
        },
        "id": "CYEgwx_TSjJu",
        "outputId": "078a5a25-a53d-4fc2-cea6-55a39077b390"
      },
      "execution_count": 59,
      "outputs": [
        {
          "output_type": "stream",
          "name": "stdout",
          "text": [
            "['apple' 'orange']\n",
            "\n",
            "apple     6\n",
            "orange    2\n",
            "dtype: int64\n"
          ]
        }
      ]
    },
    {
      "cell_type": "code",
      "source": [
        "values = pd.Series([0,1,0,0]*2)\n",
        "dim = pd.Series(['apple','orange'])\n",
        "print(dim)"
      ],
      "metadata": {
        "colab": {
          "base_uri": "https://localhost:8080/"
        },
        "id": "cqm_BXRMS2PW",
        "outputId": "104965a7-139d-4d76-9092-abb21022566f"
      },
      "execution_count": 60,
      "outputs": [
        {
          "output_type": "stream",
          "name": "stdout",
          "text": [
            "0     apple\n",
            "1    orange\n",
            "dtype: object\n"
          ]
        }
      ]
    },
    {
      "cell_type": "code",
      "source": [
        "print(dim.take(values))"
      ],
      "metadata": {
        "colab": {
          "base_uri": "https://localhost:8080/"
        },
        "id": "Ne9-zaYwTCZ-",
        "outputId": "baa00730-e669-4d6b-f3a1-bca422543ebf"
      },
      "execution_count": 62,
      "outputs": [
        {
          "output_type": "stream",
          "name": "stdout",
          "text": [
            "0     apple\n",
            "1    orange\n",
            "0     apple\n",
            "0     apple\n",
            "0     apple\n",
            "1    orange\n",
            "0     apple\n",
            "0     apple\n",
            "dtype: object\n"
          ]
        }
      ]
    },
    {
      "cell_type": "code",
      "source": [
        "fruits = ['apple','orange','apple','apple']*2\n",
        "N = len(fruits)\n",
        "rng = np.random.default_rng(seed=12345)\n",
        "df = pd.DataFrame({'fruit':fruits,\n",
        "                   'basket_id':np.arange(N),\n",
        "                   'count':rng.integers(3,15,size=N),\n",
        "                   'weight':rng.uniform(0,4,size=N)},\n",
        "                  columns=['basket_id','fruit','count','weight'])\n",
        "print(df)"
      ],
      "metadata": {
        "colab": {
          "base_uri": "https://localhost:8080/"
        },
        "id": "mqTEqfHsXy23",
        "outputId": "c9b106a8-6760-4cfa-bd79-2be79f08140e"
      },
      "execution_count": 64,
      "outputs": [
        {
          "output_type": "stream",
          "name": "stdout",
          "text": [
            "   basket_id   fruit  count    weight\n",
            "0          0   apple     11  1.564438\n",
            "1          1  orange      5  1.331256\n",
            "2          2   apple     12  2.393235\n",
            "3          3   apple      6  0.746937\n",
            "4          4   apple      5  2.691024\n",
            "5          5  orange     12  3.767211\n",
            "6          6   apple     10  0.992983\n",
            "7          7   apple     11  3.795525\n"
          ]
        }
      ]
    },
    {
      "cell_type": "code",
      "source": [
        "# 범주형 데이터로 변환\n",
        "fruit_cat = df['fruit'].astype('category')\n",
        "print(fruit_cat,end='\\n\\n')\n",
        "c = fruit_cat.array\n",
        "print(type(c))"
      ],
      "metadata": {
        "colab": {
          "base_uri": "https://localhost:8080/"
        },
        "id": "1_vL71hiYbti",
        "outputId": "26cfd098-526b-4d12-e97e-0e4868772e7d"
      },
      "execution_count": 67,
      "outputs": [
        {
          "output_type": "stream",
          "name": "stdout",
          "text": [
            "0     apple\n",
            "1    orange\n",
            "2     apple\n",
            "3     apple\n",
            "4     apple\n",
            "5    orange\n",
            "6     apple\n",
            "7     apple\n",
            "Name: fruit, dtype: category\n",
            "Categories (2, object): ['apple', 'orange']\n",
            "\n",
            "<class 'pandas.core.arrays.categorical.Categorical'>\n"
          ]
        }
      ]
    },
    {
      "cell_type": "code",
      "source": [
        "# categorical 객체의 속성\n",
        "print(c.categories,end='\\n\\n')\n",
        "print(c.codes,end='\\n\\n')\n",
        "print(dict(enumerate(c.categories)))"
      ],
      "metadata": {
        "colab": {
          "base_uri": "https://localhost:8080/"
        },
        "id": "UwO86KswYvUy",
        "outputId": "d89fc15e-34d3-443c-e023-36e8ee472a97"
      },
      "execution_count": 69,
      "outputs": [
        {
          "output_type": "stream",
          "name": "stdout",
          "text": [
            "Index(['apple', 'orange'], dtype='object')\n",
            "\n",
            "[0 1 0 0 0 1 0 0]\n",
            "\n",
            "{0: 'apple', 1: 'orange'}\n"
          ]
        }
      ]
    },
    {
      "cell_type": "code",
      "source": [
        "# 열을 범주형으로 바꾸기\n",
        "df['fruit'] = df['fruit'].astype('category')\n",
        "print(df)"
      ],
      "metadata": {
        "colab": {
          "base_uri": "https://localhost:8080/"
        },
        "id": "7WxN1fZDZNl_",
        "outputId": "44f9e5f5-eefd-4909-b84e-71c22aedbf78"
      },
      "execution_count": 68,
      "outputs": [
        {
          "output_type": "stream",
          "name": "stdout",
          "text": [
            "   basket_id   fruit  count    weight\n",
            "0          0   apple     11  1.564438\n",
            "1          1  orange      5  1.331256\n",
            "2          2   apple     12  2.393235\n",
            "3          3   apple      6  0.746937\n",
            "4          4   apple      5  2.691024\n",
            "5          5  orange     12  3.767211\n",
            "6          6   apple     10  0.992983\n",
            "7          7   apple     11  3.795525\n"
          ]
        }
      ]
    },
    {
      "cell_type": "code",
      "source": [
        "# 파이썬 시퀀스에서 범주형 데이터 생성\n",
        "my_categories = pd.Categorical(['foo','bar','baz','foo','bar'])\n",
        "print(my_categories,end='\\n\\n')\n",
        "# 기존에 정으된 범주와 범주 코드로 범주형 데이터 생성\n",
        "categories = ['foo','bar','baz']\n",
        "codes = [0,1,2,0,0,1]\n",
        "my_cat2 = pd.Categorical.from_codes(codes,categories)\n",
        "print(my_cat2)"
      ],
      "metadata": {
        "colab": {
          "base_uri": "https://localhost:8080/"
        },
        "id": "rPT3eMmqZk3e",
        "outputId": "607b06e5-97de-4271-ee7e-703d7238e2b7"
      },
      "execution_count": 71,
      "outputs": [
        {
          "output_type": "stream",
          "name": "stdout",
          "text": [
            "['foo', 'bar', 'baz', 'foo', 'bar']\n",
            "Categories (3, object): ['bar', 'baz', 'foo']\n",
            "\n",
            "['foo', 'bar', 'baz', 'foo', 'foo', 'bar']\n",
            "Categories (3, object): ['foo', 'bar', 'baz']\n"
          ]
        }
      ]
    },
    {
      "cell_type": "code",
      "source": [
        "ordered_cat = pd.Categorical.from_codes(codes,categories,ordered=True)\n",
        "print(ordered_cat,end=\"\\n\\n\")\n",
        "print(my_cat2.as_ordered())"
      ],
      "metadata": {
        "colab": {
          "base_uri": "https://localhost:8080/"
        },
        "id": "6mCCxSe2ajyJ",
        "outputId": "842a12d7-ea0a-4f42-9f88-9db4f4e9840a"
      },
      "execution_count": 73,
      "outputs": [
        {
          "output_type": "stream",
          "name": "stdout",
          "text": [
            "['foo', 'bar', 'baz', 'foo', 'foo', 'bar']\n",
            "Categories (3, object): ['foo' < 'bar' < 'baz']\n",
            "\n",
            "['foo', 'bar', 'baz', 'foo', 'foo', 'bar']\n",
            "Categories (3, object): ['foo' < 'bar' < 'baz']\n"
          ]
        }
      ]
    },
    {
      "cell_type": "markdown",
      "source": [
        "# Categorical 연산"
      ],
      "metadata": {
        "id": "10YMSFxccVQ0"
      }
    },
    {
      "cell_type": "code",
      "source": [
        "rng = np.random.default_rng(seed=12345)\n",
        "draws = rng.standard_normal(1000)\n",
        "print(draws[:5])"
      ],
      "metadata": {
        "colab": {
          "base_uri": "https://localhost:8080/"
        },
        "id": "IhCRqrqgcdOZ",
        "outputId": "046b4efc-e009-4d35-fb40-09ac5f62278d"
      },
      "execution_count": 75,
      "outputs": [
        {
          "output_type": "stream",
          "name": "stdout",
          "text": [
            "[-1.42382504  1.26372846 -0.87066174 -0.25917323 -0.07534331]\n"
          ]
        }
      ]
    },
    {
      "cell_type": "code",
      "source": [
        "bins = pd.qcut(draws,4)\n",
        "print(bins)"
      ],
      "metadata": {
        "colab": {
          "base_uri": "https://localhost:8080/"
        },
        "id": "-pJY7LYfeJut",
        "outputId": "bc188ef3-55de-4312-b7fa-b9bd37576e76"
      },
      "execution_count": 76,
      "outputs": [
        {
          "output_type": "stream",
          "name": "stdout",
          "text": [
            "[(-3.121, -0.675], (0.687, 3.211], (-3.121, -0.675], (-0.675, 0.0134], (-0.675, 0.0134], ..., (0.0134, 0.687], (0.0134, 0.687], (-0.675, 0.0134], (0.0134, 0.687], (-0.675, 0.0134]]\n",
            "Length: 1000\n",
            "Categories (4, interval[float64, right]): [(-3.121, -0.675] < (-0.675, 0.0134] < (0.0134, 0.687] <\n",
            "                                           (0.687, 3.211]]\n"
          ]
        }
      ]
    },
    {
      "cell_type": "code",
      "source": [
        "bins=pd.qcut(draws,4,labels=['Q1','Q2','Q3','Q4'])\n",
        "print(bins,end='\\n\\n')\n",
        "print(bins.codes[:10])"
      ],
      "metadata": {
        "colab": {
          "base_uri": "https://localhost:8080/"
        },
        "id": "k_8bP-FJeOgd",
        "outputId": "007fed31-d38f-45b3-aa90-be6b36ed1067"
      },
      "execution_count": 78,
      "outputs": [
        {
          "output_type": "stream",
          "name": "stdout",
          "text": [
            "['Q1', 'Q4', 'Q1', 'Q2', 'Q2', ..., 'Q3', 'Q3', 'Q2', 'Q3', 'Q2']\n",
            "Length: 1000\n",
            "Categories (4, object): ['Q1' < 'Q2' < 'Q3' < 'Q4']\n",
            "\n",
            "[0 3 0 1 1 0 0 2 2 0]\n"
          ]
        }
      ]
    },
    {
      "cell_type": "code",
      "source": [
        "# groupby로 요약 통계 추출\n",
        "bins = pd.Series(bins,name='quartile')\n",
        "results = (pd.Series(draws)\n",
        "          .groupby(bins)\n",
        "          .agg(['count','min','max'])\n",
        "          .reset_index())\n",
        "print(results,end='\\n\\n')\n",
        "# quartile 열은 bins 순서를\n",
        "# 포함한 원래 범주 정보 유지\n",
        "print(results['quartile'])"
      ],
      "metadata": {
        "colab": {
          "base_uri": "https://localhost:8080/"
        },
        "id": "BeRRqsjEfDn6",
        "outputId": "e24ebc7b-91e7-4851-cd6a-d8e037781e8e"
      },
      "execution_count": 84,
      "outputs": [
        {
          "output_type": "stream",
          "name": "stdout",
          "text": [
            "  quartile  count       min       max\n",
            "0       Q1    250 -3.119609 -0.678494\n",
            "1       Q2    250 -0.673305  0.008009\n",
            "2       Q3    250  0.018753  0.686183\n",
            "3       Q4    250  0.688282  3.211418\n",
            "\n",
            "0    Q1\n",
            "1    Q2\n",
            "2    Q3\n",
            "3    Q4\n",
            "Name: quartile, dtype: category\n",
            "Categories (4, object): ['Q1' < 'Q2' < 'Q3' < 'Q4']\n"
          ]
        }
      ]
    },
    {
      "cell_type": "code",
      "source": [
        "# 범주형을 활용한 성능 개선\n",
        "N = 10_000_000\n",
        "labels = pd.Series(['foo','bar','baz','qux'] * (N // 4))\n",
        "categories = labels.astype('category')\n",
        "print(labels.memory_usage(deep=True))\n",
        "# categories가 더 적은 메모리를 사용\n",
        "print(categories.memory_usage(deep=True))"
      ],
      "metadata": {
        "colab": {
          "base_uri": "https://localhost:8080/"
        },
        "id": "pCG4Uwdvft25",
        "outputId": "a332f709-415e-4835-d4ef-354b0de7f10d"
      },
      "execution_count": 85,
      "outputs": [
        {
          "output_type": "stream",
          "name": "stdout",
          "text": [
            "600000128\n",
            "10000540\n"
          ]
        }
      ]
    },
    {
      "cell_type": "code",
      "source": [
        "# 범주형으로 변경하는 일회성 비용\n",
        "%time _ = labels.astype('category')"
      ],
      "metadata": {
        "colab": {
          "base_uri": "https://localhost:8080/"
        },
        "id": "emAj7bklgwTZ",
        "outputId": "655f63be-3054-429b-dba1-4b1708216412"
      },
      "execution_count": 86,
      "outputs": [
        {
          "output_type": "stream",
          "name": "stdout",
          "text": [
            "CPU times: user 561 ms, sys: 148 ms, total: 708 ms\n",
            "Wall time: 735 ms\n"
          ]
        }
      ]
    },
    {
      "cell_type": "code",
      "source": [
        "# groupyBy의 성능\n",
        "%timeit labels.value_counts()"
      ],
      "metadata": {
        "colab": {
          "base_uri": "https://localhost:8080/"
        },
        "id": "niumraEKg6eO",
        "outputId": "905a2955-f004-4cb9-9cf2-1187d4dfb939"
      },
      "execution_count": 88,
      "outputs": [
        {
          "output_type": "stream",
          "name": "stdout",
          "text": [
            "700 ms ± 345 ms per loop (mean ± std. dev. of 7 runs, 1 loop each)\n"
          ]
        }
      ]
    },
    {
      "cell_type": "code",
      "source": [
        "# value_counts()의 성능\n",
        "%timeit categories.value_counts()"
      ],
      "metadata": {
        "colab": {
          "base_uri": "https://localhost:8080/"
        },
        "id": "eyoX0giBg94J",
        "outputId": "cb7a828b-2959-44e1-c610-65602ea2bf84"
      },
      "execution_count": 89,
      "outputs": [
        {
          "output_type": "stream",
          "name": "stdout",
          "text": [
            "66.5 ms ± 6.33 ms per loop (mean ± std. dev. of 7 runs, 10 loops each)\n"
          ]
        }
      ]
    },
    {
      "cell_type": "markdown",
      "source": [
        "# Categorical 메서드"
      ],
      "metadata": {
        "id": "VG_qaTxWhXei"
      }
    },
    {
      "cell_type": "code",
      "source": [
        "s = pd.Series(['a','b','c','d']*2)\n",
        "cat_s = s.astype('category')\n",
        "\n",
        "print(cat_s,end='\\n\\n')"
      ],
      "metadata": {
        "colab": {
          "base_uri": "https://localhost:8080/"
        },
        "id": "voITjZfhevEY",
        "outputId": "02b2d6ac-ba1d-4a8c-f032-8cd82786b098"
      },
      "execution_count": 94,
      "outputs": [
        {
          "output_type": "stream",
          "name": "stdout",
          "text": [
            "0    a\n",
            "1    b\n",
            "2    c\n",
            "3    d\n",
            "4    a\n",
            "5    b\n",
            "6    c\n",
            "7    d\n",
            "dtype: category\n",
            "Categories (4, object): ['a', 'b', 'c', 'd']\n",
            "\n"
          ]
        }
      ]
    },
    {
      "cell_type": "code",
      "source": [
        "# cat 속성으로 Categorical 메서드 접근\n",
        "print(cat_s.cat.codes,end='\\n\\n')\n",
        "print(cat_s.cat.categories)"
      ],
      "metadata": {
        "colab": {
          "base_uri": "https://localhost:8080/"
        },
        "id": "DAfbUGZliGb4",
        "outputId": "8c8abb05-7411-43f6-c475-f3fd1516b4b6"
      },
      "execution_count": 95,
      "outputs": [
        {
          "output_type": "stream",
          "name": "stdout",
          "text": [
            "0    0\n",
            "1    1\n",
            "2    2\n",
            "3    3\n",
            "4    0\n",
            "5    1\n",
            "6    2\n",
            "7    3\n",
            "dtype: int8\n",
            "\n",
            "Index(['a', 'b', 'c', 'd'], dtype='object')\n"
          ]
        }
      ]
    },
    {
      "cell_type": "code",
      "source": [
        "# 실제 데이터 범주의 종류를 알고있을 경우\n",
        "# set_categories 메서드로 범주를 변경 가능\n",
        "actual_categories = ['a','b','c','d','e']\n",
        "cat_s2 = cat_s.cat.set_categories(actual_categories)\n",
        "print(cat_s2)"
      ],
      "metadata": {
        "colab": {
          "base_uri": "https://localhost:8080/"
        },
        "id": "RYfGPhtdsIC6",
        "outputId": "9384e6be-ac5b-4325-abcf-41e12ebc0d21"
      },
      "execution_count": 99,
      "outputs": [
        {
          "output_type": "stream",
          "name": "stdout",
          "text": [
            "0    a\n",
            "1    b\n",
            "2    c\n",
            "3    d\n",
            "4    a\n",
            "5    b\n",
            "6    c\n",
            "7    d\n",
            "dtype: category\n",
            "Categories (5, object): ['a', 'b', 'c', 'd', 'e']\n"
          ]
        }
      ]
    },
    {
      "cell_type": "code",
      "source": [
        "print(cat_s.value_counts(),end='\\n\\n')\n",
        "print(cat_s2.value_counts())"
      ],
      "metadata": {
        "colab": {
          "base_uri": "https://localhost:8080/"
        },
        "id": "LpfW0wn3tVp3",
        "outputId": "fa685437-4a4c-4f88-e450-6b86404057fa"
      },
      "execution_count": 100,
      "outputs": [
        {
          "output_type": "stream",
          "name": "stdout",
          "text": [
            "a    2\n",
            "b    2\n",
            "c    2\n",
            "d    2\n",
            "dtype: int64\n",
            "\n",
            "a    2\n",
            "b    2\n",
            "c    2\n",
            "d    2\n",
            "e    0\n",
            "dtype: int64\n"
          ]
        }
      ]
    },
    {
      "cell_type": "code",
      "source": [
        "# 관측되지 않는 범주를 제거\n",
        "cat_s3 = cat_s[cat_s.isin(['a','b'])]\n",
        "print(cat_s3,end='\\n\\n')\n",
        "print(cat_s3.cat.remove_unused_categories())"
      ],
      "metadata": {
        "colab": {
          "base_uri": "https://localhost:8080/"
        },
        "id": "Vr4XI2O0tle4",
        "outputId": "8b8a9e4d-a309-48ee-8256-b53b15207913"
      },
      "execution_count": 101,
      "outputs": [
        {
          "output_type": "stream",
          "name": "stdout",
          "text": [
            "0    a\n",
            "1    b\n",
            "4    a\n",
            "5    b\n",
            "dtype: category\n",
            "Categories (4, object): ['a', 'b', 'c', 'd']\n",
            "\n",
            "0    a\n",
            "1    b\n",
            "4    a\n",
            "5    b\n",
            "dtype: category\n",
            "Categories (2, object): ['a', 'b']\n"
          ]
        }
      ]
    },
    {
      "cell_type": "markdown",
      "source": [
        "# 모델링을 위한 더미변수 생성"
      ],
      "metadata": {
        "id": "9roVlOh_wKBa"
      }
    },
    {
      "cell_type": "code",
      "source": [
        "cat_s = pd.Series(['a','b','c','d']*2,dtype='category')\n",
        "pd.get_dummies(cat_s,dtype=float)"
      ],
      "metadata": {
        "colab": {
          "base_uri": "https://localhost:8080/",
          "height": 300
        },
        "id": "VWnW4g4LwMX0",
        "outputId": "dd0eebe1-8e6e-4f60-af3e-35e37172f6c0"
      },
      "execution_count": 104,
      "outputs": [
        {
          "output_type": "execute_result",
          "data": {
            "text/plain": [
              "     a    b    c    d\n",
              "0  1.0  0.0  0.0  0.0\n",
              "1  0.0  1.0  0.0  0.0\n",
              "2  0.0  0.0  1.0  0.0\n",
              "3  0.0  0.0  0.0  1.0\n",
              "4  1.0  0.0  0.0  0.0\n",
              "5  0.0  1.0  0.0  0.0\n",
              "6  0.0  0.0  1.0  0.0\n",
              "7  0.0  0.0  0.0  1.0"
            ],
            "text/html": [
              "\n",
              "\n",
              "  <div id=\"df-0a54ffd6-4c7b-42a3-b21a-dfa30a3c657e\">\n",
              "    <div class=\"colab-df-container\">\n",
              "      <div>\n",
              "<style scoped>\n",
              "    .dataframe tbody tr th:only-of-type {\n",
              "        vertical-align: middle;\n",
              "    }\n",
              "\n",
              "    .dataframe tbody tr th {\n",
              "        vertical-align: top;\n",
              "    }\n",
              "\n",
              "    .dataframe thead th {\n",
              "        text-align: right;\n",
              "    }\n",
              "</style>\n",
              "<table border=\"1\" class=\"dataframe\">\n",
              "  <thead>\n",
              "    <tr style=\"text-align: right;\">\n",
              "      <th></th>\n",
              "      <th>a</th>\n",
              "      <th>b</th>\n",
              "      <th>c</th>\n",
              "      <th>d</th>\n",
              "    </tr>\n",
              "  </thead>\n",
              "  <tbody>\n",
              "    <tr>\n",
              "      <th>0</th>\n",
              "      <td>1.0</td>\n",
              "      <td>0.0</td>\n",
              "      <td>0.0</td>\n",
              "      <td>0.0</td>\n",
              "    </tr>\n",
              "    <tr>\n",
              "      <th>1</th>\n",
              "      <td>0.0</td>\n",
              "      <td>1.0</td>\n",
              "      <td>0.0</td>\n",
              "      <td>0.0</td>\n",
              "    </tr>\n",
              "    <tr>\n",
              "      <th>2</th>\n",
              "      <td>0.0</td>\n",
              "      <td>0.0</td>\n",
              "      <td>1.0</td>\n",
              "      <td>0.0</td>\n",
              "    </tr>\n",
              "    <tr>\n",
              "      <th>3</th>\n",
              "      <td>0.0</td>\n",
              "      <td>0.0</td>\n",
              "      <td>0.0</td>\n",
              "      <td>1.0</td>\n",
              "    </tr>\n",
              "    <tr>\n",
              "      <th>4</th>\n",
              "      <td>1.0</td>\n",
              "      <td>0.0</td>\n",
              "      <td>0.0</td>\n",
              "      <td>0.0</td>\n",
              "    </tr>\n",
              "    <tr>\n",
              "      <th>5</th>\n",
              "      <td>0.0</td>\n",
              "      <td>1.0</td>\n",
              "      <td>0.0</td>\n",
              "      <td>0.0</td>\n",
              "    </tr>\n",
              "    <tr>\n",
              "      <th>6</th>\n",
              "      <td>0.0</td>\n",
              "      <td>0.0</td>\n",
              "      <td>1.0</td>\n",
              "      <td>0.0</td>\n",
              "    </tr>\n",
              "    <tr>\n",
              "      <th>7</th>\n",
              "      <td>0.0</td>\n",
              "      <td>0.0</td>\n",
              "      <td>0.0</td>\n",
              "      <td>1.0</td>\n",
              "    </tr>\n",
              "  </tbody>\n",
              "</table>\n",
              "</div>\n",
              "      <button class=\"colab-df-convert\" onclick=\"convertToInteractive('df-0a54ffd6-4c7b-42a3-b21a-dfa30a3c657e')\"\n",
              "              title=\"Convert this dataframe to an interactive table.\"\n",
              "              style=\"display:none;\">\n",
              "\n",
              "  <svg xmlns=\"http://www.w3.org/2000/svg\" height=\"24px\"viewBox=\"0 0 24 24\"\n",
              "       width=\"24px\">\n",
              "    <path d=\"M0 0h24v24H0V0z\" fill=\"none\"/>\n",
              "    <path d=\"M18.56 5.44l.94 2.06.94-2.06 2.06-.94-2.06-.94-.94-2.06-.94 2.06-2.06.94zm-11 1L8.5 8.5l.94-2.06 2.06-.94-2.06-.94L8.5 2.5l-.94 2.06-2.06.94zm10 10l.94 2.06.94-2.06 2.06-.94-2.06-.94-.94-2.06-.94 2.06-2.06.94z\"/><path d=\"M17.41 7.96l-1.37-1.37c-.4-.4-.92-.59-1.43-.59-.52 0-1.04.2-1.43.59L10.3 9.45l-7.72 7.72c-.78.78-.78 2.05 0 2.83L4 21.41c.39.39.9.59 1.41.59.51 0 1.02-.2 1.41-.59l7.78-7.78 2.81-2.81c.8-.78.8-2.07 0-2.86zM5.41 20L4 18.59l7.72-7.72 1.47 1.35L5.41 20z\"/>\n",
              "  </svg>\n",
              "      </button>\n",
              "\n",
              "\n",
              "\n",
              "    <div id=\"df-c8b5fd77-3db9-45ed-943b-c2ef6b12bf69\">\n",
              "      <button class=\"colab-df-quickchart\" onclick=\"quickchart('df-c8b5fd77-3db9-45ed-943b-c2ef6b12bf69')\"\n",
              "              title=\"Suggest charts.\"\n",
              "              style=\"display:none;\">\n",
              "\n",
              "<svg xmlns=\"http://www.w3.org/2000/svg\" height=\"24px\"viewBox=\"0 0 24 24\"\n",
              "     width=\"24px\">\n",
              "    <g>\n",
              "        <path d=\"M19 3H5c-1.1 0-2 .9-2 2v14c0 1.1.9 2 2 2h14c1.1 0 2-.9 2-2V5c0-1.1-.9-2-2-2zM9 17H7v-7h2v7zm4 0h-2V7h2v10zm4 0h-2v-4h2v4z\"/>\n",
              "    </g>\n",
              "</svg>\n",
              "      </button>\n",
              "    </div>\n",
              "\n",
              "<style>\n",
              "  .colab-df-quickchart {\n",
              "    background-color: #E8F0FE;\n",
              "    border: none;\n",
              "    border-radius: 50%;\n",
              "    cursor: pointer;\n",
              "    display: none;\n",
              "    fill: #1967D2;\n",
              "    height: 32px;\n",
              "    padding: 0 0 0 0;\n",
              "    width: 32px;\n",
              "  }\n",
              "\n",
              "  .colab-df-quickchart:hover {\n",
              "    background-color: #E2EBFA;\n",
              "    box-shadow: 0px 1px 2px rgba(60, 64, 67, 0.3), 0px 1px 3px 1px rgba(60, 64, 67, 0.15);\n",
              "    fill: #174EA6;\n",
              "  }\n",
              "\n",
              "  [theme=dark] .colab-df-quickchart {\n",
              "    background-color: #3B4455;\n",
              "    fill: #D2E3FC;\n",
              "  }\n",
              "\n",
              "  [theme=dark] .colab-df-quickchart:hover {\n",
              "    background-color: #434B5C;\n",
              "    box-shadow: 0px 1px 3px 1px rgba(0, 0, 0, 0.15);\n",
              "    filter: drop-shadow(0px 1px 2px rgba(0, 0, 0, 0.3));\n",
              "    fill: #FFFFFF;\n",
              "  }\n",
              "</style>\n",
              "\n",
              "    <script>\n",
              "      async function quickchart(key) {\n",
              "        const containerElement = document.querySelector('#' + key);\n",
              "        const charts = await google.colab.kernel.invokeFunction(\n",
              "            'suggestCharts', [key], {});\n",
              "      }\n",
              "    </script>\n",
              "\n",
              "      <script>\n",
              "\n",
              "function displayQuickchartButton(domScope) {\n",
              "  let quickchartButtonEl =\n",
              "    domScope.querySelector('#df-c8b5fd77-3db9-45ed-943b-c2ef6b12bf69 button.colab-df-quickchart');\n",
              "  quickchartButtonEl.style.display =\n",
              "    google.colab.kernel.accessAllowed ? 'block' : 'none';\n",
              "}\n",
              "\n",
              "        displayQuickchartButton(document);\n",
              "      </script>\n",
              "      <style>\n",
              "    .colab-df-container {\n",
              "      display:flex;\n",
              "      flex-wrap:wrap;\n",
              "      gap: 12px;\n",
              "    }\n",
              "\n",
              "    .colab-df-convert {\n",
              "      background-color: #E8F0FE;\n",
              "      border: none;\n",
              "      border-radius: 50%;\n",
              "      cursor: pointer;\n",
              "      display: none;\n",
              "      fill: #1967D2;\n",
              "      height: 32px;\n",
              "      padding: 0 0 0 0;\n",
              "      width: 32px;\n",
              "    }\n",
              "\n",
              "    .colab-df-convert:hover {\n",
              "      background-color: #E2EBFA;\n",
              "      box-shadow: 0px 1px 2px rgba(60, 64, 67, 0.3), 0px 1px 3px 1px rgba(60, 64, 67, 0.15);\n",
              "      fill: #174EA6;\n",
              "    }\n",
              "\n",
              "    [theme=dark] .colab-df-convert {\n",
              "      background-color: #3B4455;\n",
              "      fill: #D2E3FC;\n",
              "    }\n",
              "\n",
              "    [theme=dark] .colab-df-convert:hover {\n",
              "      background-color: #434B5C;\n",
              "      box-shadow: 0px 1px 3px 1px rgba(0, 0, 0, 0.15);\n",
              "      filter: drop-shadow(0px 1px 2px rgba(0, 0, 0, 0.3));\n",
              "      fill: #FFFFFF;\n",
              "    }\n",
              "  </style>\n",
              "\n",
              "      <script>\n",
              "        const buttonEl =\n",
              "          document.querySelector('#df-0a54ffd6-4c7b-42a3-b21a-dfa30a3c657e button.colab-df-convert');\n",
              "        buttonEl.style.display =\n",
              "          google.colab.kernel.accessAllowed ? 'block' : 'none';\n",
              "\n",
              "        async function convertToInteractive(key) {\n",
              "          const element = document.querySelector('#df-0a54ffd6-4c7b-42a3-b21a-dfa30a3c657e');\n",
              "          const dataTable =\n",
              "            await google.colab.kernel.invokeFunction('convertToInteractive',\n",
              "                                                     [key], {});\n",
              "          if (!dataTable) return;\n",
              "\n",
              "          const docLinkHtml = 'Like what you see? Visit the ' +\n",
              "            '<a target=\"_blank\" href=https://colab.research.google.com/notebooks/data_table.ipynb>data table notebook</a>'\n",
              "            + ' to learn more about interactive tables.';\n",
              "          element.innerHTML = '';\n",
              "          dataTable['output_type'] = 'display_data';\n",
              "          await google.colab.output.renderOutput(dataTable, element);\n",
              "          const docLink = document.createElement('div');\n",
              "          docLink.innerHTML = docLinkHtml;\n",
              "          element.appendChild(docLink);\n",
              "        }\n",
              "      </script>\n",
              "    </div>\n",
              "  </div>\n"
            ]
          },
          "metadata": {},
          "execution_count": 104
        }
      ]
    }
  ]
}